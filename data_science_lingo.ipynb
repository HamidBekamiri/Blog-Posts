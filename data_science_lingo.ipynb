{
 "cells": [
  {
   "cell_type": "markdown",
   "id": "160d0849",
   "metadata": {},
   "source": [
    "# Data Science Lingo for Economists"
   ]
  },
  {
   "cell_type": "markdown",
   "id": "1f84d252",
   "metadata": {},
   "source": []
  },
  {
   "cell_type": "markdown",
   "id": "55d878f0",
   "metadata": {},
   "source": [
    "## A/B Testing"
   ]
  },
  {
   "cell_type": "markdown",
   "id": "56dd69fe",
   "metadata": {},
   "source": [
    "First, and most important, it's A/B testing. This term is so pervasive in data science that it's very unlikely that you did not hear of it. However, in case you did not, an A/B test is a **randomized experiment** or randomized control trial."
   ]
  },
  {
   "cell_type": "markdown",
   "id": "018c5671",
   "metadata": {},
   "source": [
    "## A/A Testing"
   ]
  },
  {
   "cell_type": "markdown",
   "id": "e1da4518",
   "metadata": {},
   "source": [
    "Closely related to the A/B test is the A/A test. Since the \"A\" and \"B\" letters in A/B test refer to the control and treatment arm of the test, what are we exactly comparing in an A/A test?\n",
    "\n",
    "An A/A test is a "
   ]
  },
  {
   "cell_type": "markdown",
   "id": "25e20f47",
   "metadata": {},
   "source": [
    "## Feature"
   ]
  },
  {
   "cell_type": "markdown",
   "id": "d739c603",
   "metadata": {},
   "source": [
    "What is a feature in a dataset? It's simply a **variable**."
   ]
  },
  {
   "cell_type": "markdown",
   "id": "dd5109e8",
   "metadata": {},
   "source": [
    "## Practical Significance"
   ]
  },
  {
   "cell_type": "markdown",
   "id": "2ba9b7f8",
   "metadata": {},
   "source": [
    "What is the practical significance of an A/B test? \n",
    "\n",
    "With practical significance, data scientists typically refer to the magnitude of the estimated treatment effect. Sometimes, the treatment effect is not statistically significant, but it's sufficiently large to be \"practically significant\". \n",
    "\n",
    "These are cases in which the test is under-powered and was not designed to detect effects that are deemed valuable. "
   ]
  },
  {
   "cell_type": "markdown",
   "id": "0dd8db10",
   "metadata": {},
   "source": [
    "## Lift"
   ]
  },
  {
   "cell_type": "markdown",
   "id": "0e9ad947",
   "metadata": {},
   "source": [
    "What is the **lift** in a A/B test? The lift a the percentage increase in the metric of interest. \n",
    "\n",
    "It's referred ex-post as the observed lift that can be attributed to the A/B test. But it can also be referred to ex-ant as the minimum detectable lift of the A/B test, given the significance level, the power of the test and the sample size."
   ]
  },
  {
   "cell_type": "markdown",
   "id": "b57305c3",
   "metadata": {},
   "source": [
    "## Churn"
   ]
  },
  {
   "cell_type": "markdown",
   "id": "0732a704",
   "metadata": {},
   "source": [
    "Churn is a word that is not necessarily directly related to A/B tests, but pops up a lot. Churn is the opposite of customer retention: it means losing customers."
   ]
  },
  {
   "cell_type": "code",
   "execution_count": null,
   "id": "f860dd94",
   "metadata": {},
   "outputs": [],
   "source": []
  }
 ],
 "metadata": {
  "@webio": {
   "lastCommId": null,
   "lastKernelId": null
  },
  "kernelspec": {
   "display_name": "Python (conda)",
   "language": "python",
   "name": "base"
  },
  "language_info": {
   "codemirror_mode": {
    "name": "ipython",
    "version": 3
   },
   "file_extension": ".py",
   "mimetype": "text/x-python",
   "name": "python",
   "nbconvert_exporter": "python",
   "pygments_lexer": "ipython3",
   "version": "3.9.7"
  },
  "toc": {
   "base_numbering": 1,
   "nav_menu": {},
   "number_sections": false,
   "sideBar": true,
   "skip_h1_title": true,
   "title_cell": "Table of Contents",
   "title_sidebar": "Contents",
   "toc_cell": false,
   "toc_position": {},
   "toc_section_display": true,
   "toc_window_display": true
  },
  "varInspector": {
   "cols": {
    "lenName": 16,
    "lenType": 16,
    "lenVar": 40
   },
   "kernels_config": {
    "python": {
     "delete_cmd_postfix": "",
     "delete_cmd_prefix": "del ",
     "library": "var_list.py",
     "varRefreshCmd": "print(var_dic_list())"
    },
    "r": {
     "delete_cmd_postfix": ") ",
     "delete_cmd_prefix": "rm(",
     "library": "var_list.r",
     "varRefreshCmd": "cat(var_dic_list()) "
    }
   },
   "types_to_exclude": [
    "module",
    "function",
    "builtin_function_or_method",
    "instance",
    "_Feature"
   ],
   "window_display": false
  }
 },
 "nbformat": 4,
 "nbformat_minor": 5
}
