{
 "cells": [
  {
   "cell_type": "markdown",
   "id": "1ce4c42b",
   "metadata": {},
   "source": [
    "# Understanding Combinations and Permutations"
   ]
  },
  {
   "cell_type": "markdown",
   "id": "c080081a",
   "metadata": {},
   "source": [
    "How many times did you face questions starting with \"*Suppose you have an urn with three red balls and five blue balls, ...*\"? The answer for me is, not often since high-school, but recently they popped up again in **data science interviews**. \n",
    "\n",
    "Despite countless classes in statistics, I still take a deep breath and hope I won't embarrass myself too much. My main problem is that I get crazy confused with binary labels, especially if the label itself is not too intuitive. \n",
    "\n",
    "Some non-intuitive (for me) binary labels include:\n",
    "\n",
    "- [sine and cosine](https://en.wikipedia.org/wiki/Sine_and_cosine)\n",
    "- [concavity and convexity](https://en.wikipedia.org/wiki/Concave_function)\n",
    "- [precision and recall](https://en.wikipedia.org/wiki/Precision_and_recall)\n",
    "- [type 1 and type 2 error rate](https://en.wikipedia.org/wiki/Type_I_and_type_II_errors)\n",
    "\n",
    "And last but not least, **combinations and permutations**.\n",
    "\n",
    "So this blog post is an attempt to clarify once and for all the difference between the two and get some practice. "
   ]
  },
  {
   "cell_type": "markdown",
   "id": "7c602d3c",
   "metadata": {},
   "source": [
    "## The Math"
   ]
  },
  {
   "cell_type": "markdown",
   "id": "2fd0cdd7",
   "metadata": {},
   "source": [
    "### Permutations vs Combinations"
   ]
  },
  {
   "cell_type": "markdown",
   "id": "4290d4c0",
   "metadata": {},
   "source": [
    "The main **difference** between combinations and permutations is **order**. In particular:\n",
    "\n",
    "- Permutations: order matters\n",
    "- Combinations: order does *not* matter\n",
    "\n",
    "What does it mean **in practice**? \n",
    "\n",
    "One rule of thumb is to check whether the individual objects are **identifiable**. For example:\n",
    "\n",
    "- Urn with blue and red balls: the individual ball is not identifiable, therefore we are talking about combinations\n",
    "- Deck of cards: individual cards are identifiable, therefore it could be either way\n",
    "\n",
    "Also, **note** that for any problem, the number of permutations is always weakly *larger* than the number of combinations. The intuition is simple: since in permutations order matters, AB and BA are two different outcomes, while with combinations they are grouped into a single one.\n",
    "\n",
    "**Example**\n",
    "\n",
    "For this section, we are going to use a simple **example** in which we have to order a two-scoops ice cream cone and there are three possible flavors: amarena, chocolate and pistacchio. "
   ]
  },
  {
   "cell_type": "markdown",
   "id": "fa999719",
   "metadata": {},
   "source": [
    "### Permutations"
   ]
  },
  {
   "cell_type": "markdown",
   "id": "21205e91",
   "metadata": {},
   "source": [
    "Let's start with permutations since they are **mathematically simpler**. We have seen that in combinations **order matters**. In our example, suppose we care about which flavor is on top on the ice cream. Now we are going to further distinguish between two cases:\n",
    "\n",
    "1. With replacement\n",
    "2. Without replacement\n",
    "\n",
    "Where replacement means that after I draw an object, I can draw it again (e.g. I put it back in the pool).\n",
    "\n",
    "**Replacement**\n",
    "\n",
    "In the first case, we can order both scoops of the same flavor. Therefore, for each scoop (2) we have 3 options (the flavors). \n",
    "\n",
    "<img src=\"fig/perm_repl.png\" width=\"800px\"/>\n",
    "\n",
    "The number of **overall events** is \n",
    "\n",
    "$$\n",
    "\\text{from 3 permute 2, with replacement} = 3 * 3 = 3^2 = 9\n",
    "$$\n",
    "\n",
    "In general, the number of possible permutations of $n$ objects in $k$ draws with replacement is $n^k$. \n",
    "\n",
    "**No Replacement**\n",
    "\n",
    "Alternatively, we can only order different flavors in each scoop. In this case, for the first scoop we can pick any flavor, but for the second scoop we can only pick one of the two remaining flavors. \n",
    "\n",
    "<img src=\"fig/perm.png\" width=\"550px\"/>\n",
    "\n",
    "The number of **overall events** is \n",
    "\n",
    "$$\n",
    "\\text{from 3 permute 2, without replacement} = 3 * 2 = \\frac{3!}{(3-2)!} = \\frac{3 * 2 * 1}{1} = 6\n",
    "$$\n",
    "\n",
    "where ! denotes the [factorial operation](https://en.wikipedia.org/wiki/Factorial) which can be recursively defined as $n! = n \\times (n-1)!$ with $0! = 1$.\n",
    "\n",
    "In general, the number of possible permutations of $n$ objects in $k$ draws without replacement is $\\frac{n!}{(n-k)!}$. "
   ]
  },
  {
   "cell_type": "markdown",
   "id": "41205be9",
   "metadata": {},
   "source": [
    "### Combinations"
   ]
  },
  {
   "cell_type": "markdown",
   "id": "ee19b1a2",
   "metadata": {},
   "source": [
    "Combinations are usually **more common** since in a lot of scenarios we do not care about the order or the identity of the objects. In our example, let's assume we don't care which flavor gets on top. As before, we are going to further distinguish between two cases:\n",
    "\n",
    "1. With replacement\n",
    "2. Without replacement\n",
    "\n",
    "**No Replacement**\n",
    "\n",
    "In this case, we cannot have two scoops of the same flavor. Therefore, for each scoop (2) we have 3 options (the flavors). However, the order of the flavors does not matter, i.e. we are indifferent between getting chocolate on top or on the bottom, as long as we get it.\n",
    "\n",
    "<img src=\"fig/comb.png\" width=\"270px\"/>\n",
    "\n",
    "The number of **overall events** therefore is the number of permutations of 3 flavors among 2 scoops, divided by the permutations of 2 out of 2 scoops.\n",
    "\n",
    "$$\n",
    "\\text{from 3 choose 2, without replacement} = \\frac{\\text{from 3 permute 2, without replacement}}{\\text{from 2 permute 2, without replacement}} = \\frac{\\frac{3!}{(3-2)!}}{\\frac{2!}{(2-2)!}} = \\frac{3!}{2!(3-2)!} = \\frac{3 * 2 * 1}{2 * 1 * 1} = 3 \n",
    "$$\n",
    "\n",
    "In general, we define the mathematical operation \"from $n$ choose $k$\" as\n",
    "\n",
    "$$\n",
    "\\text{from n choose k} := {n \\choose k} = \\frac{n!}{k!(n-k)!}\n",
    "$$\n",
    "\n",
    "Which corresponds to the number of possible combinations of $n$ objects in $k$ draws without replacement.\n",
    "\n",
    "**Replacement**\n",
    "\n",
    "Alternatively, we can be allowed to order the same flavor for both scoops.\n",
    "\n",
    "<img src=\"fig/comb_repl.png\" width=\"550px\"/>\n",
    "\n",
    "In this case, the number of **overall events** is \n",
    "\n",
    "$$\n",
    "\\text{from 3 choose 2, with replacement} = {3 + 2 - 1 \\choose 2} = \\frac{(3 + 2 - 1)!}{2!(3-1)!} = \\frac{4 * 3 * 2 * 1}{2 * 1 * 2 * 1} = 6\n",
    "$$\n",
    "\n",
    "In general, the number of possible combinations of $n$ objects in $k$ draws with replacement is ${n + k - 1 \\choose k}$. "
   ]
  },
  {
   "cell_type": "markdown",
   "id": "ab2e4503",
   "metadata": {},
   "source": [
    "### Summary"
   ]
  },
  {
   "cell_type": "markdown",
   "id": "6c61ae0f",
   "metadata": {},
   "source": [
    "We can summarize all the possible scenarios in a simple table."
   ]
  },
  {
   "cell_type": "markdown",
   "id": "ca4f2d27",
   "metadata": {},
   "source": [
    "|                                          | With Replacement  | Without Replacement  |\n",
    "|------------------------------------------|-------------------|----------------------|\n",
    "| **Permutations** (order matters):        | $n^k$             | $\\frac{n!}{(n-k)!} $ |\n",
    "| **Combinations** (order doesn't matter): | $ {n + k - 1 \\choose k} \\text{=}\\frac{(n+k-1)!}{(n-1)!k!}  $ | $ {n \\choose k} = \\frac{n!}{(n-k)!k!} $ |"
   ]
  },
  {
   "cell_type": "markdown",
   "id": "0bc0417d",
   "metadata": {},
   "source": [
    "Where $n$ is the number of objects and $k$ is the number of draws."
   ]
  },
  {
   "cell_type": "markdown",
   "id": "489afee8",
   "metadata": {},
   "source": [
    "## Example"
   ]
  },
  {
   "cell_type": "markdown",
   "id": "d0e11957",
   "metadata": {},
   "source": [
    "Let's explore together a more complex example to see how we can apply permutations and combinations to compute probabilities.\n",
    "\n",
    "> There are four people in an elevator, four floors in the building, and each person exits at random. Find the probability that:\n",
    ">\n",
    ">1. all people exit at different floors\n",
    ">2. all people exit at the same floor\n",
    ">3. two get off at one floor and two get off at another\n",
    "\n",
    "I use the `factorial` and `comb` functions from the `math` library."
   ]
  },
  {
   "cell_type": "code",
   "execution_count": 1,
   "id": "6e162621",
   "metadata": {
    "ExecuteTime": {
     "end_time": "2022-06-01T13:31:36.433736Z",
     "start_time": "2022-06-01T13:31:36.411969Z"
    }
   },
   "outputs": [],
   "source": [
    "from math import factorial, comb"
   ]
  },
  {
   "cell_type": "markdown",
   "id": "b9505f20",
   "metadata": {},
   "source": [
    "### Practical Advice"
   ]
  },
  {
   "cell_type": "markdown",
   "id": "3cf5e2ed",
   "metadata": {},
   "source": [
    "Before we start, some **practical advice**. What worked best *for me* is to approach the question in the following way:\n",
    "\n",
    "- what are the **overall** events that we are considering?\n",
    "- what are the **positive** events that we are considering?\n",
    "\n",
    "And for both questions, I ask myself:\n",
    "\n",
    "- does **order** matter?\n",
    "- is there **replacement**?\n",
    "\n",
    "Moreover, it is also very useful to **restate the problem** in terms of objects and draws. For example, in this case, I can restate the problem as: \"I am drawing a floor for each person\". This makes it clear whether or not there is replacement, i.e. whether or not I can draw the same floor for different persons."
   ]
  },
  {
   "cell_type": "markdown",
   "id": "a9683972",
   "metadata": {},
   "source": [
    "### Question 1"
   ]
  },
  {
   "cell_type": "markdown",
   "id": "6c159876",
   "metadata": {},
   "source": [
    "> What is the probability that they all get off at different floors?\n",
    "\n",
    "Total events: (from floors 4 permute 4, with replacement)\n",
    "\n",
    "Positive events: (from floors 4 permute 4, without replacement)"
   ]
  },
  {
   "cell_type": "code",
   "execution_count": 2,
   "id": "d016c131",
   "metadata": {
    "ExecuteTime": {
     "end_time": "2022-06-01T13:31:36.444756Z",
     "start_time": "2022-06-01T13:31:36.437330Z"
    }
   },
   "outputs": [
    {
     "data": {
      "text/plain": [
       "0.09375"
      ]
     },
     "execution_count": 2,
     "metadata": {},
     "output_type": "execute_result"
    }
   ],
   "source": [
    "factorial(4) / 4**4"
   ]
  },
  {
   "cell_type": "markdown",
   "id": "487e308b",
   "metadata": {},
   "source": [
    "### Question 2"
   ]
  },
  {
   "cell_type": "markdown",
   "id": "ebf12215",
   "metadata": {},
   "source": [
    ">What is the probability that they all exit at the same floor?\n",
    "\n",
    "Total events: (from 4 floors permute 4, with replacement)\n",
    "\n",
    "Positive events: (from floors 4 choose 1)"
   ]
  },
  {
   "cell_type": "code",
   "execution_count": 3,
   "id": "d87dff32",
   "metadata": {
    "ExecuteTime": {
     "end_time": "2022-06-01T13:31:36.453027Z",
     "start_time": "2022-06-01T13:31:36.448553Z"
    }
   },
   "outputs": [
    {
     "data": {
      "text/plain": [
       "0.015625"
      ]
     },
     "execution_count": 3,
     "metadata": {},
     "output_type": "execute_result"
    }
   ],
   "source": [
    "4 / 4**4"
   ]
  },
  {
   "cell_type": "markdown",
   "id": "a9b85fcb",
   "metadata": {},
   "source": [
    "### Question 3"
   ]
  },
  {
   "cell_type": "markdown",
   "id": "b6bc45c0",
   "metadata": {},
   "source": [
    "> What is the probability that two get off at one floor and two at another?\n",
    "\n",
    "Total events: (from floors 4 permute 4, with replacement)\n",
    "\n",
    "Positive events: (from 4 people choose 2, without replacement) * (from 4 floors choose 2, without replacement)"
   ]
  },
  {
   "cell_type": "code",
   "execution_count": 4,
   "id": "04d0ff65",
   "metadata": {
    "ExecuteTime": {
     "end_time": "2022-06-01T13:31:36.459523Z",
     "start_time": "2022-06-01T13:31:36.456595Z"
    }
   },
   "outputs": [
    {
     "data": {
      "text/plain": [
       "0.140625"
      ]
     },
     "execution_count": 4,
     "metadata": {},
     "output_type": "execute_result"
    }
   ],
   "source": [
    "comb(4, 2) * comb(4, 2) / 4**4 "
   ]
  },
  {
   "cell_type": "markdown",
   "id": "f38bbd1d",
   "metadata": {},
   "source": [
    "## Practice Questions"
   ]
  },
  {
   "cell_type": "markdown",
   "id": "ef1d37f8",
   "metadata": {},
   "source": [
    "Now it's your time to shine! Here are some practice questions with solutions"
   ]
  },
  {
   "cell_type": "markdown",
   "id": "764fffdb",
   "metadata": {},
   "source": [
    "### Problem 1"
   ]
  },
  {
   "cell_type": "markdown",
   "id": "0a33a175",
   "metadata": {},
   "source": [
    "> Suppose that you randomly draw 4 cards from a deck of 52 cards. What is the probability of getting 2 spades and 2 clubs?"
   ]
  },
  {
   "cell_type": "markdown",
   "id": "aad70a46",
   "metadata": {},
   "source": [
    "Total events: (from 52 cards choose 4, without replacement)\n",
    "\n",
    "Positive events: (from 13 cards choose 2) * (from 13 cards choose 2)"
   ]
  },
  {
   "cell_type": "code",
   "execution_count": 5,
   "id": "49c3eeb2",
   "metadata": {
    "ExecuteTime": {
     "end_time": "2022-06-01T13:31:36.464510Z",
     "start_time": "2022-06-01T13:31:36.460559Z"
    }
   },
   "outputs": [
    {
     "data": {
      "text/plain": [
       "0.02247298919567827"
      ]
     },
     "execution_count": 5,
     "metadata": {},
     "output_type": "execute_result"
    }
   ],
   "source": [
    "comb(13, 2) * comb(13, 2) / comb(52, 4)"
   ]
  },
  {
   "cell_type": "markdown",
   "id": "c1dc7d59",
   "metadata": {},
   "source": [
    "### Problem 2"
   ]
  },
  {
   "cell_type": "markdown",
   "id": "6c20950b",
   "metadata": {},
   "source": [
    "> Suppose you draw 5 cards without replacement from a standard deck of 52 playing cards. What is the probability of guessing all 5 cards in any order?"
   ]
  },
  {
   "cell_type": "markdown",
   "id": "3d8606df",
   "metadata": {},
   "source": [
    "Total events: (from 52 cards choose 5, without replacement)\n",
    "\n",
    "Positive events: 1"
   ]
  },
  {
   "cell_type": "code",
   "execution_count": 6,
   "id": "ae6dd32f",
   "metadata": {
    "ExecuteTime": {
     "end_time": "2022-06-01T13:31:36.468186Z",
     "start_time": "2022-06-01T13:31:36.465465Z"
    }
   },
   "outputs": [
    {
     "data": {
      "text/plain": [
       "3.8476929233231754e-07"
      ]
     },
     "execution_count": 6,
     "metadata": {},
     "output_type": "execute_result"
    }
   ],
   "source": [
    "1 / comb(52, 5)"
   ]
  },
  {
   "cell_type": "markdown",
   "id": "62e6a0e1",
   "metadata": {},
   "source": [
    "### Problem 3"
   ]
  },
  {
   "cell_type": "markdown",
   "id": "bb726e0d",
   "metadata": {},
   "source": [
    "> Suppose you draw 3 cards without replacement from a standard deck of 52 playing cards. What is the probability of guessing all 3 cards in the correct order?"
   ]
  },
  {
   "cell_type": "markdown",
   "id": "0e8fbeec",
   "metadata": {},
   "source": [
    "Total events: (from 52 cards permute 3, without replacement)\n",
    "\n",
    "Positive events: 1"
   ]
  },
  {
   "cell_type": "code",
   "execution_count": 7,
   "id": "5cf4642f",
   "metadata": {
    "ExecuteTime": {
     "end_time": "2022-06-01T13:31:36.472392Z",
     "start_time": "2022-06-01T13:31:36.469827Z"
    },
    "scrolled": true
   },
   "outputs": [
    {
     "data": {
      "text/plain": [
       "7.43879958514289e-68"
      ]
     },
     "execution_count": 7,
     "metadata": {},
     "output_type": "execute_result"
    }
   ],
   "source": [
    "1 / (factorial(52) / factorial(3))"
   ]
  },
  {
   "cell_type": "markdown",
   "id": "fa6ff873",
   "metadata": {},
   "source": [
    "### Problem 4"
   ]
  },
  {
   "cell_type": "markdown",
   "id": "57d41f25",
   "metadata": {},
   "source": [
    "> Suppose you draw 5 cards without replacement from a standard deck of 52 playing cards. What is the probability of guessing 3 of them (out of 3 guesses), in any order?"
   ]
  },
  {
   "cell_type": "markdown",
   "id": "7907c9a7",
   "metadata": {},
   "source": [
    "Total events: (from 52 cards permute 3, without replacement)\n",
    "\n",
    "Positive events: (from 5 cards permute 3, without replacement) "
   ]
  },
  {
   "cell_type": "code",
   "execution_count": 8,
   "id": "8d72a547",
   "metadata": {
    "ExecuteTime": {
     "end_time": "2022-06-01T13:31:36.476689Z",
     "start_time": "2022-06-01T13:31:36.473091Z"
    }
   },
   "outputs": [
    {
     "data": {
      "text/plain": [
       "2.9755198340571564e-65"
      ]
     },
     "execution_count": 8,
     "metadata": {},
     "output_type": "execute_result"
    }
   ],
   "source": [
    "(factorial(5) / factorial(3)) / (factorial(52) / factorial(5))"
   ]
  },
  {
   "cell_type": "markdown",
   "id": "35a95653",
   "metadata": {},
   "source": [
    "### Problem 5"
   ]
  },
  {
   "cell_type": "markdown",
   "id": "f42e09df",
   "metadata": {},
   "source": [
    "> A 4 digit PIN is selected. What is the probability that there are no repeated digits?"
   ]
  },
  {
   "cell_type": "markdown",
   "id": "098fd207",
   "metadata": {},
   "source": [
    "Total events: (from 10 permute 4, with replacement)\n",
    "\n",
    "Positive events: (from 10 permute 4, without replacement)"
   ]
  },
  {
   "cell_type": "code",
   "execution_count": 9,
   "id": "7e86cef2",
   "metadata": {
    "ExecuteTime": {
     "end_time": "2022-06-01T13:31:36.483647Z",
     "start_time": "2022-06-01T13:31:36.477421Z"
    }
   },
   "outputs": [
    {
     "data": {
      "text/plain": [
       "0.504"
      ]
     },
     "execution_count": 9,
     "metadata": {},
     "output_type": "execute_result"
    }
   ],
   "source": [
    "(factorial(10) / factorial(6)) / 10**4 "
   ]
  },
  {
   "cell_type": "markdown",
   "id": "80d44b51",
   "metadata": {},
   "source": [
    "### Problem 6"
   ]
  },
  {
   "cell_type": "markdown",
   "id": "01315b03",
   "metadata": {},
   "source": [
    "> In a certain state’s lottery, 48 balls numbered 1 through 48 are placed in a machine and 6 of them are drawn at random. If the 6 numbers drawn match the numbers that a player had chosen, the player wins 1,000,000. In this lottery, the order the numbers are drawn in doesn’t matter. Compute the probability that you win the million-dollar prize if you purchase a single lottery ticket."
   ]
  },
  {
   "cell_type": "markdown",
   "id": "a441c7c9",
   "metadata": {},
   "source": [
    "Total events: (from 48 choose 6, without replacement)\n",
    "\n",
    "Positive events: 1"
   ]
  },
  {
   "cell_type": "code",
   "execution_count": 10,
   "id": "b81683df",
   "metadata": {
    "ExecuteTime": {
     "end_time": "2022-06-01T13:31:36.490866Z",
     "start_time": "2022-06-01T13:31:36.487474Z"
    }
   },
   "outputs": [
    {
     "data": {
      "text/plain": [
       "8.148955075788542e-08"
      ]
     },
     "execution_count": 10,
     "metadata": {},
     "output_type": "execute_result"
    }
   ],
   "source": [
    "1 / comb(48, 6)"
   ]
  },
  {
   "cell_type": "markdown",
   "id": "9f3fc4c4",
   "metadata": {},
   "source": [
    "### Problem 7"
   ]
  },
  {
   "cell_type": "markdown",
   "id": "0d63c7fd",
   "metadata": {},
   "source": [
    "> In a certain state’s lottery, 48 balls numbered 1 through 48 are placed in a machine and 6 of them are drawn at random. If five of the six numbers drawn match the numbers that a player has chosen, the player wins a second prize of 1,000. Compute the probability that you win the second prize if you purchase a single lottery ticket."
   ]
  },
  {
   "cell_type": "markdown",
   "id": "f726f143",
   "metadata": {},
   "source": [
    "Total events: (from 48 choose 6, without replacement)\n",
    "\n",
    "Positive events: (from 6 choose 5, without replacement)"
   ]
  },
  {
   "cell_type": "code",
   "execution_count": 11,
   "id": "cc148bea",
   "metadata": {
    "ExecuteTime": {
     "end_time": "2022-06-01T13:31:36.494436Z",
     "start_time": "2022-06-01T13:31:36.491746Z"
    }
   },
   "outputs": [
    {
     "data": {
      "text/plain": [
       "3.504050682589073e-06"
      ]
     },
     "execution_count": 11,
     "metadata": {},
     "output_type": "execute_result"
    }
   ],
   "source": [
    "comb(6, 5) / comb(48, 5)"
   ]
  },
  {
   "cell_type": "markdown",
   "id": "220b7f5e",
   "metadata": {},
   "source": [
    "### Problem 8"
   ]
  },
  {
   "cell_type": "markdown",
   "id": "111d536f",
   "metadata": {},
   "source": [
    "> Compute the probability of randomly drawing five cards from a deck and getting exactly one Ace."
   ]
  },
  {
   "cell_type": "markdown",
   "id": "e9697c3c",
   "metadata": {},
   "source": [
    "Total events: (from 52 choose 5, without replacement)\n",
    "\n",
    "Positive events: (from 4 aces choose 1) * (from 48 cards that are not aces choose 4)"
   ]
  },
  {
   "cell_type": "code",
   "execution_count": 12,
   "id": "445de1e9",
   "metadata": {
    "ExecuteTime": {
     "end_time": "2022-06-01T13:31:36.498175Z",
     "start_time": "2022-06-01T13:31:36.495854Z"
    }
   },
   "outputs": [
    {
     "data": {
      "text/plain": [
       "0.2994736356080894"
      ]
     },
     "execution_count": 12,
     "metadata": {},
     "output_type": "execute_result"
    }
   ],
   "source": [
    "4 * comb(48, 4) / comb(52, 5)"
   ]
  },
  {
   "cell_type": "markdown",
   "id": "d730999e",
   "metadata": {},
   "source": [
    "### Problem 9"
   ]
  },
  {
   "cell_type": "markdown",
   "id": "97bb10f9",
   "metadata": {},
   "source": [
    "> Compute the probability of randomly drawing five cards from a deck and getting exactly two Aces."
   ]
  },
  {
   "cell_type": "markdown",
   "id": "c7959f9d",
   "metadata": {},
   "source": [
    "Total events: (from 52 choose 5, without replacement)\n",
    "\n",
    "Positive events: (from 4 aces choose 2) * (from 48 cards that are not aces choose 3)"
   ]
  },
  {
   "cell_type": "code",
   "execution_count": 13,
   "id": "32e02626",
   "metadata": {
    "ExecuteTime": {
     "end_time": "2022-06-01T13:31:36.505306Z",
     "start_time": "2022-06-01T13:31:36.499869Z"
    }
   },
   "outputs": [
    {
     "data": {
      "text/plain": [
       "0.03992981808107859"
      ]
     },
     "execution_count": 13,
     "metadata": {},
     "output_type": "execute_result"
    }
   ],
   "source": [
    "comb(4,2) * comb(48, 3) / comb(52, 5)"
   ]
  },
  {
   "cell_type": "markdown",
   "id": "d0b15926",
   "metadata": {},
   "source": [
    "### Problem 10"
   ]
  },
  {
   "cell_type": "markdown",
   "id": "20ea1351",
   "metadata": {},
   "source": [
    "> Suppose you have 3 people in a room. What is the probability that there is at least one shared birthday?"
   ]
  },
  {
   "cell_type": "markdown",
   "id": "5b034a64",
   "metadata": {},
   "source": [
    "Total events: (from 365 days permute 3, with replacement)\n",
    "\n",
    "Negative events: (from 365 days permute 3, without replacement)"
   ]
  },
  {
   "cell_type": "code",
   "execution_count": 14,
   "id": "2555a395",
   "metadata": {
    "ExecuteTime": {
     "end_time": "2022-06-01T13:31:36.509080Z",
     "start_time": "2022-06-01T13:31:36.506159Z"
    }
   },
   "outputs": [
    {
     "data": {
      "text/plain": [
       "0.008204165884781345"
      ]
     },
     "execution_count": 14,
     "metadata": {},
     "output_type": "execute_result"
    }
   ],
   "source": [
    "1 - (365 * 364 * 363) / (365**3)"
   ]
  },
  {
   "cell_type": "markdown",
   "id": "48313471",
   "metadata": {},
   "source": [
    "### Problem 11"
   ]
  },
  {
   "cell_type": "markdown",
   "id": "91262146",
   "metadata": {},
   "source": [
    "> Given a class of 12 girls and 10 boys, what is the probability that a committee of five, chosen at random from\n",
    "the class, consists only of girls?"
   ]
  },
  {
   "cell_type": "markdown",
   "id": "ccbc2217",
   "metadata": {},
   "source": [
    "Total events: (from 22 choose 5, without replacement)\n",
    "\n",
    "Positive events: (from 12 choose 5, without replacement)"
   ]
  },
  {
   "cell_type": "code",
   "execution_count": 16,
   "id": "60b55b80",
   "metadata": {
    "ExecuteTime": {
     "end_time": "2022-06-01T13:31:36.521851Z",
     "start_time": "2022-06-01T13:31:36.515102Z"
    }
   },
   "outputs": [
    {
     "data": {
      "text/plain": [
       "0.03007518796992481"
      ]
     },
     "execution_count": 16,
     "metadata": {},
     "output_type": "execute_result"
    }
   ],
   "source": [
    "comb(12, 5) / comb(22, 5)"
   ]
  },
  {
   "cell_type": "markdown",
   "id": "0e5c96af",
   "metadata": {},
   "source": [
    "## Conclusion"
   ]
  },
  {
   "cell_type": "markdown",
   "id": "934b158c",
   "metadata": {},
   "source": [
    "Permutation and combination questions are a classic in data science questions (unfortunately).  "
   ]
  },
  {
   "cell_type": "markdown",
   "id": "ee105a11",
   "metadata": {},
   "source": [
    "### Code"
   ]
  },
  {
   "cell_type": "markdown",
   "id": "e3863e8e",
   "metadata": {},
   "source": [
    "You can find the original Jupyter Notebook here:"
   ]
  }
 ],
 "metadata": {
  "@webio": {
   "lastCommId": null,
   "lastKernelId": null
  },
  "kernelspec": {
   "display_name": "Python (conda)",
   "language": "python",
   "name": "base"
  },
  "language_info": {
   "codemirror_mode": {
    "name": "ipython",
    "version": 3
   },
   "file_extension": ".py",
   "mimetype": "text/x-python",
   "name": "python",
   "nbconvert_exporter": "python",
   "pygments_lexer": "ipython3",
   "version": "3.9.7"
  },
  "toc": {
   "base_numbering": 1,
   "nav_menu": {},
   "number_sections": false,
   "sideBar": true,
   "skip_h1_title": true,
   "title_cell": "Table of Contents",
   "title_sidebar": "Contents",
   "toc_cell": false,
   "toc_position": {
    "height": "calc(100% - 180px)",
    "left": "10px",
    "top": "150px",
    "width": "260px"
   },
   "toc_section_display": true,
   "toc_window_display": true
  },
  "varInspector": {
   "cols": {
    "lenName": 16,
    "lenType": 16,
    "lenVar": 40
   },
   "kernels_config": {
    "python": {
     "delete_cmd_postfix": "",
     "delete_cmd_prefix": "del ",
     "library": "var_list.py",
     "varRefreshCmd": "print(var_dic_list())"
    },
    "r": {
     "delete_cmd_postfix": ") ",
     "delete_cmd_prefix": "rm(",
     "library": "var_list.r",
     "varRefreshCmd": "cat(var_dic_list()) "
    }
   },
   "types_to_exclude": [
    "module",
    "function",
    "builtin_function_or_method",
    "instance",
    "_Feature"
   ],
   "window_display": false
  }
 },
 "nbformat": 4,
 "nbformat_minor": 5
}
