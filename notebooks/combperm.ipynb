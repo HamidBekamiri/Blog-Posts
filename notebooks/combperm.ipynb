{
 "cells": [
  {
   "cell_type": "markdown",
   "id": "f5034ba4",
   "metadata": {},
   "source": [
    "# Understanding Combinations and Permutations"
   ]
  },
  {
   "cell_type": "markdown",
   "id": "440f233d",
   "metadata": {},
   "source": [
    "How many times did you face questions starting with \"*Suppose you have a urn with three red balls and five blue balls, ...*\"? The answer for me is, not often since high-school, but recently they popped up again in **data science interviews**. \n",
    "\n",
    "Despite countless classes in statistics, I still take a deep breath and hope I won't embarrass myself too much. My main problem is that I get crazy confused with binary labels, especially if the label itself is not too intuitive. \n",
    "\n",
    "Some non-intuitive (for me) binary labels include:\n",
    "\n",
    "- [type 1 and type 2 error rate](https://en.wikipedia.org/wiki/Type_I_and_type_II_errors) (omg, was it a struggle)\n",
    "- [precision and recall](https://en.wikipedia.org/wiki/Precision_and_recall)\n",
    "\n",
    "And last but not least, **combinations and permutations**.\n",
    "\n",
    "So this blog post is an attempt to clarify once and for all the difference between the two and get some practice. "
   ]
  },
  {
   "cell_type": "markdown",
   "id": "af6c39e9",
   "metadata": {},
   "source": [
    "## The Math"
   ]
  },
  {
   "cell_type": "markdown",
   "id": "9a51c375",
   "metadata": {},
   "source": [
    "### Permutations vs Combinations"
   ]
  },
  {
   "cell_type": "markdown",
   "id": "00568d04",
   "metadata": {},
   "source": [
    "The main **difference** between combinations and permutations is **order**. In particular:\n",
    "\n",
    "- Permutations: order matters\n",
    "- Combinations: order does not matter\n",
    "\n",
    "What does it mean **in practice**? \n",
    "\n",
    "One rule of thumb is to check whether the individual objects are **identifiable**. For example:\n",
    "\n",
    "- Urn with blue and red balls: the individual ball is not identifiable, therefore we are definitely talking about permutations\n",
    "- Deck of cards: individual cards are identifiable, therefore we have to be cautious and read carefully the text\n",
    "\n",
    "For this section, we are going to use a simple **example** in which we have **3 prizes** that we want to distribute among **5 students**. In this case, if the prizes are different, order matters since each student gets a different prize, and we will use permutations. If prizes are indistinguishable, it does not really matter which one each student gets and we will use combinations."
   ]
  },
  {
   "cell_type": "markdown",
   "id": "5999760e",
   "metadata": {},
   "source": [
    "### Permutations"
   ]
  },
  {
   "cell_type": "markdown",
   "id": "c2a1a346",
   "metadata": {},
   "source": [
    "Let's start with permutations since they are **mathematically simpler**. We have seen that in combinations **order matters**. Now we are going to further distinguish between two cases:\n",
    "\n",
    "1. With replacement\n",
    "2. Without replacement\n",
    "\n",
    "For example, suppose we had to randomly distribute **a basketball and a football**. We can either allow students to get more than one ball, or establish that each student can get at most one ball. In the first case, we are allowing for replacement while in the second one we are not.\n",
    "\n",
    "**Replacement**\n",
    "\n",
    "In the first case, each ball can go to any student. Therefore, for each ball (2) we have 3 options (the students). \n",
    "\n",
    "<img src=\"img/perm_repl.png\" width=\"800px\"/>\n",
    "\n",
    "The number of **overall events** is \n",
    "\n",
    "$$\n",
    "\\text{from 3 permute 2, with replacement} = 3 * 3 = 3^2 = 9\n",
    "$$\n",
    "\n",
    "In general, we denote with $n$ the number of objects and with $k$ the number of draws. \n",
    "\n",
    "**No Replacement**\n",
    "\n",
    "The alternative is to establish that each student can get at most one prize. \n",
    "\n",
    "<img src=\"img/perm.png\" width=\"550px\"/>\n",
    "\n",
    "In this case, the basketball can go to all 3 students, but the football can only go to the 2 remaining students. The number of **overall events** is \n",
    "\n",
    "$$\n",
    "\\text{from 3 permute 2, without replacement} = 3 * 2 = \\frac{3!}{(3-2)!} = \\frac{3 * 2 * 1}{1} = 6\n",
    "$$\n",
    "\n",
    "where ! denotes the [factorial operation](https://en.wikipedia.org/wiki/Factorial) which can be recursively defined as $n! = n \\times (n-1)!$ with $0! = 1$. "
   ]
  },
  {
   "cell_type": "markdown",
   "id": "cbc65d42",
   "metadata": {},
   "source": [
    "### Combinations"
   ]
  },
  {
   "cell_type": "markdown",
   "id": "28eed93c",
   "metadata": {},
   "source": [
    "Combinations are usually **more common** since in a lot of scenarios we do not care about the order or the identity of the objects. As before, we are going to further distinguish between two cases:\n",
    "\n",
    "1. With replacement\n",
    "2. Without replacement\n",
    "\n",
    "For example, suppose we had to randomly distribute **2 candies**. We can either allow students to get more than one candy, or establish that each student can get at most one candy. In the first case, we are allowing for replacement while in the second one we are not.\n",
    "\n",
    "**No Replacement**\n",
    "\n",
    "In this case, student can get at most one candy. \n",
    "\n",
    "<img src=\"img/comb.png\" width=\"300px\"/>\n",
    "\n",
    "Therefore, for each candy (2) we have 3 options (the students). However, the order or the candies does not matter, i.e. a student is indifferent between receiving the first or the second or the third candy, as long as it receives it. The number of **overall events** therefore is the number of permutations of 2 candies among 3 people, divided by the permutations of 2 out of 2 candies.\n",
    "\n",
    "$$\n",
    "\\text{from 3 choose 2, without replacement} = \\frac{\\text{from 3 permute 2, without replacement}}{\\text{from 2 permute 2, without replacement}} = \\frac{\\frac{3!}{(3-2)!}}{\\frac{2!}{(2-2)!}} = \\frac{3!}{2!(3-2)!} = \\frac{3 * 2 * 1}{2 * 1 * 1} = 3 \n",
    "$$\n",
    "\n",
    "In general, we define the mathematical operation \"from $n$ choose $k$\" as\n",
    "\n",
    "$$\n",
    "\\text{from n choose k} := {n \\choose k} = \\frac{n!}{k!(n-k)!}\n",
    "$$\n",
    "\n",
    "**Replacement**\n",
    "\n",
    "The alternative is to establish that students can get more than one candy. \n",
    "\n",
    "<img src=\"img/comb_repl.png\" width=\"550px\"/>\n",
    "\n",
    "In this case, the rock can go to all 4 students, but the paper can only go to the 3 remaining students, and the scissors can only got to either one of the 2 remaining students. The number of **overall events** is \n",
    "\n",
    "$$\n",
    "\\text{from 3 choose 2, with replacement} = {3 + 2 - 1 \\choose 2} = \\frac{(3 + 2 - 1)!}{2!(3-1)!} = \\frac{4 * 3 * 2 * 1}{2 * 1 * 2 * 1} = 6\n",
    "$$"
   ]
  },
  {
   "cell_type": "markdown",
   "id": "a88fe555",
   "metadata": {},
   "source": [
    "### Summary"
   ]
  },
  {
   "cell_type": "markdown",
   "id": "24390890",
   "metadata": {},
   "source": [
    "We can summarize all the possible scenarios in a simple table."
   ]
  },
  {
   "cell_type": "markdown",
   "id": "b26fef6d",
   "metadata": {},
   "source": [
    "|                                          | With Replacement  | Without Replacement  |\n",
    "|------------------------------------------|-------------------|----------------------|\n",
    "| **Permutations** (order matters):        | $n^k$             | $\\frac{n!}{(n-k)!} $ |\n",
    "| **Combinations** (order doesn't matter): | $ {n + k - 1 \\choose k} \\text{=}\\frac{(n+k-1)!}{(n-1)!k!}  $ | $ {n \\choose k} = \\frac{n!}{(n-k)!k!} $ |"
   ]
  },
  {
   "cell_type": "markdown",
   "id": "796e4577",
   "metadata": {},
   "source": [
    "Where $n$ is the number of objects and $k$ is the number of draws."
   ]
  },
  {
   "cell_type": "markdown",
   "id": "caf8c6b8",
   "metadata": {},
   "source": [
    "## Example"
   ]
  },
  {
   "cell_type": "markdown",
   "id": "d0e11957",
   "metadata": {},
   "source": [
    "Let's explore together a more complex example to see how we can apply permutations and combinations to compute probabilities.\n",
    "\n",
    "> There are four people in an elevator, four floors in the building, and each person exits at random. Find the probability that:\n",
    ">\n",
    ">1. all exit at different floors\n",
    ">2. all exit at the same floor\n",
    ">3. two get off at one floor and two get off at another\n",
    "\n",
    "I use the `factorial` and `comb` functions from the `math` library."
   ]
  },
  {
   "cell_type": "code",
   "execution_count": 2,
   "id": "9847eeb3",
   "metadata": {
    "ExecuteTime": {
     "end_time": "2022-06-01T10:50:06.695781Z",
     "start_time": "2022-06-01T10:50:06.692866Z"
    }
   },
   "outputs": [],
   "source": [
    "from math import factorial, comb"
   ]
  },
  {
   "cell_type": "markdown",
   "id": "3dfb9852",
   "metadata": {},
   "source": [
    "### Practical Advice"
   ]
  },
  {
   "cell_type": "markdown",
   "id": "ed4aba0e",
   "metadata": {},
   "source": [
    "Before we start, some **practical advice**. What worked best *for me* is to approach the question in the following way:\n",
    "\n",
    "- what are the **overall** events that we are considering?\n",
    "- what are the **positive** events that we are considering?\n",
    "\n",
    "And for both questions, I ask myself:\n",
    "\n",
    "- does **order** matter?\n",
    "- is there **replacement**?\n",
    "\n",
    "Moreover, it is also very useful to **restate the problem** in terms of objects and draws. For example, in this case, I can restate the problem as: \"I am drawing a floor for each person\". This makes it clear whether or not there is replacement, i.e. whether or not I can draw the same floor for different persons."
   ]
  },
  {
   "cell_type": "markdown",
   "id": "f6352b04",
   "metadata": {},
   "source": [
    "### Question 1"
   ]
  },
  {
   "cell_type": "markdown",
   "id": "6c159876",
   "metadata": {},
   "source": [
    "> What is the probability that they all get off at different floors?\n",
    "\n",
    "Total events: (from floors 4 permute 4, with replacement)\n",
    "\n",
    "Positive events: (from floors 4 permute 4, without replacement)"
   ]
  },
  {
   "cell_type": "code",
   "execution_count": 3,
   "id": "d016c131",
   "metadata": {
    "ExecuteTime": {
     "end_time": "2022-06-01T10:50:13.579444Z",
     "start_time": "2022-06-01T10:50:13.566076Z"
    }
   },
   "outputs": [
    {
     "data": {
      "text/plain": [
       "0.09375"
      ]
     },
     "execution_count": 3,
     "metadata": {},
     "output_type": "execute_result"
    }
   ],
   "source": [
    "factorial(4) / 4**4"
   ]
  },
  {
   "cell_type": "markdown",
   "id": "fa81307d",
   "metadata": {},
   "source": [
    "### Question 2"
   ]
  },
  {
   "cell_type": "markdown",
   "id": "ebf12215",
   "metadata": {},
   "source": [
    ">What is the probability that they all exit at the same floor?\n",
    "\n",
    "Total events: (from 4 permute 4, with replacement)\n",
    "\n",
    "Positive events: (from 4 choose 1)"
   ]
  },
  {
   "cell_type": "code",
   "execution_count": 4,
   "id": "d87dff32",
   "metadata": {
    "ExecuteTime": {
     "end_time": "2022-06-01T10:50:15.844037Z",
     "start_time": "2022-06-01T10:50:15.835178Z"
    }
   },
   "outputs": [
    {
     "data": {
      "text/plain": [
       "0.015625"
      ]
     },
     "execution_count": 4,
     "metadata": {},
     "output_type": "execute_result"
    }
   ],
   "source": [
    "4 / 4**4"
   ]
  },
  {
   "cell_type": "markdown",
   "id": "3a7edf74",
   "metadata": {},
   "source": [
    "### Question 3"
   ]
  },
  {
   "cell_type": "markdown",
   "id": "b6bc45c0",
   "metadata": {},
   "source": [
    "> What is the probability that two get off at one floor and two at another?\n",
    "\n",
    "Total events: (from floors 4 permute 4, with replacement)\n",
    "\n",
    "Positive events: (from 4 people choose 2, without replacement) * (from 4 floors choose 2, without replacement)"
   ]
  },
  {
   "cell_type": "code",
   "execution_count": 5,
   "id": "04d0ff65",
   "metadata": {
    "ExecuteTime": {
     "end_time": "2022-06-01T10:50:19.236190Z",
     "start_time": "2022-06-01T10:50:19.231329Z"
    }
   },
   "outputs": [
    {
     "data": {
      "text/plain": [
       "0.140625"
      ]
     },
     "execution_count": 5,
     "metadata": {},
     "output_type": "execute_result"
    }
   ],
   "source": [
    "comb(4, 2) * comb(4, 2) / 4**4 "
   ]
  },
  {
   "cell_type": "markdown",
   "id": "c88be186",
   "metadata": {},
   "source": [
    "## Practice Questions"
   ]
  },
  {
   "cell_type": "markdown",
   "id": "84551155",
   "metadata": {},
   "source": [
    "Now it's your time to shine! Here are some practice questions. I include the solutions in the next section. "
   ]
  },
  {
   "cell_type": "markdown",
   "id": "764fffdb",
   "metadata": {},
   "source": [
    "### Problem 1"
   ]
  },
  {
   "cell_type": "markdown",
   "id": "0a33a175",
   "metadata": {},
   "source": [
    "> Suppose that you randomly draw 4 cards from a deck of 52 cards. What is the probability of getting 2 spades and 2 clubs?"
   ]
  },
  {
   "cell_type": "markdown",
   "id": "aad70a46",
   "metadata": {},
   "source": [
    "Total events: (from 52 cards choose 4, without replacement)\n",
    "\n",
    "Positive events: (from 13 cards choose 2) * (from 13 cards choose 2)"
   ]
  },
  {
   "cell_type": "code",
   "execution_count": 66,
   "id": "49c3eeb2",
   "metadata": {},
   "outputs": [
    {
     "data": {
      "text/plain": [
       "0.02247298919567827"
      ]
     },
     "execution_count": 66,
     "metadata": {},
     "output_type": "execute_result"
    }
   ],
   "source": [
    "comb(13, 2) * comb(13, 2) / comb(52, 4)"
   ]
  },
  {
   "cell_type": "markdown",
   "id": "c1dc7d59",
   "metadata": {},
   "source": [
    "### Problem 2"
   ]
  },
  {
   "cell_type": "markdown",
   "id": "6c20950b",
   "metadata": {},
   "source": [
    "> Suppose you draw 5 cards without replacement from a standard deck of 52 playing cards. What is the probability of guessing all 5 cards in any order?"
   ]
  },
  {
   "cell_type": "markdown",
   "id": "3d8606df",
   "metadata": {},
   "source": [
    "Total events: (from 52 cards choose 5, without replacement)\n",
    "\n",
    "Positive events: 1"
   ]
  },
  {
   "cell_type": "code",
   "execution_count": 31,
   "id": "ae6dd32f",
   "metadata": {},
   "outputs": [
    {
     "data": {
      "text/plain": [
       "3.8476929233231754e-07"
      ]
     },
     "execution_count": 31,
     "metadata": {},
     "output_type": "execute_result"
    }
   ],
   "source": [
    "1 / comb(52, 5)"
   ]
  },
  {
   "cell_type": "markdown",
   "id": "62e6a0e1",
   "metadata": {},
   "source": [
    "### Problem 3"
   ]
  },
  {
   "cell_type": "markdown",
   "id": "bb726e0d",
   "metadata": {},
   "source": [
    "> Suppose you draw 3 cards without replacement from a standard deck of 52 playing cards. What is the probability of guessing all 3 cards in the correct?"
   ]
  },
  {
   "cell_type": "markdown",
   "id": "0e8fbeec",
   "metadata": {},
   "source": [
    "Total events: (from 52 cards permute 3, without replacement)\n",
    "\n",
    "Positive events: 1"
   ]
  },
  {
   "cell_type": "code",
   "execution_count": 33,
   "id": "5cf4642f",
   "metadata": {
    "scrolled": true
   },
   "outputs": [
    {
     "data": {
      "text/plain": [
       "7.43879958514289e-68"
      ]
     },
     "execution_count": 33,
     "metadata": {},
     "output_type": "execute_result"
    }
   ],
   "source": [
    "1 / (factorial(52) / factorial(3))"
   ]
  },
  {
   "cell_type": "markdown",
   "id": "4250ec3d",
   "metadata": {},
   "source": [
    "### Problem 4"
   ]
  },
  {
   "cell_type": "markdown",
   "id": "4ddae366",
   "metadata": {},
   "source": [
    "> Suppose you draw 5 cards without replacement from a standard deck of 52 playing cards. What is the probability of guessing 3 of them (out of 3 guesses), in any order?"
   ]
  },
  {
   "cell_type": "markdown",
   "id": "758a3840",
   "metadata": {},
   "source": [
    "Total events: (from 52 cards permute 3, without replacement)\n",
    "\n",
    "Positive events: (from 5 cards permute 3, without replacement) "
   ]
  },
  {
   "cell_type": "code",
   "execution_count": 7,
   "id": "bc94bbc3",
   "metadata": {
    "ExecuteTime": {
     "end_time": "2022-06-01T10:59:47.917525Z",
     "start_time": "2022-06-01T10:59:47.912887Z"
    }
   },
   "outputs": [
    {
     "data": {
      "text/plain": [
       "2.9755198340571564e-65"
      ]
     },
     "execution_count": 7,
     "metadata": {},
     "output_type": "execute_result"
    }
   ],
   "source": [
    "(factorial(5) / factorial(3)) / (factorial(52) / factorial(5))"
   ]
  },
  {
   "cell_type": "markdown",
   "id": "35a95653",
   "metadata": {},
   "source": [
    "### Problem 5"
   ]
  },
  {
   "cell_type": "markdown",
   "id": "f42e09df",
   "metadata": {},
   "source": [
    "> A 4 digit PIN is selected. What is the probability that there are no repeated digits?"
   ]
  },
  {
   "cell_type": "markdown",
   "id": "098fd207",
   "metadata": {},
   "source": [
    "Total events: (from 10 permute 4, with replacement)\n",
    "\n",
    "Positive events: (from 10 permute 4, without replacement)"
   ]
  },
  {
   "cell_type": "code",
   "execution_count": 41,
   "id": "7e86cef2",
   "metadata": {},
   "outputs": [
    {
     "data": {
      "text/plain": [
       "0.504"
      ]
     },
     "execution_count": 41,
     "metadata": {},
     "output_type": "execute_result"
    }
   ],
   "source": [
    "(factorial(10) / factorial(6)) / 10**4 "
   ]
  },
  {
   "cell_type": "markdown",
   "id": "80d44b51",
   "metadata": {},
   "source": [
    "### Problem 6"
   ]
  },
  {
   "cell_type": "markdown",
   "id": "01315b03",
   "metadata": {},
   "source": [
    "> In a certain state’s lottery, 48 balls numbered 1 through 48 are placed in a machine and 6 of them are drawn at random. If the 6 numbers drawn match the numbers that a player had chosen, the player wins 1,000,000. In this lottery, the order the numbers are drawn in doesn’t matter. Compute the probability that you win the million-dollar prize if you purchase a single lottery ticket."
   ]
  },
  {
   "cell_type": "markdown",
   "id": "a441c7c9",
   "metadata": {},
   "source": [
    "Total events: (from 48 choose 6, without replacement)\n",
    "\n",
    "Positive events: 1"
   ]
  },
  {
   "cell_type": "code",
   "execution_count": 42,
   "id": "b81683df",
   "metadata": {},
   "outputs": [
    {
     "data": {
      "text/plain": [
       "8.148955075788542e-08"
      ]
     },
     "execution_count": 42,
     "metadata": {},
     "output_type": "execute_result"
    }
   ],
   "source": [
    "1 / comb(48, 6)"
   ]
  },
  {
   "cell_type": "markdown",
   "id": "9f3fc4c4",
   "metadata": {},
   "source": [
    "### Problem 7"
   ]
  },
  {
   "cell_type": "markdown",
   "id": "0d63c7fd",
   "metadata": {},
   "source": [
    "> In a certain state’s lottery, 48 balls numbered 1 through 48 are placed in a machine and 6 of them are drawn at random. If five of the six numbers drawn match the numbers that a player has chosen, the player wins a second prize of 1,000. Compute the probability that you win the second prize if you purchase a single lottery ticket."
   ]
  },
  {
   "cell_type": "markdown",
   "id": "f726f143",
   "metadata": {},
   "source": [
    "Total events: (from 48 choose 6, without replacement)\n",
    "\n",
    "Positive events: (from 6 choose 5, without replacement)"
   ]
  },
  {
   "cell_type": "code",
   "execution_count": 45,
   "id": "cc148bea",
   "metadata": {},
   "outputs": [
    {
     "data": {
      "text/plain": [
       "3.504050682589073e-06"
      ]
     },
     "execution_count": 45,
     "metadata": {},
     "output_type": "execute_result"
    }
   ],
   "source": [
    "comb(6, 5) / comb(48, 5)"
   ]
  },
  {
   "cell_type": "markdown",
   "id": "220b7f5e",
   "metadata": {},
   "source": [
    "### Problem 8"
   ]
  },
  {
   "cell_type": "markdown",
   "id": "111d536f",
   "metadata": {},
   "source": [
    "> Compute the probability of randomly drawing five cards from a deck and getting exactly one Ace."
   ]
  },
  {
   "cell_type": "markdown",
   "id": "e9697c3c",
   "metadata": {},
   "source": [
    "Total events: (from 52 choose 5, without replacement)\n",
    "\n",
    "Positive events: (from 4 aces choose 1) * (from 48 choose 4)"
   ]
  },
  {
   "cell_type": "code",
   "execution_count": 47,
   "id": "445de1e9",
   "metadata": {},
   "outputs": [
    {
     "data": {
      "text/plain": [
       "0.2994736356080894"
      ]
     },
     "execution_count": 47,
     "metadata": {},
     "output_type": "execute_result"
    }
   ],
   "source": [
    "4 * comb(48, 4) / comb(52, 5)"
   ]
  },
  {
   "cell_type": "markdown",
   "id": "d730999e",
   "metadata": {},
   "source": [
    "### Problem 9"
   ]
  },
  {
   "cell_type": "markdown",
   "id": "97bb10f9",
   "metadata": {},
   "source": [
    "> Compute the probability of randomly drawing five cards from a deck and getting exactly two Aces."
   ]
  },
  {
   "cell_type": "markdown",
   "id": "c7959f9d",
   "metadata": {},
   "source": [
    "Total events: (from 52 choose 5, without replacement)\n",
    "\n",
    "Positive events: (from 4 aces choose 2) * (from 48 choose 3)"
   ]
  },
  {
   "cell_type": "code",
   "execution_count": 48,
   "id": "32e02626",
   "metadata": {},
   "outputs": [
    {
     "data": {
      "text/plain": [
       "0.03992981808107859"
      ]
     },
     "execution_count": 48,
     "metadata": {},
     "output_type": "execute_result"
    }
   ],
   "source": [
    "comb(4,2) * comb(48, 3) / comb(52, 5)"
   ]
  },
  {
   "cell_type": "markdown",
   "id": "d0b15926",
   "metadata": {},
   "source": [
    "### Problem 10"
   ]
  },
  {
   "cell_type": "markdown",
   "id": "20ea1351",
   "metadata": {},
   "source": [
    "> Suppose you have 3 people in a room. What is the probability that there is at least one shared birthday?"
   ]
  },
  {
   "cell_type": "markdown",
   "id": "5b034a64",
   "metadata": {},
   "source": [
    "Total events: (from 365 days permute 3, with replacement)\n",
    "\n",
    "Negative events: (from 365 days permute 3, without replacement)"
   ]
  },
  {
   "cell_type": "code",
   "execution_count": 54,
   "id": "2555a395",
   "metadata": {},
   "outputs": [
    {
     "data": {
      "text/plain": [
       "0.008204165884781345"
      ]
     },
     "execution_count": 54,
     "metadata": {},
     "output_type": "execute_result"
    }
   ],
   "source": [
    "1 - (365 * 364 * 363) / (365**3)"
   ]
  },
  {
   "cell_type": "markdown",
   "id": "ea615683",
   "metadata": {},
   "source": [
    "### Problem 11"
   ]
  },
  {
   "cell_type": "markdown",
   "id": "c8e2c3fe",
   "metadata": {},
   "source": [
    "> In how many permutations of the word \"square\" is r the second letter?"
   ]
  },
  {
   "cell_type": "markdown",
   "id": "b35d5689",
   "metadata": {},
   "source": [
    "Total events: (from 5 permute 5, without replacement)\n",
    "\n",
    "Positive events: (from 4 permute 4, without replacement)"
   ]
  },
  {
   "cell_type": "code",
   "execution_count": 59,
   "id": "c62b6731",
   "metadata": {},
   "outputs": [
    {
     "data": {
      "text/plain": [
       "0.8"
      ]
     },
     "execution_count": 59,
     "metadata": {},
     "output_type": "execute_result"
    }
   ],
   "source": [
    "4/5"
   ]
  },
  {
   "cell_type": "markdown",
   "id": "48313471",
   "metadata": {},
   "source": [
    "### Problem 12"
   ]
  },
  {
   "cell_type": "markdown",
   "id": "91262146",
   "metadata": {},
   "source": [
    "> Given a class of 12 girls and 10 boys, what is the probability that a committee of five, chosen at random from\n",
    "the class, consists only of girls?"
   ]
  },
  {
   "cell_type": "markdown",
   "id": "ccbc2217",
   "metadata": {},
   "source": [
    "Total events: (from 22 choose 5, without replacement)\n",
    "\n",
    "Positive events: (from 12 choose 5, without replacement)"
   ]
  },
  {
   "cell_type": "code",
   "execution_count": 60,
   "id": "60b55b80",
   "metadata": {},
   "outputs": [
    {
     "data": {
      "text/plain": [
       "0.03007518796992481"
      ]
     },
     "execution_count": 60,
     "metadata": {},
     "output_type": "execute_result"
    }
   ],
   "source": [
    "comb(12, 5) / comb(22, 5)"
   ]
  },
  {
   "cell_type": "markdown",
   "id": "cc91e5a6",
   "metadata": {},
   "source": [
    "### Problem 13"
   ]
  },
  {
   "cell_type": "markdown",
   "id": "b7337435",
   "metadata": {},
   "source": [
    "> In an effort to promote school spirit, Georgetown High School created ID numbers with just the letters G, H, and S. If each letter is used exactly three times, what is the probability that a random ID number starts with GHS?"
   ]
  },
  {
   "cell_type": "markdown",
   "id": "2c0a90f7",
   "metadata": {},
   "source": [
    "Total events: (from 9 permute 3, without replacement)\n",
    "\n",
    "Positive events: (from 3 choose 1)^3"
   ]
  },
  {
   "cell_type": "code",
   "execution_count": 65,
   "id": "daf2b5c1",
   "metadata": {},
   "outputs": [
    {
     "data": {
      "text/plain": [
       "0.05357142857142857"
      ]
     },
     "execution_count": 65,
     "metadata": {},
     "output_type": "execute_result"
    }
   ],
   "source": [
    "3**3 / (9*8*7)"
   ]
  },
  {
   "cell_type": "markdown",
   "id": "6057da84",
   "metadata": {},
   "source": [
    "## Conclusion"
   ]
  },
  {
   "cell_type": "markdown",
   "id": "cb23ed9a",
   "metadata": {},
   "source": [
    "Permutation and combination questions are a classic in data science questions (unfortunately).  "
   ]
  },
  {
   "cell_type": "code",
   "execution_count": null,
   "id": "611d0857",
   "metadata": {},
   "outputs": [],
   "source": []
  },
  {
   "cell_type": "markdown",
   "id": "4a9ad8b3",
   "metadata": {},
   "source": [
    "### Code"
   ]
  },
  {
   "cell_type": "markdown",
   "id": "f53a00df",
   "metadata": {},
   "source": [
    "## Solutions"
   ]
  },
  {
   "cell_type": "code",
   "execution_count": null,
   "id": "2cba751d",
   "metadata": {},
   "outputs": [],
   "source": []
  },
  {
   "cell_type": "markdown",
   "id": "7c42da6e",
   "metadata": {},
   "source": [
    "You can find the original Jupyter Notebook here:"
   ]
  }
 ],
 "metadata": {
  "kernelspec": {
   "display_name": "Python (conda)",
   "language": "python",
   "name": "base"
  },
  "language_info": {
   "codemirror_mode": {
    "name": "ipython",
    "version": 3
   },
   "file_extension": ".py",
   "mimetype": "text/x-python",
   "name": "python",
   "nbconvert_exporter": "python",
   "pygments_lexer": "ipython3",
   "version": "3.9.7"
  },
  "toc": {
   "base_numbering": 1,
   "nav_menu": {},
   "number_sections": false,
   "sideBar": true,
   "skip_h1_title": true,
   "title_cell": "Table of Contents",
   "title_sidebar": "Contents",
   "toc_cell": false,
   "toc_position": {
    "height": "calc(100% - 180px)",
    "left": "10px",
    "top": "150px",
    "width": "260px"
   },
   "toc_section_display": true,
   "toc_window_display": true
  },
  "varInspector": {
   "cols": {
    "lenName": 16,
    "lenType": 16,
    "lenVar": 40
   },
   "kernels_config": {
    "python": {
     "delete_cmd_postfix": "",
     "delete_cmd_prefix": "del ",
     "library": "var_list.py",
     "varRefreshCmd": "print(var_dic_list())"
    },
    "r": {
     "delete_cmd_postfix": ") ",
     "delete_cmd_prefix": "rm(",
     "library": "var_list.r",
     "varRefreshCmd": "cat(var_dic_list()) "
    }
   },
   "types_to_exclude": [
    "module",
    "function",
    "builtin_function_or_method",
    "instance",
    "_Feature"
   ],
   "window_display": false
  }
 },
 "nbformat": 4,
 "nbformat_minor": 5
}
