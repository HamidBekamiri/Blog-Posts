{
 "cells": [
  {
   "cell_type": "markdown",
   "id": "653f6721",
   "metadata": {},
   "source": [
    "# Weighting, Matching, or Regression?"
   ]
  },
  {
   "cell_type": "markdown",
   "id": "08ac227e",
   "metadata": {},
   "source": [
    "*Comparing different methods to condition causal inference on covariates*"
   ]
  },
  {
   "cell_type": "markdown",
   "id": "8524a869",
   "metadata": {},
   "source": [
    "INTRO"
   ]
  },
  {
   "cell_type": "markdown",
   "id": "545b133b",
   "metadata": {},
   "source": [
    "## Example"
   ]
  },
  {
   "cell_type": "markdown",
   "id": "bc549c3f",
   "metadata": {},
   "source": [
    "Assume we were a firm interested in understanding the effect of $D$ on $Y$. Unfortunately, we cannot randomize $D$. Unfortunately we cannot randomize $D$. \n",
    "\n",
    "We can represent the data generating process with the following [**Directed Acyclic Graph (DAG)**](https://towardsdatascience.com/b63dc69e3d8c). If you are not familiar with DAGs, I have written a short [introduction here](https://towardsdatascience.com/b63dc69e3d8c).\n",
    "\n",
    "```mermaid\n",
    "flowchart TB\n",
    "classDef included fill:#DCDCDC,stroke:#000000,stroke-width:2px;\n",
    "classDef excluded fill:#ffffff,stroke:#000000,stroke-width:2px;\n",
    "classDef unobserved fill:#ffffff,stroke:#000000,stroke-width:2px,stroke-dasharray: 5 5;\n",
    "\n",
    "X1((gender))\n",
    "X2((age))\n",
    "X3((income))\n",
    "D((treatment))\n",
    "Y((outcome))\n",
    "\n",
    "D --> Y\n",
    "X1 --> D\n",
    "X1 --> Y\n",
    "X2 --> Y\n",
    "X2 --> D\n",
    "X3 --> Y\n",
    "X3 --> D\n",
    "\n",
    "class D,Y included;\n",
    "class X1,X2,X3 excluded;\n",
    "```\n",
    "\n",
    "We can now generate the simulated data, using the data generating process `dgp_ipw()` from [`src.dgp`](https://github.com/matteocourthoud/Blog-Posts/blob/main/notebooks/src/dgp.py). I also import some plotting functions and libraries from [`src.utils`](https://github.com/matteocourthoud/Blog-Posts/blob/main/notebooks/src/utils.py)."
   ]
  },
  {
   "cell_type": "code",
   "execution_count": 1,
   "id": "78359868",
   "metadata": {
    "ExecuteTime": {
     "end_time": "2022-06-30T07:06:39.604958Z",
     "start_time": "2022-06-30T07:06:39.194844Z"
    }
   },
   "outputs": [],
   "source": [
    "%matplotlib inline\n",
    "%config InlineBackend.figure_format = 'retina'"
   ]
  },
  {
   "cell_type": "code",
   "execution_count": 2,
   "id": "9c6c717e",
   "metadata": {
    "ExecuteTime": {
     "end_time": "2022-06-30T07:06:40.205766Z",
     "start_time": "2022-06-30T07:06:39.605943Z"
    }
   },
   "outputs": [],
   "source": [
    "from src.utils import *\n",
    "from src.dgp import dgp_ipw"
   ]
  },
  {
   "cell_type": "code",
   "execution_count": 3,
   "id": "23e36d5e",
   "metadata": {
    "ExecuteTime": {
     "end_time": "2022-06-30T07:06:40.213827Z",
     "start_time": "2022-06-30T07:06:40.207830Z"
    },
    "scrolled": false
   },
   "outputs": [
    {
     "data": {
      "text/html": [
       "<div>\n",
       "<style scoped>\n",
       "    .dataframe tbody tr th:only-of-type {\n",
       "        vertical-align: middle;\n",
       "    }\n",
       "\n",
       "    .dataframe tbody tr th {\n",
       "        vertical-align: top;\n",
       "    }\n",
       "\n",
       "    .dataframe thead th {\n",
       "        text-align: right;\n",
       "    }\n",
       "</style>\n",
       "<table border=\"1\" class=\"dataframe\">\n",
       "  <thead>\n",
       "    <tr style=\"text-align: right;\">\n",
       "      <th></th>\n",
       "      <th>outcome</th>\n",
       "      <th>treated</th>\n",
       "      <th>male</th>\n",
       "      <th>age</th>\n",
       "      <th>income</th>\n",
       "    </tr>\n",
       "  </thead>\n",
       "  <tbody>\n",
       "    <tr>\n",
       "      <th>0</th>\n",
       "      <td>26.10</td>\n",
       "      <td>True</td>\n",
       "      <td>0</td>\n",
       "      <td>39.0</td>\n",
       "      <td>2035.0</td>\n",
       "    </tr>\n",
       "    <tr>\n",
       "      <th>1</th>\n",
       "      <td>38.49</td>\n",
       "      <td>True</td>\n",
       "      <td>1</td>\n",
       "      <td>22.0</td>\n",
       "      <td>1384.0</td>\n",
       "    </tr>\n",
       "    <tr>\n",
       "      <th>2</th>\n",
       "      <td>23.69</td>\n",
       "      <td>False</td>\n",
       "      <td>0</td>\n",
       "      <td>22.0</td>\n",
       "      <td>1361.0</td>\n",
       "    </tr>\n",
       "    <tr>\n",
       "      <th>3</th>\n",
       "      <td>37.24</td>\n",
       "      <td>True</td>\n",
       "      <td>0</td>\n",
       "      <td>32.0</td>\n",
       "      <td>2942.0</td>\n",
       "    </tr>\n",
       "    <tr>\n",
       "      <th>4</th>\n",
       "      <td>26.43</td>\n",
       "      <td>False</td>\n",
       "      <td>0</td>\n",
       "      <td>47.0</td>\n",
       "      <td>2426.0</td>\n",
       "    </tr>\n",
       "  </tbody>\n",
       "</table>\n",
       "</div>"
      ],
      "text/plain": [
       "   outcome  treated  male   age  income\n",
       "0    26.10     True     0  39.0  2035.0\n",
       "1    38.49     True     1  22.0  1384.0\n",
       "2    23.69    False     0  22.0  1361.0\n",
       "3    37.24     True     0  32.0  2942.0\n",
       "4    26.43    False     0  47.0  2426.0"
      ]
     },
     "execution_count": 3,
     "metadata": {},
     "output_type": "execute_result"
    }
   ],
   "source": [
    "df = dgp_ipw().generate_data()\n",
    "df.head()"
   ]
  },
  {
   "cell_type": "markdown",
   "id": "a2b39301",
   "metadata": {},
   "source": [
    "We have informations on 1000 individuals indexed by `i` for whom we observe the revenue generated pre and post treatment, `revenue0` and `revenue1` respectively, and whether they have been exposed to the `ad_campaign`.\n",
    "\n",
    "Are the covariates balanced?"
   ]
  },
  {
   "cell_type": "code",
   "execution_count": 5,
   "id": "e9e28983",
   "metadata": {
    "ExecuteTime": {
     "end_time": "2022-06-30T07:06:52.800666Z",
     "start_time": "2022-06-30T07:06:52.766426Z"
    }
   },
   "outputs": [
    {
     "data": {
      "text/html": [
       "<div>\n",
       "<style scoped>\n",
       "    .dataframe tbody tr th:only-of-type {\n",
       "        vertical-align: middle;\n",
       "    }\n",
       "\n",
       "    .dataframe tbody tr th {\n",
       "        vertical-align: top;\n",
       "    }\n",
       "\n",
       "    .dataframe thead th {\n",
       "        text-align: right;\n",
       "    }\n",
       "</style>\n",
       "<table border=\"1\" class=\"dataframe\">\n",
       "  <thead>\n",
       "    <tr style=\"text-align: right;\">\n",
       "      <th></th>\n",
       "      <th>Control</th>\n",
       "      <th>Treatment</th>\n",
       "      <th>SMD</th>\n",
       "    </tr>\n",
       "    <tr>\n",
       "      <th>Variable</th>\n",
       "      <th></th>\n",
       "      <th></th>\n",
       "      <th></th>\n",
       "    </tr>\n",
       "  </thead>\n",
       "  <tbody>\n",
       "    <tr>\n",
       "      <th>n</th>\n",
       "      <td>451</td>\n",
       "      <td>549</td>\n",
       "      <td></td>\n",
       "    </tr>\n",
       "    <tr>\n",
       "      <th>age</th>\n",
       "      <td>32.58 (8.14)</td>\n",
       "      <td>31.81 (8.57)</td>\n",
       "      <td>-0.0912</td>\n",
       "    </tr>\n",
       "    <tr>\n",
       "      <th>income</th>\n",
       "      <td>1858.53 (568.18)</td>\n",
       "      <td>1963.41 (589.27)</td>\n",
       "      <td>0.1812</td>\n",
       "    </tr>\n",
       "    <tr>\n",
       "      <th>male</th>\n",
       "      <td>0.45 (0.50)</td>\n",
       "      <td>0.56 (0.50)</td>\n",
       "      <td>0.2209</td>\n",
       "    </tr>\n",
       "    <tr>\n",
       "      <th>outcome</th>\n",
       "      <td>23.07 (5.20)</td>\n",
       "      <td>28.67 (5.30)</td>\n",
       "      <td>1.0678</td>\n",
       "    </tr>\n",
       "  </tbody>\n",
       "</table>\n",
       "</div>"
      ],
      "text/plain": [
       "                   Control         Treatment     SMD\n",
       "Variable                                            \n",
       "n                      451               549        \n",
       "age           32.58 (8.14)      31.81 (8.57) -0.0912\n",
       "income    1858.53 (568.18)  1963.41 (589.27)  0.1812\n",
       "male           0.45 (0.50)       0.56 (0.50)  0.2209\n",
       "outcome       23.07 (5.20)      28.67 (5.30)  1.0678"
      ]
     },
     "execution_count": 5,
     "metadata": {},
     "output_type": "execute_result"
    }
   ],
   "source": [
    "from causalml.match import create_table_one\n",
    "\n",
    "cols = ['outcome', 'male', 'age', 'income']\n",
    "create_table_one(df, 'treated', cols)"
   ]
  },
  {
   "cell_type": "markdown",
   "id": "3c238195",
   "metadata": {},
   "source": [
    "Another way to visually observe all the differences at once is with a paired violinplot."
   ]
  },
  {
   "cell_type": "code",
   "execution_count": 7,
   "id": "a5a52a0e",
   "metadata": {
    "ExecuteTime": {
     "end_time": "2022-06-30T07:07:03.803181Z",
     "start_time": "2022-06-30T07:07:03.780094Z"
    }
   },
   "outputs": [
    {
     "data": {
      "text/html": [
       "<div>\n",
       "<style scoped>\n",
       "    .dataframe tbody tr th:only-of-type {\n",
       "        vertical-align: middle;\n",
       "    }\n",
       "\n",
       "    .dataframe tbody tr th {\n",
       "        vertical-align: top;\n",
       "    }\n",
       "\n",
       "    .dataframe thead th {\n",
       "        text-align: right;\n",
       "    }\n",
       "</style>\n",
       "<table border=\"1\" class=\"dataframe\">\n",
       "  <thead>\n",
       "    <tr style=\"text-align: right;\">\n",
       "      <th></th>\n",
       "      <th>treated</th>\n",
       "      <th>variable</th>\n",
       "      <th>value</th>\n",
       "    </tr>\n",
       "  </thead>\n",
       "  <tbody>\n",
       "    <tr>\n",
       "      <th>0</th>\n",
       "      <td>True</td>\n",
       "      <td>outcome</td>\n",
       "      <td>-0.007683</td>\n",
       "    </tr>\n",
       "    <tr>\n",
       "      <th>1</th>\n",
       "      <td>True</td>\n",
       "      <td>outcome</td>\n",
       "      <td>2.076080</td>\n",
       "    </tr>\n",
       "    <tr>\n",
       "      <th>2</th>\n",
       "      <td>False</td>\n",
       "      <td>outcome</td>\n",
       "      <td>-0.412999</td>\n",
       "    </tr>\n",
       "    <tr>\n",
       "      <th>3</th>\n",
       "      <td>True</td>\n",
       "      <td>outcome</td>\n",
       "      <td>1.865854</td>\n",
       "    </tr>\n",
       "    <tr>\n",
       "      <th>4</th>\n",
       "      <td>False</td>\n",
       "      <td>outcome</td>\n",
       "      <td>0.047817</td>\n",
       "    </tr>\n",
       "    <tr>\n",
       "      <th>...</th>\n",
       "      <td>...</td>\n",
       "      <td>...</td>\n",
       "      <td>...</td>\n",
       "    </tr>\n",
       "    <tr>\n",
       "      <th>3995</th>\n",
       "      <td>True</td>\n",
       "      <td>income</td>\n",
       "      <td>-0.048306</td>\n",
       "    </tr>\n",
       "    <tr>\n",
       "      <th>3996</th>\n",
       "      <td>False</td>\n",
       "      <td>income</td>\n",
       "      <td>-0.280300</td>\n",
       "    </tr>\n",
       "    <tr>\n",
       "      <th>3997</th>\n",
       "      <td>True</td>\n",
       "      <td>income</td>\n",
       "      <td>0.972468</td>\n",
       "    </tr>\n",
       "    <tr>\n",
       "      <th>3998</th>\n",
       "      <td>True</td>\n",
       "      <td>income</td>\n",
       "      <td>0.063395</td>\n",
       "    </tr>\n",
       "    <tr>\n",
       "      <th>3999</th>\n",
       "      <td>False</td>\n",
       "      <td>income</td>\n",
       "      <td>-0.204688</td>\n",
       "    </tr>\n",
       "  </tbody>\n",
       "</table>\n",
       "<p>4000 rows × 3 columns</p>\n",
       "</div>"
      ],
      "text/plain": [
       "      treated variable     value\n",
       "0        True  outcome -0.007683\n",
       "1        True  outcome  2.076080\n",
       "2       False  outcome -0.412999\n",
       "3        True  outcome  1.865854\n",
       "4       False  outcome  0.047817\n",
       "...       ...      ...       ...\n",
       "3995     True   income -0.048306\n",
       "3996    False   income -0.280300\n",
       "3997     True   income  0.972468\n",
       "3998     True   income  0.063395\n",
       "3999    False   income -0.204688\n",
       "\n",
       "[4000 rows x 3 columns]"
      ]
     },
     "execution_count": 7,
     "metadata": {},
     "output_type": "execute_result"
    }
   ],
   "source": [
    "df_long = df\n",
    "df_long[cols] =(df_long[cols] - df_long[cols].mean()) / df_long[cols].std()\n",
    "df_long = pd.melt(df_long, id_vars='treated', value_name='value')\n",
    "df_long"
   ]
  },
  {
   "cell_type": "code",
   "execution_count": 8,
   "id": "bb3b4e1b",
   "metadata": {
    "ExecuteTime": {
     "end_time": "2022-06-30T07:07:04.176426Z",
     "start_time": "2022-06-30T07:07:04.037630Z"
    }
   },
   "outputs": [
    {
     "data": {
      "image/png": "[encoded data removed]",
      "text/plain": [
       "<Figure size 720x432 with 1 Axes>"
      ]
     },
     "metadata": {
      "image/png": {
       "height": 399,
       "width": 627
      }
     },
     "output_type": "display_data"
    }
   ],
   "source": [
    "sns.violinplot(y=\"variable\", x=\"value\", hue=\"treated\", data=df_long, palette=\"muted\", split=True).\\\n",
    "    set(xlabel=\"\", ylabel=\"\", title=\"Normalized Variable Distribution\");"
   ]
  },
  {
   "cell_type": "markdown",
   "id": "f475dbc4",
   "metadata": {},
   "source": [
    "If we do not control for the observable characteristics, we are unable to estimate the true treatment effect.\n",
    "\n",
    "```mermaid\n",
    "flowchart TB\n",
    "classDef included fill:#DCDCDC,stroke:#000000,stroke-width:2px;\n",
    "classDef excluded fill:#ffffff,stroke:#000000,stroke-width:2px;\n",
    "classDef unobserved fill:#ffffff,stroke:#000000,stroke-width:2px,stroke-dasharray: 5 5;\n",
    "\n",
    "X1((gender))\n",
    "X2((age))\n",
    "X3((income))\n",
    "D((treatment))\n",
    "Y((outcome))\n",
    "\n",
    "\n",
    "\n",
    "linkStyle 0 stroke:#00ff00,stroke-width:4px;\n",
    "linkStyle 1,2,3,4,5,6 stroke:#ff0000,stroke-width:4px;\n",
    "class D,Y included;\n",
    "class X1,X2,X3 excluded;\n",
    "```\n",
    "\n",
    "By controlling for observable characteristics, we \"block\" the backdoor paths and we are able to recover the causal effect of $D$ on $Y$.\n",
    "\n",
    "```mermaid\n",
    "flowchart TB\n",
    "classDef included fill:#DCDCDC,stroke:#000000,stroke-width:2px;\n",
    "classDef excluded fill:#ffffff,stroke:#000000,stroke-width:2px;\n",
    "classDef unobserved fill:#ffffff,stroke:#000000,stroke-width:2px,stroke-dasharray: 5 5;\n",
    "\n",
    "X1((gender))\n",
    "X2((age))\n",
    "X3((income))\n",
    "D((treatment))\n",
    "Y((outcome))\n",
    "\n",
    "D --> Y\n",
    "X1 --> D\n",
    "X1 --> Y\n",
    "X2 --> D\n",
    "X2 --> Y\n",
    "X3 --> Y\n",
    "X3 --> D\n",
    "\n",
    "linkStyle 0 stroke:#00ff00,stroke-width:4px;\n",
    "class D,Y,X1,X2,X3 included;\n",
    "```\n",
    "\n",
    "How do we do it? We have some options:\n",
    "\n",
    "- Matching\n",
    "- Propensity score weighting\n",
    "- Regression with control variables\n",
    "\n",
    "How do the methods work and what are the differences?"
   ]
  },
  {
   "cell_type": "markdown",
   "id": "176025d8",
   "metadata": {},
   "source": [
    "## Propensity Score"
   ]
  },
  {
   "cell_type": "markdown",
   "id": "6aff42e4",
   "metadata": {},
   "source": [
    "\n",
    "\n"
   ]
  },
  {
   "cell_type": "markdown",
   "id": "4d85ce06",
   "metadata": {},
   "source": [
    "## Conclusion"
   ]
  },
  {
   "cell_type": "markdown",
   "id": "35304cf3",
   "metadata": {},
   "source": [
    "TBD"
   ]
  },
  {
   "cell_type": "markdown",
   "id": "267173aa",
   "metadata": {},
   "source": [
    "### References"
   ]
  },
  {
   "cell_type": "markdown",
   "id": "69ac9e38",
   "metadata": {},
   "source": [
    "TBD"
   ]
  },
  {
   "cell_type": "markdown",
   "id": "035eef87",
   "metadata": {},
   "source": [
    "### Related Articles"
   ]
  },
  {
   "cell_type": "markdown",
   "id": "29900cda",
   "metadata": {},
   "source": [
    "- [Understanding The Frisch-Waugh-Lovell Theorem](https://towardsdatascience.com/59f801eb3299)\n",
    "- [Understanding Contamination Bias](https://towardsdatascience.com/58b63d25d2ef)\n",
    "- [DAGs and Control Variables](https://towardsdatascience.com/b63dc69e3d8c)"
   ]
  },
  {
   "cell_type": "markdown",
   "id": "fb72cb81",
   "metadata": {},
   "source": [
    "### Code"
   ]
  },
  {
   "cell_type": "markdown",
   "id": "4c12d402",
   "metadata": {},
   "source": [
    "You can find the original Jupyter Notebook here:\n",
    "\n",
    "https://github.com/matteocourthoud/Blog-Posts/blob/main/notebooks/ipw.ipynb"
   ]
  }
 ],
 "metadata": {
  "@webio": {
   "lastCommId": null,
   "lastKernelId": null
  },
  "kernelspec": {
   "display_name": "Python (conda)",
   "language": "python",
   "name": "base"
  },
  "language_info": {
   "codemirror_mode": {
    "name": "ipython",
    "version": 3
   },
   "file_extension": ".py",
   "mimetype": "text/x-python",
   "name": "python",
   "nbconvert_exporter": "python",
   "pygments_lexer": "ipython3",
   "version": "3.9.7"
  },
  "toc": {
   "base_numbering": 1,
   "nav_menu": {},
   "number_sections": false,
   "sideBar": true,
   "skip_h1_title": true,
   "title_cell": "Table of Contents",
   "title_sidebar": "Contents",
   "toc_cell": false,
   "toc_position": {},
   "toc_section_display": true,
   "toc_window_display": true
  },
  "varInspector": {
   "cols": {
    "lenName": 16,
    "lenType": 16,
    "lenVar": 40
   },
   "kernels_config": {
    "python": {
     "delete_cmd_postfix": "",
     "delete_cmd_prefix": "del ",
     "library": "var_list.py",
     "varRefreshCmd": "print(var_dic_list())"
    },
    "r": {
     "delete_cmd_postfix": ") ",
     "delete_cmd_prefix": "rm(",
     "library": "var_list.r",
     "varRefreshCmd": "cat(var_dic_list()) "
    }
   },
   "types_to_exclude": [
    "module",
    "function",
    "builtin_function_or_method",
    "instance",
    "_Feature"
   ],
   "window_display": false
  }
 },
 "nbformat": 4,
 "nbformat_minor": 5
}
