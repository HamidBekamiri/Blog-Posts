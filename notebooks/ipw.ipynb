{
 "cells": [
  {
   "cell_type": "markdown",
   "id": "351a53b5",
   "metadata": {},
   "source": [
    "# Weighting, Matching, or Regression?"
   ]
  },
  {
   "cell_type": "markdown",
   "id": "feb8fdfd",
   "metadata": {},
   "source": [
    "*Comparing different methods to condition causal inference on covariates*"
   ]
  },
  {
   "cell_type": "markdown",
   "id": "91c03c99",
   "metadata": {},
   "source": [
    "INTRO"
   ]
  },
  {
   "cell_type": "markdown",
   "id": "e16bd2d8",
   "metadata": {},
   "source": [
    "## Example"
   ]
  },
  {
   "cell_type": "markdown",
   "id": "644bf1c6",
   "metadata": {},
   "source": [
    "Assume we were a firm interested in understanding the effect of $D$ on $Y$. Unfortunately, we cannot randomize $D$. Unfortunately we cannot randomize $D$. \n",
    "\n",
    "Assume the data generating process can be represented with the following [**Directed Acyclic Graph (DAG)**](https://towardsdatascience.com/b63dc69e3d8c). If you are not familiar with DAGs, I have written a short [introduction here](https://towardsdatascience.com/b63dc69e3d8c).\n",
    "\n",
    "```mermaid\n",
    "flowchart LR\n",
    "classDef included fill:#DCDCDC,stroke:#000000,stroke-width:2px;\n",
    "classDef excluded fill:#ffffff,stroke:#000000,stroke-width:2px;\n",
    "classDef unobserved fill:#ffffff,stroke:#000000,stroke-width:2px,stroke-dasharray: 5 5;\n",
    "\n",
    "X1((gender))\n",
    "X2((age))\n",
    "X3((income))\n",
    "D((D))\n",
    "Y((Y))\n",
    "\n",
    "D --> Y\n",
    "X1 --> D\n",
    "X2 --> D\n",
    "X3 --> D\n",
    "X1 --> Y\n",
    "X2 --> Y\n",
    "X3 --> Y\n",
    "\n",
    "class D,Y included;\n",
    "class X1,X2,X3 excluded;\n",
    "```"
   ]
  },
  {
   "cell_type": "markdown",
   "id": "12417230",
   "metadata": {},
   "source": [
    "## Conclusion"
   ]
  },
  {
   "cell_type": "markdown",
   "id": "c4acf10f",
   "metadata": {},
   "source": [
    "TBD"
   ]
  },
  {
   "cell_type": "markdown",
   "id": "f92f0f1f",
   "metadata": {},
   "source": [
    "### References"
   ]
  },
  {
   "cell_type": "markdown",
   "id": "8bb277bc",
   "metadata": {},
   "source": [
    "TBD"
   ]
  },
  {
   "cell_type": "markdown",
   "id": "e4387c4b",
   "metadata": {},
   "source": [
    "### Related Articles"
   ]
  },
  {
   "cell_type": "markdown",
   "id": "8842e42d",
   "metadata": {},
   "source": [
    "- [Understanding The Frisch-Waugh-Lovell Theorem](https://towardsdatascience.com/59f801eb3299)\n",
    "- [Understanding Contamination Bias](https://towardsdatascience.com/58b63d25d2ef)\n",
    "- [DAGs and Control Variables](https://towardsdatascience.com/b63dc69e3d8c)"
   ]
  },
  {
   "cell_type": "markdown",
   "id": "0b0c7df5",
   "metadata": {},
   "source": [
    "### Code"
   ]
  },
  {
   "cell_type": "markdown",
   "id": "8d30836a",
   "metadata": {},
   "source": [
    "You can find the original Jupyter Notebook here:\n",
    "\n",
    "https://github.com/matteocourthoud/Blog-Posts/blob/main/notebooks/ipw.ipynb"
   ]
  }
 ],
 "metadata": {
  "kernelspec": {
   "display_name": "Python (conda)",
   "language": "python",
   "name": "base"
  },
  "language_info": {
   "codemirror_mode": {
    "name": "ipython",
    "version": 3
   },
   "file_extension": ".py",
   "mimetype": "text/x-python",
   "name": "python",
   "nbconvert_exporter": "python",
   "pygments_lexer": "ipython3",
   "version": "3.9.7"
  },
  "toc": {
   "base_numbering": 1,
   "nav_menu": {},
   "number_sections": false,
   "sideBar": true,
   "skip_h1_title": true,
   "title_cell": "Table of Contents",
   "title_sidebar": "Contents",
   "toc_cell": false,
   "toc_position": {},
   "toc_section_display": true,
   "toc_window_display": true
  },
  "varInspector": {
   "cols": {
    "lenName": 16,
    "lenType": 16,
    "lenVar": 40
   },
   "kernels_config": {
    "python": {
     "delete_cmd_postfix": "",
     "delete_cmd_prefix": "del ",
     "library": "var_list.py",
     "varRefreshCmd": "print(var_dic_list())"
    },
    "r": {
     "delete_cmd_postfix": ") ",
     "delete_cmd_prefix": "rm(",
     "library": "var_list.r",
     "varRefreshCmd": "cat(var_dic_list()) "
    }
   },
   "types_to_exclude": [
    "module",
    "function",
    "builtin_function_or_method",
    "instance",
    "_Feature"
   ],
   "window_display": false
  }
 },
 "nbformat": 4,
 "nbformat_minor": 5
}
