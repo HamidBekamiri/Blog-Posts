{
 "cells": [
  {
   "cell_type": "markdown",
   "id": "6a88bbc6",
   "metadata": {},
   "source": [
    "# CUPED, or how to increase the power of AB tests "
   ]
  },
  {
   "cell_type": "markdown",
   "id": "d1c61c76",
   "metadata": {},
   "source": [
    "*How to use historical data to tell noise and signal apart*"
   ]
  },
  {
   "cell_type": "markdown",
   "id": "554212bc",
   "metadata": {},
   "source": [
    "The data generating process for individual $i$ at time $t$ is the following:\n",
    "\n",
    "$$\n",
    "Y_{it} = \\alpha + \\beta t + \\gamma D_i + \\delta t D_i + \\varepsilon_i + u_{it}\n",
    "$$\n",
    "\n",
    "where\n",
    "\n",
    "- $\\alpha = 5$\n",
    "- $\\beta = 0$\n",
    "- $\\gamma = 1$\n",
    "- $\\delta = 2$\n",
    "- $D \\sim Bern(0.5)$\n",
    "- $\\varepsilon \\sim N(0,1)$\n",
    "- $u \\sim N(0,1)$\n",
    "\n",
    "So that the true treatment effect is $\\delta = 1$."
   ]
  },
  {
   "cell_type": "code",
   "execution_count": 1,
   "id": "78359868",
   "metadata": {
    "ExecuteTime": {
     "end_time": "2022-06-22T09:45:21.212205Z",
     "start_time": "2022-06-22T09:45:20.814177Z"
    }
   },
   "outputs": [],
   "source": [
    "%matplotlib inline\n",
    "%config InlineBackend.figure_format = 'retina'"
   ]
  },
  {
   "cell_type": "code",
   "execution_count": 2,
   "id": "9c6c717e",
   "metadata": {
    "ExecuteTime": {
     "end_time": "2022-06-22T09:45:21.653565Z",
     "start_time": "2022-06-22T09:45:21.213167Z"
    }
   },
   "outputs": [],
   "source": [
    "from src.utils import *\n",
    "from src.dgp import dgp_cuped"
   ]
  },
  {
   "cell_type": "code",
   "execution_count": 3,
   "id": "23e36d5e",
   "metadata": {
    "ExecuteTime": {
     "end_time": "2022-06-22T09:45:21.661037Z",
     "start_time": "2022-06-22T09:45:21.654339Z"
    },
    "scrolled": true
   },
   "outputs": [
    {
     "data": {
      "text/html": [
       "<div>\n",
       "<style scoped>\n",
       "    .dataframe tbody tr th:only-of-type {\n",
       "        vertical-align: middle;\n",
       "    }\n",
       "\n",
       "    .dataframe tbody tr th {\n",
       "        vertical-align: top;\n",
       "    }\n",
       "\n",
       "    .dataframe thead th {\n",
       "        text-align: right;\n",
       "    }\n",
       "</style>\n",
       "<table border=\"1\" class=\"dataframe\">\n",
       "  <thead>\n",
       "    <tr style=\"text-align: right;\">\n",
       "      <th></th>\n",
       "      <th>i</th>\n",
       "      <th>d</th>\n",
       "      <th>y0</th>\n",
       "      <th>y1</th>\n",
       "      <th>x0</th>\n",
       "      <th>x1</th>\n",
       "    </tr>\n",
       "  </thead>\n",
       "  <tbody>\n",
       "    <tr>\n",
       "      <th>0</th>\n",
       "      <td>1</td>\n",
       "      <td>0</td>\n",
       "      <td>5.315635</td>\n",
       "      <td>6.359304</td>\n",
       "      <td>7.096171</td>\n",
       "      <td>11.373674</td>\n",
       "    </tr>\n",
       "    <tr>\n",
       "      <th>1</th>\n",
       "      <td>2</td>\n",
       "      <td>1</td>\n",
       "      <td>2.977799</td>\n",
       "      <td>5.751485</td>\n",
       "      <td>3.598911</td>\n",
       "      <td>9.191610</td>\n",
       "    </tr>\n",
       "    <tr>\n",
       "      <th>2</th>\n",
       "      <td>3</td>\n",
       "      <td>0</td>\n",
       "      <td>4.693796</td>\n",
       "      <td>7.025253</td>\n",
       "      <td>5.599818</td>\n",
       "      <td>12.675708</td>\n",
       "    </tr>\n",
       "    <tr>\n",
       "      <th>3</th>\n",
       "      <td>4</td>\n",
       "      <td>0</td>\n",
       "      <td>5.827975</td>\n",
       "      <td>6.540667</td>\n",
       "      <td>9.974215</td>\n",
       "      <td>9.025466</td>\n",
       "    </tr>\n",
       "    <tr>\n",
       "      <th>4</th>\n",
       "      <td>5</td>\n",
       "      <td>0</td>\n",
       "      <td>5.230095</td>\n",
       "      <td>6.910165</td>\n",
       "      <td>7.590962</td>\n",
       "      <td>8.609321</td>\n",
       "    </tr>\n",
       "  </tbody>\n",
       "</table>\n",
       "</div>"
      ],
      "text/plain": [
       "   i  d        y0        y1        x0         x1\n",
       "0  1  0  5.315635  6.359304  7.096171  11.373674\n",
       "1  2  1  2.977799  5.751485  3.598911   9.191610\n",
       "2  3  0  4.693796  7.025253  5.599818  12.675708\n",
       "3  4  0  5.827975  6.540667  9.974215   9.025466\n",
       "4  5  0  5.230095  6.910165  7.590962   8.609321"
      ]
     },
     "execution_count": 3,
     "metadata": {},
     "output_type": "execute_result"
    }
   ],
   "source": [
    "df = dgp_cuped().generate_data()\n",
    "df.head()"
   ]
  },
  {
   "cell_type": "markdown",
   "id": "f01d2932",
   "metadata": {},
   "source": [
    "## Difference in Means"
   ]
  },
  {
   "cell_type": "markdown",
   "id": "87bd93bc",
   "metadata": {},
   "source": [
    "In randomized experiments or A/B tests, randomization allows us to estimate the average treatment effect using a simple difference in means. \n",
    "\n",
    "We can obtain the same estimate by regressing the post-treatment outcome $y_1$ on the treatment indicator $d$."
   ]
  },
  {
   "cell_type": "code",
   "execution_count": 4,
   "id": "745ff819",
   "metadata": {
    "ExecuteTime": {
     "end_time": "2022-06-22T09:45:21.669214Z",
     "start_time": "2022-06-22T09:45:21.662312Z"
    }
   },
   "outputs": [
    {
     "data": {
      "text/html": [
       "<table class=\"simpletable\">\n",
       "<tr>\n",
       "      <td></td>         <th>coef</th>     <th>std err</th>      <th>t</th>      <th>P>|t|</th>  <th>[0.025</th>    <th>0.975]</th>  \n",
       "</tr>\n",
       "<tr>\n",
       "  <th>Intercept</th> <td>    6.2995</td> <td>    0.211</td> <td>   29.904</td> <td> 0.000</td> <td>    5.881</td> <td>    6.718</td>\n",
       "</tr>\n",
       "<tr>\n",
       "  <th>d</th>         <td>    1.7914</td> <td>    0.301</td> <td>    5.953</td> <td> 0.000</td> <td>    1.194</td> <td>    2.389</td>\n",
       "</tr>\n",
       "</table>"
      ],
      "text/plain": [
       "<class 'statsmodels.iolib.table.SimpleTable'>"
      ]
     },
     "execution_count": 4,
     "metadata": {},
     "output_type": "execute_result"
    }
   ],
   "source": [
    "smf.ols('y1 ~ d', data=df).fit().summary().tables[1]"
   ]
  },
  {
   "cell_type": "markdown",
   "id": "413e7341",
   "metadata": {},
   "source": [
    "This estimator is unbiased, i.e. it delivers the correct value, in expectation. \n",
    "\n",
    "Can we do **better**, using the pre-treatment information?"
   ]
  },
  {
   "cell_type": "markdown",
   "id": "96c46aa8",
   "metadata": {},
   "source": [
    "## Stratification"
   ]
  },
  {
   "cell_type": "markdown",
   "id": "07a7e714",
   "metadata": {},
   "source": []
  },
  {
   "cell_type": "markdown",
   "id": "551c65f1",
   "metadata": {},
   "source": [
    "## CUPED"
   ]
  },
  {
   "cell_type": "markdown",
   "id": "b6dc8fec",
   "metadata": {},
   "source": [
    "The CUPED (Controlled-Experiment using Pre-Experiment Data) estimator was first introduced by [Deng, Xu, Kohavi, Walker (2013)](https://dl.acm.org/doi/abs/10.1145/2433396.2433413) and has been widely used in companies such as [Netflix](https://www.kdd.org/kdd2016/papers/files/adp0945-xieA.pdf), [Booking](https://booking.ai/995d186fff1d), [Meta](https://research.facebook.com/blog/2020/10/increasing-the-sensitivity-of-a-b-tests-by-utilizing-the-variance-estimates-of-experimental-units/), [TripAdvisor](https://www.tripadvisor.com/engineering/reducing-a-b-test-measurement-variance-by-30/), and many other.\n",
    "\n",
    "The **idea** of CUPED is the following. Suppose you have access to another random variable $X$ which is **not affected** by the treatment and has known expectation $\\mathbb E[X]$. Then define\n",
    "\n",
    "$$\n",
    "\\hat Y_{cuped,1} = \\bar Y_1 - \\theta \\bar X + \\theta \\mathbb E [X]\n",
    "$$\n",
    "\n",
    "where $\\theta$ is a scalar. This estimator is an **unbiased** estimator for $\\mathbb E[Y]$ since in expectation the two last terms cancel out. However, the variance of $\\hat Y_{cuped,1}$ is \n",
    "\n",
    "$$\n",
    "\\begin{aligned}\n",
    "\\text{Var} \\left( \\hat Y_{cuped,1} \\right) &= \\text{Var} \\left( \\bar Y_1 - \\theta \\bar X + \\theta \\mathbb E [X] \\right) = \\newline\n",
    "&= \\text{Var} \\left( Y_1 - \\theta X \\right) / n = \\newline\n",
    "&= \\Big( \\text{Var} (Y_1) + \\theta^2 \\text{Var} (X) - 2 \\theta \\text{Cov} (X,Y) \\Big) / n\n",
    "\\end{aligned}\n",
    "$$\n",
    "\n",
    "Note that the variance of $\\hat Y_{cuped,1}$ is minimized for \n",
    "\n",
    "$$\n",
    "\\theta^* = \\frac{\\text{Cov} (X,Y)}{\\text{Var} (X)} \n",
    "$$\n",
    "\n",
    "Which is the **OLS** estimator of a linear regression of $Y$ on $X$. Substituting $\\theta^*$ into the formula of the variance of $\\hat Y_{cuped,1}$ we obtain\n",
    "\n",
    "$$\n",
    "\\text{Var} \\left( \\hat Y_{cuped,1} \\right) = \\text{Var} (\\bar Y) (1 - \\rho^2)\n",
    "$$\n",
    "\n",
    "where $\\rho$ is the **correlation** between $Y$ and $X$. Therefore, the higher the correlation between $Y$ and $X$, the higher the variance reduction of CUPED.\n",
    "\n",
    "We can then **estimate the treatment effect** using the difference between control and treatment group\n",
    "\n",
    "$$\n",
    "\\begin{aligned}\n",
    "\\Delta_{CUPED} &= \\hat Y_{cuped,1}(D=1) - \\hat Y_{cuped,1}(D=0) = \\\\\n",
    "&= \\big( \\bar Y_1 - \\theta \\bar X + \\theta \\mathbb E [X] \\ \\big| \\ D = 1 \\big) - \\big( \\bar Y_1 - \\theta \\bar X + \\theta \\mathbb E [X] \\ \\big| \\ D = 0 \\big) = \\\\\n",
    "&= \\big( \\bar Y_1 - \\theta \\bar X \\ \\big| \\ D = 1 \\big) - \\big( \\bar Y_1 - \\theta \\bar X \\ \\big| \\ D = 0 \\big)\n",
    "\\end{aligned}\n",
    "$$\n",
    "\n",
    "Note that $\\mathbb E[X]$ cancels out when taking the difference. Therefore, it is sufficient to compute \n",
    "\n",
    "$$\n",
    "\\hat Y_{cuped,1}' = \\bar Y_1 - \\theta \\bar X\n",
    "$$\n",
    "\n",
    "This is not an unbiased estimator of $\\mathbb E[Y]$ but still delivers an unbiased estimator of the average treatment effect."
   ]
  },
  {
   "cell_type": "markdown",
   "id": "69ff20cc",
   "metadata": {},
   "source": [
    "What is the **optimal choice** for the control variable $X$?\n",
    "\n",
    "We know that $X$ should have the following properties:\n",
    "\n",
    "- not affected by the treatment\n",
    "- as correlated with $Y_1$ as possible\n",
    "\n",
    "The authors of the paper suggest using the pre-treatment outcome $Y_{0}$ since it gives the most reduction in variance in practice. \n",
    "\n",
    "Therefore, **in practice**, we can compute the CUPED estimate of the average treatment effect as follows:\n",
    "\n",
    "1. Regress $Y_1$ on $Y_0$ and estimate $\\hat \\theta$\n",
    "2. Compute $\\hat Y_{cuped,1} = \\bar Y_1 - \\hat \\theta \\bar Y_0$\n",
    "3. Compute the difference of $\\hat Y_{cuped,1}$ between treatment and control group\n",
    "\n",
    "Equivalently, we can compute $\\hat Y_{cuped,1}$ at the individual level and then regress it on the treatment dummy variable $D$."
   ]
  },
  {
   "cell_type": "code",
   "execution_count": 5,
   "id": "47a76464",
   "metadata": {
    "ExecuteTime": {
     "end_time": "2022-06-22T09:45:21.674897Z",
     "start_time": "2022-06-22T09:45:21.669976Z"
    }
   },
   "outputs": [
    {
     "data": {
      "text/plain": [
       "1.1458111091416718"
      ]
     },
     "execution_count": 5,
     "metadata": {},
     "output_type": "execute_result"
    }
   ],
   "source": [
    "theta = smf.ols('y1 ~ y0', data=df).fit().params[1]\n",
    "theta"
   ]
  },
  {
   "cell_type": "code",
   "execution_count": 6,
   "id": "c4d98cf3",
   "metadata": {
    "ExecuteTime": {
     "end_time": "2022-06-22T09:45:21.678224Z",
     "start_time": "2022-06-22T09:45:21.675592Z"
    }
   },
   "outputs": [],
   "source": [
    "df['y1_cuped'] = df['y1'] - theta * df['y0']"
   ]
  },
  {
   "cell_type": "code",
   "execution_count": 7,
   "id": "457ea6f9",
   "metadata": {
    "ExecuteTime": {
     "end_time": "2022-06-22T09:45:21.687256Z",
     "start_time": "2022-06-22T09:45:21.679503Z"
    }
   },
   "outputs": [
    {
     "data": {
      "text/html": [
       "<table class=\"simpletable\">\n",
       "<tr>\n",
       "      <td></td>         <th>coef</th>     <th>std err</th>      <th>t</th>      <th>P>|t|</th>  <th>[0.025</th>    <th>0.975]</th>  \n",
       "</tr>\n",
       "<tr>\n",
       "  <th>Intercept</th> <td>    0.4008</td> <td>    0.143</td> <td>    2.810</td> <td> 0.006</td> <td>    0.118</td> <td>    0.684</td>\n",
       "</tr>\n",
       "<tr>\n",
       "  <th>d</th>         <td>    1.9415</td> <td>    0.204</td> <td>    9.529</td> <td> 0.000</td> <td>    1.537</td> <td>    2.346</td>\n",
       "</tr>\n",
       "</table>"
      ],
      "text/plain": [
       "<class 'statsmodels.iolib.table.SimpleTable'>"
      ]
     },
     "execution_count": 7,
     "metadata": {},
     "output_type": "execute_result"
    }
   ],
   "source": [
    "smf.ols('y1_cuped ~ d', data=df).fit().summary().tables[1]"
   ]
  },
  {
   "cell_type": "markdown",
   "id": "4e3bb40c",
   "metadata": {},
   "source": [
    "The standard error is 33% smaller!"
   ]
  },
  {
   "cell_type": "markdown",
   "id": "04a888d1",
   "metadata": {},
   "source": [
    "### No Pre-treatment Outcome"
   ]
  },
  {
   "cell_type": "markdown",
   "id": "e75e2b77",
   "metadata": {},
   "source": [
    "We could use CUPED also without $Y_0$, we just need another variable that is correlated with $Y$."
   ]
  },
  {
   "cell_type": "code",
   "execution_count": 8,
   "id": "14848e4d",
   "metadata": {
    "ExecuteTime": {
     "end_time": "2022-06-22T09:45:21.692803Z",
     "start_time": "2022-06-22T09:45:21.688060Z"
    }
   },
   "outputs": [
    {
     "data": {
      "text/plain": [
       "0.49315539693983107"
      ]
     },
     "execution_count": 8,
     "metadata": {},
     "output_type": "execute_result"
    }
   ],
   "source": [
    "theta_x = smf.ols('y1 ~ x0', data=df).fit().params[1]\n",
    "theta_x"
   ]
  },
  {
   "cell_type": "code",
   "execution_count": 9,
   "id": "abc763a6",
   "metadata": {
    "ExecuteTime": {
     "end_time": "2022-06-22T09:45:21.696681Z",
     "start_time": "2022-06-22T09:45:21.693781Z"
    }
   },
   "outputs": [],
   "source": [
    "df['y1_cuped_x'] = df['y1'] - theta_x * df['x0']"
   ]
  },
  {
   "cell_type": "code",
   "execution_count": 10,
   "id": "5f0dc853",
   "metadata": {
    "ExecuteTime": {
     "end_time": "2022-06-22T09:45:21.704934Z",
     "start_time": "2022-06-22T09:45:21.698819Z"
    }
   },
   "outputs": [
    {
     "data": {
      "text/html": [
       "<table class=\"simpletable\">\n",
       "<tr>\n",
       "      <td></td>         <th>coef</th>     <th>std err</th>      <th>t</th>      <th>P>|t|</th>  <th>[0.025</th>    <th>0.975]</th>  \n",
       "</tr>\n",
       "<tr>\n",
       "  <th>Intercept</th> <td>    2.5108</td> <td>    0.169</td> <td>   14.847</td> <td> 0.000</td> <td>    2.175</td> <td>    2.846</td>\n",
       "</tr>\n",
       "<tr>\n",
       "  <th>d</th>         <td>    1.9000</td> <td>    0.242</td> <td>    7.865</td> <td> 0.000</td> <td>    1.421</td> <td>    2.379</td>\n",
       "</tr>\n",
       "</table>"
      ],
      "text/plain": [
       "<class 'statsmodels.iolib.table.SimpleTable'>"
      ]
     },
     "execution_count": 10,
     "metadata": {},
     "output_type": "execute_result"
    }
   ],
   "source": [
    "smf.ols('y1_cuped_x ~ d', data=df).fit().summary().tables[1]"
   ]
  },
  {
   "cell_type": "markdown",
   "id": "55290284",
   "metadata": {},
   "source": [
    "Now CUPED is less efficient but still more efficient than the simple difference."
   ]
  },
  {
   "cell_type": "markdown",
   "id": "7af02548",
   "metadata": {},
   "source": [
    "## CUPED vs Other"
   ]
  },
  {
   "cell_type": "markdown",
   "id": "273bf1b3",
   "metadata": {},
   "source": [
    "### Control for Y0"
   ]
  },
  {
   "cell_type": "markdown",
   "id": "85be1c16",
   "metadata": {},
   "source": [
    "Is CUPED just the simple difference with an additional control variable?"
   ]
  },
  {
   "cell_type": "code",
   "execution_count": 11,
   "id": "a0089ac0",
   "metadata": {
    "ExecuteTime": {
     "end_time": "2022-06-22T09:45:21.713578Z",
     "start_time": "2022-06-22T09:45:21.705675Z"
    }
   },
   "outputs": [
    {
     "data": {
      "text/html": [
       "<table class=\"simpletable\">\n",
       "<tr>\n",
       "      <td></td>         <th>coef</th>     <th>std err</th>      <th>t</th>      <th>P>|t|</th>  <th>[0.025</th>    <th>0.975]</th>  \n",
       "</tr>\n",
       "<tr>\n",
       "  <th>Intercept</th> <td>   -0.0061</td> <td>    0.603</td> <td>   -0.010</td> <td> 0.992</td> <td>   -1.204</td> <td>    1.192</td>\n",
       "</tr>\n",
       "<tr>\n",
       "  <th>y0</th>        <td>    1.2249</td> <td>    0.114</td> <td>   10.755</td> <td> 0.000</td> <td>    0.999</td> <td>    1.451</td>\n",
       "</tr>\n",
       "<tr>\n",
       "  <th>d</th>         <td>    1.9519</td> <td>    0.205</td> <td>    9.529</td> <td> 0.000</td> <td>    1.545</td> <td>    2.358</td>\n",
       "</tr>\n",
       "</table>"
      ],
      "text/plain": [
       "<class 'statsmodels.iolib.table.SimpleTable'>"
      ]
     },
     "execution_count": 11,
     "metadata": {},
     "output_type": "execute_result"
    }
   ],
   "source": [
    "smf.ols('y1 ~ y0 + d', data=df).fit().summary().tables[1]"
   ]
  },
  {
   "cell_type": "markdown",
   "id": "60ee0ff1",
   "metadata": {},
   "source": [
    "What about $X_0$?"
   ]
  },
  {
   "cell_type": "code",
   "execution_count": 19,
   "id": "63c02c13",
   "metadata": {
    "ExecuteTime": {
     "end_time": "2022-06-22T09:46:09.404203Z",
     "start_time": "2022-06-22T09:46:09.382567Z"
    }
   },
   "outputs": [
    {
     "data": {
      "text/html": [
       "<table class=\"simpletable\">\n",
       "<tr>\n",
       "      <td></td>         <th>coef</th>     <th>std err</th>      <th>t</th>      <th>P>|t|</th>  <th>[0.025</th>    <th>0.975]</th>  \n",
       "</tr>\n",
       "<tr>\n",
       "  <th>Intercept</th> <td>    2.2259</td> <td>    0.580</td> <td>    3.837</td> <td> 0.000</td> <td>    1.075</td> <td>    3.377</td>\n",
       "</tr>\n",
       "<tr>\n",
       "  <th>x0</th>        <td>    0.5302</td> <td>    0.072</td> <td>    7.343</td> <td> 0.000</td> <td>    0.387</td> <td>    0.674</td>\n",
       "</tr>\n",
       "<tr>\n",
       "  <th>d</th>         <td>    1.9082</td> <td>    0.243</td> <td>    7.852</td> <td> 0.000</td> <td>    1.426</td> <td>    2.390</td>\n",
       "</tr>\n",
       "</table>"
      ],
      "text/plain": [
       "<class 'statsmodels.iolib.table.SimpleTable'>"
      ]
     },
     "execution_count": 19,
     "metadata": {},
     "output_type": "execute_result"
    }
   ],
   "source": [
    "smf.ols('y1 ~ x0 + d', data=df).fit().summary().tables[1]"
   ]
  },
  {
   "cell_type": "markdown",
   "id": "d17cff45",
   "metadata": {},
   "source": [
    "### DiD"
   ]
  },
  {
   "cell_type": "markdown",
   "id": "788db269",
   "metadata": {},
   "source": [
    "Is CUPED just DiD? "
   ]
  },
  {
   "cell_type": "code",
   "execution_count": 12,
   "id": "30a381c4",
   "metadata": {
    "ExecuteTime": {
     "end_time": "2022-06-22T09:45:21.725670Z",
     "start_time": "2022-06-22T09:45:21.714487Z"
    }
   },
   "outputs": [
    {
     "data": {
      "text/html": [
       "<div>\n",
       "<style scoped>\n",
       "    .dataframe tbody tr th:only-of-type {\n",
       "        vertical-align: middle;\n",
       "    }\n",
       "\n",
       "    .dataframe tbody tr th {\n",
       "        vertical-align: top;\n",
       "    }\n",
       "\n",
       "    .dataframe thead th {\n",
       "        text-align: right;\n",
       "    }\n",
       "</style>\n",
       "<table border=\"1\" class=\"dataframe\">\n",
       "  <thead>\n",
       "    <tr style=\"text-align: right;\">\n",
       "      <th></th>\n",
       "      <th>i</th>\n",
       "      <th>t</th>\n",
       "      <th>x1</th>\n",
       "      <th>d</th>\n",
       "      <th>y1_cuped_x</th>\n",
       "      <th>y1_cuped</th>\n",
       "      <th>x0</th>\n",
       "      <th>y</th>\n",
       "    </tr>\n",
       "  </thead>\n",
       "  <tbody>\n",
       "    <tr>\n",
       "      <th>0</th>\n",
       "      <td>1</td>\n",
       "      <td>0</td>\n",
       "      <td>11.373674</td>\n",
       "      <td>0</td>\n",
       "      <td>2.859789</td>\n",
       "      <td>0.268590</td>\n",
       "      <td>7.096171</td>\n",
       "      <td>5.315635</td>\n",
       "    </tr>\n",
       "    <tr>\n",
       "      <th>1</th>\n",
       "      <td>2</td>\n",
       "      <td>0</td>\n",
       "      <td>9.191610</td>\n",
       "      <td>1</td>\n",
       "      <td>3.976662</td>\n",
       "      <td>2.339490</td>\n",
       "      <td>3.598911</td>\n",
       "      <td>2.977799</td>\n",
       "    </tr>\n",
       "    <tr>\n",
       "      <th>2</th>\n",
       "      <td>3</td>\n",
       "      <td>0</td>\n",
       "      <td>12.675708</td>\n",
       "      <td>0</td>\n",
       "      <td>4.263673</td>\n",
       "      <td>1.647050</td>\n",
       "      <td>5.599818</td>\n",
       "      <td>4.693796</td>\n",
       "    </tr>\n",
       "    <tr>\n",
       "      <th>3</th>\n",
       "      <td>4</td>\n",
       "      <td>0</td>\n",
       "      <td>9.025466</td>\n",
       "      <td>0</td>\n",
       "      <td>1.621829</td>\n",
       "      <td>-0.137091</td>\n",
       "      <td>9.974215</td>\n",
       "      <td>5.827975</td>\n",
       "    </tr>\n",
       "    <tr>\n",
       "      <th>4</th>\n",
       "      <td>5</td>\n",
       "      <td>0</td>\n",
       "      <td>8.609321</td>\n",
       "      <td>0</td>\n",
       "      <td>3.166641</td>\n",
       "      <td>0.917464</td>\n",
       "      <td>7.590962</td>\n",
       "      <td>5.230095</td>\n",
       "    </tr>\n",
       "  </tbody>\n",
       "</table>\n",
       "</div>"
      ],
      "text/plain": [
       "   i  t         x1  d  y1_cuped_x  y1_cuped        x0         y\n",
       "0  1  0  11.373674  0    2.859789  0.268590  7.096171  5.315635\n",
       "1  2  0   9.191610  1    3.976662  2.339490  3.598911  2.977799\n",
       "2  3  0  12.675708  0    4.263673  1.647050  5.599818  4.693796\n",
       "3  4  0   9.025466  0    1.621829 -0.137091  9.974215  5.827975\n",
       "4  5  0   8.609321  0    3.166641  0.917464  7.590962  5.230095"
      ]
     },
     "execution_count": 12,
     "metadata": {},
     "output_type": "execute_result"
    }
   ],
   "source": [
    "df_long = pd.wide_to_long(df, stubnames='y', i='i', j='t').reset_index()\n",
    "df_long.head()"
   ]
  },
  {
   "cell_type": "code",
   "execution_count": 13,
   "id": "45222688",
   "metadata": {
    "ExecuteTime": {
     "end_time": "2022-06-22T09:45:21.734319Z",
     "start_time": "2022-06-22T09:45:21.727057Z"
    }
   },
   "outputs": [
    {
     "data": {
      "text/html": [
       "<table class=\"simpletable\">\n",
       "<tr>\n",
       "      <td></td>         <th>coef</th>     <th>std err</th>      <th>t</th>      <th>P>|t|</th>  <th>[0.025</th>    <th>0.975]</th>  \n",
       "</tr>\n",
       "<tr>\n",
       "  <th>Intercept</th> <td>    5.1481</td> <td>    0.174</td> <td>   29.608</td> <td> 0.000</td> <td>    4.805</td> <td>    5.491</td>\n",
       "</tr>\n",
       "<tr>\n",
       "  <th>t</th>         <td>    1.1514</td> <td>    0.246</td> <td>    4.683</td> <td> 0.000</td> <td>    0.666</td> <td>    1.636</td>\n",
       "</tr>\n",
       "<tr>\n",
       "  <th>d</th>         <td>   -0.1310</td> <td>    0.248</td> <td>   -0.527</td> <td> 0.599</td> <td>   -0.621</td> <td>    0.359</td>\n",
       "</tr>\n",
       "<tr>\n",
       "  <th>t:d</th>       <td>    1.9224</td> <td>    0.351</td> <td>    5.473</td> <td> 0.000</td> <td>    1.230</td> <td>    2.615</td>\n",
       "</tr>\n",
       "</table>"
      ],
      "text/plain": [
       "<class 'statsmodels.iolib.table.SimpleTable'>"
      ]
     },
     "execution_count": 13,
     "metadata": {},
     "output_type": "execute_result"
    }
   ],
   "source": [
    "smf.ols('y ~ t * d', data=df_long).fit().summary().tables[1]"
   ]
  },
  {
   "cell_type": "markdown",
   "id": "37100680",
   "metadata": {},
   "source": [
    "Did seems the **least efficient** method."
   ]
  },
  {
   "cell_type": "markdown",
   "id": "d0f715cc",
   "metadata": {},
   "source": [
    "### Comparison"
   ]
  },
  {
   "cell_type": "markdown",
   "id": "1b1f70f3",
   "metadata": {},
   "source": [
    "Let's compare the methods."
   ]
  },
  {
   "cell_type": "code",
   "execution_count": 20,
   "id": "794afe38",
   "metadata": {
    "ExecuteTime": {
     "end_time": "2022-06-22T09:48:11.456569Z",
     "start_time": "2022-06-22T09:48:11.441361Z"
    }
   },
   "outputs": [],
   "source": [
    "def simulate(K=1000):\n",
    "    \n",
    "    # Initialize coefficients\n",
    "    results = pd.DataFrame(columns=['k', 'Estimator', 'Estimate'])\n",
    "    \n",
    "    # Compute coefficients\n",
    "    for k in range(K):\n",
    "        temp = pd.DataFrame({'k': [k] * 6, \n",
    "                             'Estimator': ['Diff ', 'DiD  ', 'Con Y', 'CUPED', 'Con X', 'CUPEX'], \n",
    "                             'Estimate': [0] * 6})\n",
    "        \n",
    "        # Draw data\n",
    "        df = dgp_cuped().generate_data(seed=k)\n",
    "        \n",
    "        \n",
    "        # Single diff\n",
    "        temp['Estimate'][0] = smf.ols('y1 ~ d', data=df).fit().params[1]\n",
    "        \n",
    "        # Double diff\n",
    "        df_long = pd.wide_to_long(df, stubnames='y', i='i', j='t').reset_index()\n",
    "        temp['Estimate'][1] = smf.ols('y ~ d * t', data=df_long).fit().params[3]\n",
    "        \n",
    "        # Autoregression\n",
    "        temp['Estimate'][2] = smf.ols('y1 ~ y0 + d', data=df).fit().params[2]\n",
    "        \n",
    "        # Cuped\n",
    "        theta = smf.ols('y1 ~ y0', data=df).fit().params[1]\n",
    "        df['y_cuped'] = df['y1'] - theta * df['y0']\n",
    "        temp['Estimate'][3] = smf.ols('y_cuped ~ d', data=df).fit().params[1]\n",
    "        \n",
    "        # Autoregression x\n",
    "        temp['Estimate'][4] = smf.ols('y1 ~ x0 + d', data=df).fit().params[2]\n",
    "        \n",
    "        # Cuped x\n",
    "        theta_x = smf.ols('y1 ~ x0', data=df).fit().params[1]\n",
    "        df['y_cuped_x'] = df['y1'] - theta_x * df['x0']\n",
    "        temp['Estimate'][5] = smf.ols('y_cuped_x ~ d', data=df).fit().params[1]\n",
    "                \n",
    "                \n",
    "        results = pd.concat((results, temp))\n",
    "    \n",
    "    return results.reset_index(drop=True)"
   ]
  },
  {
   "cell_type": "code",
   "execution_count": 21,
   "id": "1af4e54b",
   "metadata": {
    "ExecuteTime": {
     "end_time": "2022-06-22T09:48:36.153153Z",
     "start_time": "2022-06-22T09:48:11.969637Z"
    }
   },
   "outputs": [],
   "source": [
    "results = simulate()"
   ]
  },
  {
   "cell_type": "markdown",
   "id": "2990c118",
   "metadata": {},
   "source": [
    "Let's plot the distribution of the estimated parameters."
   ]
  },
  {
   "cell_type": "code",
   "execution_count": 22,
   "id": "1542d261",
   "metadata": {
    "ExecuteTime": {
     "end_time": "2022-06-22T09:48:36.685283Z",
     "start_time": "2022-06-22T09:48:36.511741Z"
    }
   },
   "outputs": [
    {
     "data": {
      "image/png": "[encoded data removed]",
      "text/plain": [
       "<Figure size 720x432 with 1 Axes>"
      ]
     },
     "metadata": {
      "image/png": {
       "height": 382,
       "width": 625
      }
     },
     "output_type": "display_data"
    }
   ],
   "source": [
    "sns.kdeplot(data=results, x=\"Estimate\", hue=\"Estimator\");"
   ]
  },
  {
   "cell_type": "markdown",
   "id": "dacf9748",
   "metadata": {},
   "source": [
    "Are the means different?"
   ]
  },
  {
   "cell_type": "code",
   "execution_count": 23,
   "id": "e009fdd1",
   "metadata": {
    "ExecuteTime": {
     "end_time": "2022-06-22T09:48:37.066944Z",
     "start_time": "2022-06-22T09:48:37.061645Z"
    }
   },
   "outputs": [
    {
     "data": {
      "text/html": [
       "<div>\n",
       "<style scoped>\n",
       "    .dataframe tbody tr th:only-of-type {\n",
       "        vertical-align: middle;\n",
       "    }\n",
       "\n",
       "    .dataframe tbody tr th {\n",
       "        vertical-align: top;\n",
       "    }\n",
       "\n",
       "    .dataframe thead th {\n",
       "        text-align: right;\n",
       "    }\n",
       "</style>\n",
       "<table border=\"1\" class=\"dataframe\">\n",
       "  <thead>\n",
       "    <tr style=\"text-align: right;\">\n",
       "      <th></th>\n",
       "      <th>Estimate</th>\n",
       "    </tr>\n",
       "    <tr>\n",
       "      <th>Estimator</th>\n",
       "      <th></th>\n",
       "    </tr>\n",
       "  </thead>\n",
       "  <tbody>\n",
       "    <tr>\n",
       "      <th>CUPED</th>\n",
       "      <td>1.979737</td>\n",
       "    </tr>\n",
       "    <tr>\n",
       "      <th>CUPEX</th>\n",
       "      <td>1.975514</td>\n",
       "    </tr>\n",
       "    <tr>\n",
       "      <th>Con X</th>\n",
       "      <td>1.996559</td>\n",
       "    </tr>\n",
       "    <tr>\n",
       "      <th>Con Y</th>\n",
       "      <td>2.000648</td>\n",
       "    </tr>\n",
       "    <tr>\n",
       "      <th>DiD</th>\n",
       "      <td>2.001238</td>\n",
       "    </tr>\n",
       "    <tr>\n",
       "      <th>Diff</th>\n",
       "      <td>1.998847</td>\n",
       "    </tr>\n",
       "  </tbody>\n",
       "</table>\n",
       "</div>"
      ],
      "text/plain": [
       "           Estimate\n",
       "Estimator          \n",
       "CUPED      1.979737\n",
       "CUPEX      1.975514\n",
       "Con X      1.996559\n",
       "Con Y      2.000648\n",
       "DiD        2.001238\n",
       "Diff       1.998847"
      ]
     },
     "execution_count": 23,
     "metadata": {},
     "output_type": "execute_result"
    }
   ],
   "source": [
    "results.groupby('Estimator')[['Estimate']].mean()"
   ]
  },
  {
   "cell_type": "markdown",
   "id": "4a3179b2",
   "metadata": {},
   "source": [
    "All estimators seem **unbiased**.\n",
    "\n",
    "What about the standard errors?"
   ]
  },
  {
   "cell_type": "code",
   "execution_count": 24,
   "id": "75c10ad7",
   "metadata": {
    "ExecuteTime": {
     "end_time": "2022-06-22T09:48:37.422600Z",
     "start_time": "2022-06-22T09:48:37.418794Z"
    }
   },
   "outputs": [
    {
     "data": {
      "text/html": [
       "<div>\n",
       "<style scoped>\n",
       "    .dataframe tbody tr th:only-of-type {\n",
       "        vertical-align: middle;\n",
       "    }\n",
       "\n",
       "    .dataframe tbody tr th {\n",
       "        vertical-align: top;\n",
       "    }\n",
       "\n",
       "    .dataframe thead th {\n",
       "        text-align: right;\n",
       "    }\n",
       "</style>\n",
       "<table border=\"1\" class=\"dataframe\">\n",
       "  <thead>\n",
       "    <tr style=\"text-align: right;\">\n",
       "      <th></th>\n",
       "      <th>Estimate</th>\n",
       "    </tr>\n",
       "    <tr>\n",
       "      <th>Estimator</th>\n",
       "      <th></th>\n",
       "    </tr>\n",
       "  </thead>\n",
       "  <tbody>\n",
       "    <tr>\n",
       "      <th>CUPED</th>\n",
       "      <td>0.206764</td>\n",
       "    </tr>\n",
       "    <tr>\n",
       "      <th>CUPEX</th>\n",
       "      <td>0.236497</td>\n",
       "    </tr>\n",
       "    <tr>\n",
       "      <th>Con X</th>\n",
       "      <td>0.236456</td>\n",
       "    </tr>\n",
       "    <tr>\n",
       "      <th>Con Y</th>\n",
       "      <td>0.207183</td>\n",
       "    </tr>\n",
       "    <tr>\n",
       "      <th>DiD</th>\n",
       "      <td>0.205980</td>\n",
       "    </tr>\n",
       "    <tr>\n",
       "      <th>Diff</th>\n",
       "      <td>0.297775</td>\n",
       "    </tr>\n",
       "  </tbody>\n",
       "</table>\n",
       "</div>"
      ],
      "text/plain": [
       "           Estimate\n",
       "Estimator          \n",
       "CUPED      0.206764\n",
       "CUPEX      0.236497\n",
       "Con X      0.236456\n",
       "Con Y      0.207183\n",
       "DiD        0.205980\n",
       "Diff       0.297775"
      ]
     },
     "execution_count": 24,
     "metadata": {},
     "output_type": "execute_result"
    }
   ],
   "source": [
    "results.groupby('Estimator')[['Estimate']].std()"
   ]
  },
  {
   "cell_type": "markdown",
   "id": "fcada006",
   "metadata": {},
   "source": [
    "**Notes**\n",
    "\n",
    "1. All estimators seem unbiased\n",
    "2. All estimators seem to have the same variance, a part from the simple difference\n",
    "3. The DiD estimator has a lower variance than the OLS estimate suggested "
   ]
  },
  {
   "cell_type": "markdown",
   "id": "529929e7",
   "metadata": {},
   "source": [
    "## Conclusion"
   ]
  },
  {
   "cell_type": "markdown",
   "id": "fe94c6a1",
   "metadata": {},
   "source": [
    "CONCLUSION"
   ]
  },
  {
   "cell_type": "markdown",
   "id": "a93d9132",
   "metadata": {},
   "source": [
    "### References"
   ]
  },
  {
   "cell_type": "markdown",
   "id": "f39c616b",
   "metadata": {},
   "source": [
    "[1] A. Deng, Y. Xu, R. Kohavi, T. Walker, [Improving the Sensitivity of Online Controlled Experiments by Utilizing Pre-Experiment Data](https://dl.acm.org/doi/abs/10.1145/2433396.2433413) (2013), *WSDM*.\n",
    "\n",
    "[2] H. Xir, J. Aurisset, [Improving the sensitivity of online controlled experiments: Case studies at Netflix](https://dl.acm.org/doi/abs/10.1145/2939672.2939733) (2013), *ACM SIGKDD*.\n",
    "\n",
    "[3] Y. Guo, D. Coey, M. Konutgan, W. Li, C. Schoener, M. Goldman, [Machine Learning for Variance Reduction in Online Experiments](https://arxiv.org/abs/2106.07263) \n",
    "\n",
    "[1] A. Belloni, D. Chen, V. Chernozhukov, C. Hansen, [Sparse Models and Methods for Optimal Instruments With an Application to Eminent Domain](https://onlinelibrary.wiley.com/doi/abs/10.3982/ECTA9626) (2012), *Econometrica*.\n",
    "\n",
    "[2] A. Belloni, V. Chernozhukov, C. Hansen, [Inference on treatment effects after selection among high-dimensional controls](https://academic.oup.com/restud/article-abstract/81/2/608/1523757) (2014), *The Review of Economic Studies*.\n",
    "\n",
    "[3] V. Chernozhukov, D. Chetverikov, M. Demirer, E. Duflo, C. Hansen, W. Newey, J. Robins, [Double/debiased machine learning for treatment and structural parameters](https://academic.oup.com/ectj/article/21/1/C1/5056401) (2018), *The Econometrics Journal*.\n",
    "\n",
    "[4] P. Hünermund, B. Louw, I. Caspi, [Double Machine Learning and Automated Confounder Selection - A Cautionary Tale](https://arxiv.org/abs/2108.11294) (2022), *working paper*."
   ]
  },
  {
   "cell_type": "markdown",
   "id": "f1395997",
   "metadata": {},
   "source": [
    "### Related Articles"
   ]
  },
  {
   "cell_type": "markdown",
   "id": "c02cecae",
   "metadata": {},
   "source": [
    "- [Double Debiased Machine Learning (part 1)](https://towardsdatascience.com/eb767a59975b)\n",
    "- [Double Debiased Machine Learning (part 2)](https://towardsdatascience.com/bf990720a0b2)\n",
    "- [Understanding Omitted Variable Bias](https://towardsdatascience.com/344ac1477699)\n",
    "- [Understanding The Frisch-Waugh-Lovell Theorem](https://towardsdatascience.com/59f801eb3299)\n",
    "- [DAGs and Control Variables](https://towardsdatascience.com/b63dc69e3d8c)"
   ]
  },
  {
   "cell_type": "markdown",
   "id": "f6666a96",
   "metadata": {},
   "source": [
    "### Code"
   ]
  },
  {
   "cell_type": "markdown",
   "id": "c9e271b8",
   "metadata": {},
   "source": [
    "You can find the original Jupyter Notebook here:\n",
    "\n",
    "https://github.com/matteocourthoud/Blog-Posts/blob/main/cuped.ipynb"
   ]
  }
 ],
 "metadata": {
  "@webio": {
   "lastCommId": null,
   "lastKernelId": null
  },
  "kernelspec": {
   "display_name": "Python (conda)",
   "language": "python",
   "name": "base"
  },
  "language_info": {
   "codemirror_mode": {
    "name": "ipython",
    "version": 3
   },
   "file_extension": ".py",
   "mimetype": "text/x-python",
   "name": "python",
   "nbconvert_exporter": "python",
   "pygments_lexer": "ipython3",
   "version": "3.9.7"
  },
  "toc": {
   "base_numbering": 1,
   "nav_menu": {},
   "number_sections": false,
   "sideBar": true,
   "skip_h1_title": true,
   "title_cell": "Table of Contents",
   "title_sidebar": "Contents",
   "toc_cell": false,
   "toc_position": {
    "height": "calc(100% - 180px)",
    "left": "10px",
    "top": "150px",
    "width": "271px"
   },
   "toc_section_display": true,
   "toc_window_display": true
  },
  "varInspector": {
   "cols": {
    "lenName": 16,
    "lenType": 16,
    "lenVar": 40
   },
   "kernels_config": {
    "python": {
     "delete_cmd_postfix": "",
     "delete_cmd_prefix": "del ",
     "library": "var_list.py",
     "varRefreshCmd": "print(var_dic_list())"
    },
    "r": {
     "delete_cmd_postfix": ") ",
     "delete_cmd_prefix": "rm(",
     "library": "var_list.r",
     "varRefreshCmd": "cat(var_dic_list()) "
    }
   },
   "types_to_exclude": [
    "module",
    "function",
    "builtin_function_or_method",
    "instance",
    "_Feature"
   ],
   "window_display": false
  }
 },
 "nbformat": 4,
 "nbformat_minor": 5
}
