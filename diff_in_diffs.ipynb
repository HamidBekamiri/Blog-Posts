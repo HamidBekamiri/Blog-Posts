{
 "cells": [
  {
   "cell_type": "markdown",
   "id": "c1d800cd",
   "metadata": {},
   "source": [
    "# Difference in Differences"
   ]
  },
  {
   "cell_type": "markdown",
   "id": "65e6ef5b",
   "metadata": {},
   "source": [
    "In this tutorial, we are going to see how to estimate the causal effect of a treatment on an outcome when treatment assignment is not random, but we observe both treated and untreated units before and after treatment. Under certain structural assumptions, especially parallel outcome trends in the absence of treatment, we can recover the average treatment effect.\n",
    "\n",
    "**Requisites**\n",
    "\n",
    "For this tutorial, I assume you are familiar with the following concepts:\n",
    "\n",
    "- Rubin's potential outcome framework\n",
    "- Ordinary least squares regression\n",
    "\n",
    "**Academic Application**\n",
    "\n",
    "As an academic application, we are going to replicate [Minimum Wages and Employment: A Case Study of the Fast-Food Industry in New Jersey and Pennsylvania](http://sims.princeton.edu/yftp/emet04/ck/CardKruegerMinWage.pdf) (1994) by Card and Krueger. The authors study the effect of a minimum wage policy in New Jersey on emplyment, by using Pennsylvania as a control state.\n",
    "\n",
    "**Business Case**\n",
    "\n",
    "As a business case, we are going to study a firm that has run a TV ad campaign. The firm would like to understand the impact of the campaign on revenue and has randomized the campaign over municipalities."
   ]
  },
  {
   "cell_type": "markdown",
   "id": "4817f186",
   "metadata": {},
   "source": [
    "## Setting"
   ]
  },
  {
   "cell_type": "markdown",
   "id": "91155020",
   "metadata": {},
   "source": [
    "We assume that for a set of i.i.d. subjects $i = 1, ..., n$ over $T$ time periods $t = 1 ,  ... , T$, we observed a tuple $(X_{it}, D_{it}, Y_{it})$ comprised of \n",
    "\n",
    "- a feature vector $X_{it} \\in \\mathbb R^{p}$\n",
    "- a treatment assignment $D_i \\in \\lbrace 0, 1 \\rbrace$\n",
    "- a response $Y_{it} \\in \\mathbb R$\n",
    "\n",
    "We assume that treatment occurs between time $t=0$ and time $t=1$.\n",
    "\n",
    "**Assumption 1: parallel trends**\n",
    "\n",
    "In the absence of treatment, the outcome $Y_{it}$ **evolve in parallel** across units, i.e. and their $\\gamma_{t}$ are the same.\n",
    "\n",
    "$$\n",
    "Y_{it}^{(0)} - Y_{j,t}^{(0)} = \\alpha \\quad \\forall \\ t\n",
    "$$"
   ]
  },
  {
   "cell_type": "markdown",
   "id": "34bc31ed",
   "metadata": {},
   "source": [
    "## Diff-in-diffs"
   ]
  },
  {
   "cell_type": "markdown",
   "id": "a50fa717",
   "metadata": {},
   "source": [
    "In this setting, we cannot estimate any causal parameter with any other **further assumption**. What is the minimal number of assumptions that we could make in order to estimate a causal parameter?\n",
    "\n",
    "If we were to assume that treatment was randomly assigned, we could retrieve the average treatment effect as a difference in means. \n",
    "\n",
    "$$\n",
    "\\mathbb E[\\tau_t] = \\mathbb E \\big[ Y_{it} \\ \\big| \\ D_i = 1 \\big] - \\mathbb E \\big[ Y_{it} \\big| \\ D_i = 0 \\big] \n",
    "$$\n",
    "\n",
    "However, it would be a very strong assumption, and it would ignore some information that we possess: the time dimension (pre-post).\n",
    "\n",
    "If we were to assume instead that no other shocks affected the treated units between period $t=0$ and $t=1$, we could retrieve the average treatment effect on the treated as a pre-post difference.\n",
    "\n",
    "$$\n",
    "\\mathbb E[\\tau | D_i=1] = \\mathbb E \\big[ Y_{i1} \\ \\big| \\ D_i = 1 \\big] - \\mathbb E \\big[ Y_{i0} \\ \\big| \\ D_i = 1 \\big] \n",
    "$$\n",
    "\n",
    "However, it also this would be a very strong assumption, and it would ignore the fact that we have control units.\n",
    "\n",
    "Can we make less stringent assumption and still recover a causal parameter using both the availability of a (non-random) control group and the time dimension?"
   ]
  },
  {
   "cell_type": "markdown",
   "id": "60d2ae08",
   "metadata": {},
   "source": [
    "### DiD Model"
   ]
  },
  {
   "cell_type": "markdown",
   "id": "96acc0c2",
   "metadata": {},
   "source": [
    "The model that is commonly assumed in diff-ind-diff settings, is the following\n",
    "\n",
    "$$\n",
    "Y_{it} (D_{it}) = \\alpha_{i} + \\gamma_{t} + \\tau_{i} D_{it}\n",
    "$$\n",
    "\n",
    "First, let's summarize the potential outcome values $Y^{(d)}_{it}$ in the simple $2 \\times 2$ setting.\n",
    "\n",
    "|       | $t=0$                          | $t=1$                          |\n",
    "|-------|--------------------------------|--------------------------------|\n",
    "| $D=0$ | $\\gamma_0 + \\alpha_i$          | $\\gamma_1 + \\alpha_i$          |\n",
    "| $D=1$ | $\\gamma_0 + \\alpha_i + \\tau_i$ | $\\gamma_1 + \\alpha_i + \\tau_i$ |\n",
    "\n",
    "For a single unit, $i$, the pre-post outcome difference is given by\n",
    "\n",
    "$$\n",
    "Y_{i1} - Y_{i0} = (\\gamma_1 - \\gamma_0) + \\tau_i (D_{i1} - D_{i0})\n",
    "$$\n",
    "\n",
    "If we take the difference of the expression above between treated and untreated units, we get \n",
    "\n",
    "$$\n",
    "\\mathbb E \\Big[ Y_{i1} - Y_{i0} \\ \\Big| \\ D_{i1} - D_{i0} = 1 \\Big] - \\mathbb E \\Big[ Y_{i1} - Y_{i0} \\ \\Big| \\ D_{i1} - D_{i0} = 0 \\Big] = \\mathbb E \\Big[ \\tau_i \\ \\Big| \\ D_{i1} - D_{i0} = 1 \\Big] = ATT\n",
    "$$\n",
    "\n",
    "which is the average treatment effect on the treated (ATT).\n",
    "\n",
    "We can get this double difference with the folowing regressio model\n",
    "\n",
    "$$\n",
    "Y_{it} (D_{it}) = \\alpha_{i} + \\gamma_{t} + \\beta D_{it} + \\varepsilon_{it}\n",
    "$$\n",
    "\n",
    "where the OLS estimator $\\hat \\beta$ will be unbiased for the ATT."
   ]
  },
  {
   "cell_type": "markdown",
   "id": "6ebce2f8",
   "metadata": {},
   "source": [
    "### Multiple Time Periods"
   ]
  },
  {
   "cell_type": "markdown",
   "id": "834e99e2",
   "metadata": {},
   "source": [
    "What if we didn't just have one pre-treatment period and one post-treatment period? Great! We can actually do more things.\n",
    "\n",
    "1. We can partially test assumptions\n",
    "2. We can estimate dynamic effects\n",
    "3. We can run placebo tests\n",
    "\n",
    "How do we implement it? Run a regression with multiple interactions\n",
    "\n",
    "$$\n",
    "Y_{it} (D_{it}) = \\alpha_{i} + \\gamma_{t} + \\sum_{t=1}^{T} \\beta_t D_{it} + \\varepsilon_{it}\n",
    "$$\n"
   ]
  },
  {
   "cell_type": "markdown",
   "id": "8ec92590",
   "metadata": {},
   "source": [
    "### Comments"
   ]
  },
  {
   "cell_type": "markdown",
   "id": "063528af",
   "metadata": {},
   "source": [
    "**Parametric Assumption**\n",
    "\n",
    "The diff-in-diffs method makes a lot of parametric assumptions that are is easy to forget.\n",
    "\n",
    "**Inference**\n",
    "\n",
    "Bertrand, Duflo, and Mullainathan (2004) point out that conventional robust standard errors usually overestimate the actual standard deviation of the estimator. The authors recommend **clustering** the standard errors at the level of randomization (e.g. classes, counties, villages, ...).\n",
    "\n",
    "**Testing pre-trends**\n",
    "\n",
    "Having multiple pre-treatment time periods is helpful for testing the parallel trends assumption. However, this practice can lead to pre-testing bias. In particular, if one selects results based on a pre-treatment parallel trend test, inference on the ATT gets distorderd. "
   ]
  },
  {
   "cell_type": "markdown",
   "id": "e647eb00",
   "metadata": {},
   "source": [
    "## Academic Application"
   ]
  },
  {
   "cell_type": "markdown",
   "id": "107208eb",
   "metadata": {},
   "source": [
    "As an academic application, we are going to replicate [Minimum Wages and Employment: A Case Study of the Fast-Food Industry in New Jersey and Pennsylvania](http://sims.princeton.edu/yftp/emet04/ck/CardKruegerMinWage.pdf) (1994) by Card and Krueger. The authors study the effect of a minimum wage policy in New Jersey on emplyment, by using Pennsylvania as a control state.\n",
    "\n",
    "The authors describe the setting as follows\n",
    "\n",
    "> On April 1, 1992, New Jersey's minimum wage rose from \\$4.25 to \\$5.05 per hour. To evaluate the impact of the law, the authors surveyed 410 fast-food restaurants in New Jersey and eastern Pennsylvania before and after the rise. Comparisons of employment growth at stores in New Jersey and Pennsylvania (where the minimum wage was constant) provide simple estimates of the effect of the higher minimum wage. \n",
    "\n",
    "Let's start by loading and inspecting the data."
   ]
  },
  {
   "cell_type": "code",
   "execution_count": 1,
   "id": "8d817991",
   "metadata": {},
   "outputs": [],
   "source": [
    "%matplotlib inline\n",
    "%config InlineBackend.figure_format = 'retina'"
   ]
  },
  {
   "cell_type": "code",
   "execution_count": 2,
   "id": "14eedd29",
   "metadata": {},
   "outputs": [],
   "source": [
    "from src.utils import *"
   ]
  },
  {
   "cell_type": "code",
   "execution_count": 3,
   "id": "f6090ace",
   "metadata": {},
   "outputs": [
    {
     "data": {
      "text/html": [
       "<div>\n",
       "<style scoped>\n",
       "    .dataframe tbody tr th:only-of-type {\n",
       "        vertical-align: middle;\n",
       "    }\n",
       "\n",
       "    .dataframe tbody tr th {\n",
       "        vertical-align: top;\n",
       "    }\n",
       "\n",
       "    .dataframe thead th {\n",
       "        text-align: right;\n",
       "    }\n",
       "</style>\n",
       "<table border=\"1\" class=\"dataframe\">\n",
       "  <thead>\n",
       "    <tr style=\"text-align: right;\">\n",
       "      <th></th>\n",
       "      <th>id</th>\n",
       "      <th>after</th>\n",
       "      <th>new_jersey</th>\n",
       "      <th>chain</th>\n",
       "      <th>employment</th>\n",
       "      <th>hrsopen</th>\n",
       "      <th>wage</th>\n",
       "    </tr>\n",
       "  </thead>\n",
       "  <tbody>\n",
       "    <tr>\n",
       "      <th>0</th>\n",
       "      <td>3</td>\n",
       "      <td>0</td>\n",
       "      <td>0</td>\n",
       "      <td>wendys</td>\n",
       "      <td>34.0</td>\n",
       "      <td>12.0</td>\n",
       "      <td>5.00</td>\n",
       "    </tr>\n",
       "    <tr>\n",
       "      <th>1</th>\n",
       "      <td>4</td>\n",
       "      <td>0</td>\n",
       "      <td>0</td>\n",
       "      <td>wendys</td>\n",
       "      <td>24.0</td>\n",
       "      <td>12.0</td>\n",
       "      <td>5.50</td>\n",
       "    </tr>\n",
       "    <tr>\n",
       "      <th>2</th>\n",
       "      <td>6</td>\n",
       "      <td>0</td>\n",
       "      <td>0</td>\n",
       "      <td>burgerking</td>\n",
       "      <td>70.5</td>\n",
       "      <td>18.0</td>\n",
       "      <td>5.00</td>\n",
       "    </tr>\n",
       "    <tr>\n",
       "      <th>3</th>\n",
       "      <td>7</td>\n",
       "      <td>0</td>\n",
       "      <td>0</td>\n",
       "      <td>burgerking</td>\n",
       "      <td>23.5</td>\n",
       "      <td>24.0</td>\n",
       "      <td>5.00</td>\n",
       "    </tr>\n",
       "    <tr>\n",
       "      <th>4</th>\n",
       "      <td>8</td>\n",
       "      <td>0</td>\n",
       "      <td>0</td>\n",
       "      <td>kfc</td>\n",
       "      <td>11.0</td>\n",
       "      <td>10.0</td>\n",
       "      <td>5.25</td>\n",
       "    </tr>\n",
       "  </tbody>\n",
       "</table>\n",
       "</div>"
      ],
      "text/plain": [
       "   id  after  new_jersey       chain  employment  hrsopen  wage\n",
       "0   3      0           0      wendys        34.0     12.0  5.00\n",
       "1   4      0           0      wendys        24.0     12.0  5.50\n",
       "2   6      0           0  burgerking        70.5     18.0  5.00\n",
       "3   7      0           0  burgerking        23.5     24.0  5.00\n",
       "4   8      0           0         kfc        11.0     10.0  5.25"
      ]
     },
     "execution_count": 3,
     "metadata": {},
     "output_type": "execute_result"
    }
   ],
   "source": [
    "from src.data import import_ck94\n",
    "\n",
    "df = pd.read_csv('data/ck94.csv')\n",
    "df.head()"
   ]
  },
  {
   "cell_type": "markdown",
   "id": "6c05f79c",
   "metadata": {},
   "source": [
    "We have information on fast food restaurants, indexed by `i`, at time `t`. We distinguish between before and faster treatment and between New Jersey `nj` and Pennsylvania restaurants. We also know the `chain` of the restaurant, the `employment`, the hours open `hrsopen` and the `wage`. We are interested on the effect on the policy on wages.\n",
    "\n",
    "Let's start by producing the $2 \\times 2$ table of treatment-control before-after average outcomes."
   ]
  },
  {
   "cell_type": "code",
   "execution_count": 4,
   "id": "d27776f4",
   "metadata": {},
   "outputs": [
    {
     "data": {
      "text/html": [
       "<div>\n",
       "<style scoped>\n",
       "    .dataframe tbody tr th:only-of-type {\n",
       "        vertical-align: middle;\n",
       "    }\n",
       "\n",
       "    .dataframe tbody tr th {\n",
       "        vertical-align: top;\n",
       "    }\n",
       "\n",
       "    .dataframe thead th {\n",
       "        text-align: right;\n",
       "    }\n",
       "</style>\n",
       "<table border=\"1\" class=\"dataframe\">\n",
       "  <thead>\n",
       "    <tr style=\"text-align: right;\">\n",
       "      <th>after</th>\n",
       "      <th>0</th>\n",
       "      <th>1</th>\n",
       "    </tr>\n",
       "    <tr>\n",
       "      <th>new_jersey</th>\n",
       "      <th></th>\n",
       "      <th></th>\n",
       "    </tr>\n",
       "  </thead>\n",
       "  <tbody>\n",
       "    <tr>\n",
       "      <th>0</th>\n",
       "      <td>23.704545</td>\n",
       "      <td>21.825758</td>\n",
       "    </tr>\n",
       "    <tr>\n",
       "      <th>1</th>\n",
       "      <td>20.657746</td>\n",
       "      <td>21.048415</td>\n",
       "    </tr>\n",
       "  </tbody>\n",
       "</table>\n",
       "</div>"
      ],
      "text/plain": [
       "after               0          1\n",
       "new_jersey                      \n",
       "0           23.704545  21.825758\n",
       "1           20.657746  21.048415"
      ]
     },
     "execution_count": 4,
     "metadata": {},
     "output_type": "execute_result"
    }
   ],
   "source": [
    "df.pivot_table(index='new_jersey', columns='after', values='employment', aggfunc='mean')"
   ]
  },
  {
   "cell_type": "markdown",
   "id": "0951ab50",
   "metadata": {},
   "source": [
    "From the table we can see that a simple **before-after comparison** would give a small posive effect of $21.05 - 20.66 = 0.39$. \n",
    "\n",
    "On the other hand, if one was doing an ex-post **treated-control comparison**, would get a negative effect of $21.05 - 21.83 = - 0.78$. \n",
    "\n",
    "The difference-in-differences estimator takes into account the fact that \n",
    "\n",
    "1. There is a pre-treatment level difference between New Jersey and Pennsylvania\n",
    "2. Employment was falling in Pennsylvania even without treatment\n",
    "\n",
    "The **double difference** in means gives a positive effect, significantly larger than any of the two previous estimates.\n",
    "\n",
    "$$\n",
    "\\hat \\tau_{DiD} = \\Big( 21.05 - 20.66 \\Big) - \\Big( 21.83 - 23.70 \\Big) = 0.39 + 1.87 = 2.26\n",
    "$$\n",
    "\n",
    "We can replicate the result with a linear regression."
   ]
  },
  {
   "cell_type": "code",
   "execution_count": 5,
   "id": "d5f62d37",
   "metadata": {},
   "outputs": [
    {
     "data": {
      "text/html": [
       "<table class=\"simpletable\">\n",
       "<tr>\n",
       "          <td></td>            <th>coef</th>     <th>std err</th>      <th>t</th>      <th>P>|t|</th>  <th>[0.025</th>    <th>0.975]</th>  \n",
       "</tr>\n",
       "<tr>\n",
       "  <th>Intercept</th>        <td>   23.7045</td> <td>    1.149</td> <td>   20.627</td> <td> 0.000</td> <td>   21.448</td> <td>   25.961</td>\n",
       "</tr>\n",
       "<tr>\n",
       "  <th>new_jersey</th>       <td>   -3.0468</td> <td>    1.276</td> <td>   -2.388</td> <td> 0.017</td> <td>   -5.552</td> <td>   -0.542</td>\n",
       "</tr>\n",
       "<tr>\n",
       "  <th>after</th>            <td>   -1.8788</td> <td>    1.625</td> <td>   -1.156</td> <td> 0.248</td> <td>   -5.070</td> <td>    1.312</td>\n",
       "</tr>\n",
       "<tr>\n",
       "  <th>new_jersey:after</th> <td>    2.2695</td> <td>    1.804</td> <td>    1.258</td> <td> 0.209</td> <td>   -1.273</td> <td>    5.812</td>\n",
       "</tr>\n",
       "</table>"
      ],
      "text/plain": [
       "<class 'statsmodels.iolib.table.SimpleTable'>"
      ]
     },
     "execution_count": 5,
     "metadata": {},
     "output_type": "execute_result"
    }
   ],
   "source": [
    "smf.ols('employment ~ new_jersey * after', df).fit().summary().tables[1]"
   ]
  },
  {
   "cell_type": "markdown",
   "id": "4130cfa2",
   "metadata": {},
   "source": [
    "The effect is $2.26$, but it is not significantly different from zero."
   ]
  },
  {
   "cell_type": "markdown",
   "id": "20c2ba67",
   "metadata": {},
   "source": [
    "## Business Case"
   ]
  },
  {
   "cell_type": "markdown",
   "id": "a6c0505a",
   "metadata": {},
   "source": [
    "We are given the following problem:\n",
    "\n",
    "> A firm wants to test the impact of a TV advertisement campaign on revenue. The firm releases the ad on a random sample of municipalities and track the revenue over time, before and after the ad campaign.\n",
    "\n",
    "We start by drawing a sample from the data generating process."
   ]
  },
  {
   "cell_type": "code",
   "execution_count": 6,
   "id": "3e6df233",
   "metadata": {},
   "outputs": [
    {
     "data": {
      "text/html": [
       "<div>\n",
       "<style scoped>\n",
       "    .dataframe tbody tr th:only-of-type {\n",
       "        vertical-align: middle;\n",
       "    }\n",
       "\n",
       "    .dataframe tbody tr th {\n",
       "        vertical-align: top;\n",
       "    }\n",
       "\n",
       "    .dataframe thead th {\n",
       "        text-align: right;\n",
       "    }\n",
       "</style>\n",
       "<table border=\"1\" class=\"dataframe\">\n",
       "  <thead>\n",
       "    <tr style=\"text-align: right;\">\n",
       "      <th></th>\n",
       "      <th>day</th>\n",
       "      <th>id</th>\n",
       "      <th>treated</th>\n",
       "      <th>post</th>\n",
       "      <th>revenue</th>\n",
       "    </tr>\n",
       "  </thead>\n",
       "  <tbody>\n",
       "    <tr>\n",
       "      <th>0</th>\n",
       "      <td>1</td>\n",
       "      <td>1</td>\n",
       "      <td>0</td>\n",
       "      <td>False</td>\n",
       "      <td>3.599341</td>\n",
       "    </tr>\n",
       "    <tr>\n",
       "      <th>1</th>\n",
       "      <td>1</td>\n",
       "      <td>2</td>\n",
       "      <td>0</td>\n",
       "      <td>False</td>\n",
       "      <td>-0.146912</td>\n",
       "    </tr>\n",
       "    <tr>\n",
       "      <th>2</th>\n",
       "      <td>1</td>\n",
       "      <td>3</td>\n",
       "      <td>0</td>\n",
       "      <td>False</td>\n",
       "      <td>0.696527</td>\n",
       "    </tr>\n",
       "    <tr>\n",
       "      <th>3</th>\n",
       "      <td>1</td>\n",
       "      <td>4</td>\n",
       "      <td>0</td>\n",
       "      <td>False</td>\n",
       "      <td>1.445169</td>\n",
       "    </tr>\n",
       "    <tr>\n",
       "      <th>4</th>\n",
       "      <td>1</td>\n",
       "      <td>5</td>\n",
       "      <td>0</td>\n",
       "      <td>False</td>\n",
       "      <td>1.659696</td>\n",
       "    </tr>\n",
       "  </tbody>\n",
       "</table>\n",
       "</div>"
      ],
      "text/plain": [
       "   day  id  treated   post   revenue\n",
       "0    1   1        0  False  3.599341\n",
       "1    1   2        0  False -0.146912\n",
       "2    1   3        0  False  0.696527\n",
       "3    1   4        0  False  1.445169\n",
       "4    1   5        0  False  1.659696"
      ]
     },
     "execution_count": 6,
     "metadata": {},
     "output_type": "execute_result"
    }
   ],
   "source": [
    "from src.dgp import dgp_did\n",
    "\n",
    "dgp = dgp_did()\n",
    "df = dgp.generate_data()\n",
    "df.head()"
   ]
  },
  {
   "cell_type": "markdown",
   "id": "4bce8812",
   "metadata": {},
   "source": [
    "We have `revenue` data on a set of customers over time. We also know to which `group` they were assigned and whether the time is before or after the intervention.\n",
    "\n",
    "Since we do not have any control variable, we can directly visualize the revenue dynamics, distinguishing between treatment and control group."
   ]
  },
  {
   "cell_type": "code",
   "execution_count": 7,
   "id": "3f1638e3",
   "metadata": {},
   "outputs": [
    {
     "data": {
      "image/png": "[encoded data removed]",
      "text/plain": [
       "<Figure size 720x432 with 1 Axes>"
      ]
     },
     "metadata": {
      "image/png": {
       "height": 408,
       "width": 611
      }
     },
     "output_type": "display_data"
    }
   ],
   "source": [
    "sns.lineplot(x=df['day'], y=df['revenue'], hue=df['treated']);\n",
    "plt.axvline(x=10, ls=\":\", color='C2');\n",
    "plt.title('Revenue over time');"
   ]
  },
  {
   "cell_type": "markdown",
   "id": "42aa3477",
   "metadata": {},
   "source": [
    "It seems like the treatment group was producing higher revenues before treatment and the gap has increased with treatment but it is closing over time.\n",
    "\n",
    "To assess the magnitude of the effect and perform inference, we can regress revenue on a post-treatment dummy, a treatment dummy and their interaction."
   ]
  },
  {
   "cell_type": "code",
   "execution_count": 8,
   "id": "a7084750",
   "metadata": {},
   "outputs": [
    {
     "data": {
      "text/html": [
       "<table class=\"simpletable\">\n",
       "<tr>\n",
       "            <td></td>              <th>coef</th>     <th>std err</th>      <th>t</th>      <th>P>|t|</th>  <th>[0.025</th>    <th>0.975]</th>  \n",
       "</tr>\n",
       "<tr>\n",
       "  <th>Intercept</th>            <td>    4.6357</td> <td>    0.078</td> <td>   59.428</td> <td> 0.000</td> <td>    4.483</td> <td>    4.789</td>\n",
       "</tr>\n",
       "<tr>\n",
       "  <th>post[T.True]</th>         <td>    0.8928</td> <td>    0.110</td> <td>    8.093</td> <td> 0.000</td> <td>    0.676</td> <td>    1.109</td>\n",
       "</tr>\n",
       "<tr>\n",
       "  <th>treated</th>              <td>    1.0558</td> <td>    0.110</td> <td>    9.571</td> <td> 0.000</td> <td>    0.839</td> <td>    1.272</td>\n",
       "</tr>\n",
       "<tr>\n",
       "  <th>post[T.True]:treated</th> <td>    0.1095</td> <td>    0.156</td> <td>    0.702</td> <td> 0.483</td> <td>   -0.196</td> <td>    0.415</td>\n",
       "</tr>\n",
       "</table>"
      ],
      "text/plain": [
       "<class 'statsmodels.iolib.table.SimpleTable'>"
      ]
     },
     "execution_count": 8,
     "metadata": {},
     "output_type": "execute_result"
    }
   ],
   "source": [
    "smf.ols('revenue ~ post * treated', df).fit().summary().tables[1]"
   ]
  },
  {
   "cell_type": "markdown",
   "id": "0483ee45",
   "metadata": {},
   "source": [
    "While the coefficient for the interaction term is positive, it does not seem to be statistically significant. However, this might be due to the fact that the treatment effect is fading away over time. \n",
    "\n",
    "Let's fit the same regression, with a linear time trend."
   ]
  },
  {
   "cell_type": "code",
   "execution_count": 9,
   "id": "8c70a007",
   "metadata": {},
   "outputs": [
    {
     "data": {
      "text/html": [
       "<table class=\"simpletable\">\n",
       "<tr>\n",
       "              <td></td>                <th>coef</th>     <th>std err</th>      <th>t</th>      <th>P>|t|</th>  <th>[0.025</th>    <th>0.975]</th>  \n",
       "</tr>\n",
       "<tr>\n",
       "  <th>Intercept</th>                <td>    4.1144</td> <td>    0.168</td> <td>   24.501</td> <td> 0.000</td> <td>    3.785</td> <td>    4.444</td>\n",
       "</tr>\n",
       "<tr>\n",
       "  <th>post[T.True]</th>             <td>    0.2871</td> <td>    0.458</td> <td>    0.626</td> <td> 0.531</td> <td>   -0.612</td> <td>    1.186</td>\n",
       "</tr>\n",
       "<tr>\n",
       "  <th>treated</th>                  <td>    1.0788</td> <td>    0.237</td> <td>    4.543</td> <td> 0.000</td> <td>    0.613</td> <td>    1.544</td>\n",
       "</tr>\n",
       "<tr>\n",
       "  <th>post[T.True]:treated</th>     <td>    1.5910</td> <td>    0.648</td> <td>    2.454</td> <td> 0.014</td> <td>    0.320</td> <td>    2.862</td>\n",
       "</tr>\n",
       "<tr>\n",
       "  <th>day</th>                      <td>    0.0948</td> <td>    0.027</td> <td>    3.502</td> <td> 0.000</td> <td>    0.042</td> <td>    0.148</td>\n",
       "</tr>\n",
       "<tr>\n",
       "  <th>post[T.True]:day</th>         <td>   -0.0221</td> <td>    0.038</td> <td>   -0.576</td> <td> 0.564</td> <td>   -0.097</td> <td>    0.053</td>\n",
       "</tr>\n",
       "<tr>\n",
       "  <th>treated:day</th>              <td>   -0.0042</td> <td>    0.038</td> <td>   -0.109</td> <td> 0.913</td> <td>   -0.079</td> <td>    0.071</td>\n",
       "</tr>\n",
       "<tr>\n",
       "  <th>post[T.True]:treated:day</th> <td>   -0.0929</td> <td>    0.054</td> <td>   -1.716</td> <td> 0.086</td> <td>   -0.199</td> <td>    0.013</td>\n",
       "</tr>\n",
       "</table>"
      ],
      "text/plain": [
       "<class 'statsmodels.iolib.table.SimpleTable'>"
      ]
     },
     "execution_count": 9,
     "metadata": {},
     "output_type": "execute_result"
    }
   ],
   "source": [
    "smf.ols('revenue ~ post * treated * day', df).fit().summary().tables[1]"
   ]
  },
  {
   "cell_type": "markdown",
   "id": "9395b556",
   "metadata": {},
   "source": [
    "Now the treatment effect is positive and significant at the 5% level. And indeed, we estimate a decreasing trend, post treatment, for the treated. However, it is not statistically significant."
   ]
  },
  {
   "cell_type": "markdown",
   "id": "d850b108",
   "metadata": {},
   "source": [
    "## References"
   ]
  },
  {
   "cell_type": "markdown",
   "id": "1b077bee",
   "metadata": {},
   "source": [
    "- [Video lecture on Difference-in-Differences](https://www.youtube.com/watch?v=mbYTZ0w-QTw) by Paul Goldsmith-Pinkham (Yale)\n",
    "- [Chapter 13](https://matheusfacure.github.io/python-causality-handbook/13-Difference-in-Differences.html) of Causal Inference for The Brave and The True by Matheus Facure\n",
    "- [Chapter 9](https://mixtape.scunning.com/difference-in-differences.html) of The Causal Inference Mixtape by Scott Cunningham\n",
    "- Chapter 5 of [Mostly Harmless Econometrics](https://www.mostlyharmlesseconometrics.com/) by Agrist and Pischke"
   ]
  }
 ],
 "metadata": {
  "kernelspec": {
   "display_name": "Python (conda)",
   "language": "python",
   "name": "base"
  },
  "language_info": {
   "codemirror_mode": {
    "name": "ipython",
    "version": 3
   },
   "file_extension": ".py",
   "mimetype": "text/x-python",
   "name": "python",
   "nbconvert_exporter": "python",
   "pygments_lexer": "ipython3",
   "version": "3.9.7"
  }
 },
 "nbformat": 4,
 "nbformat_minor": 5
}
