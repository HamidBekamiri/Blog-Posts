{
 "cells": [
  {
   "cell_type": "markdown",
   "id": "962f7727",
   "metadata": {},
   "source": [
    "## Permutation Tests for Dummies"
   ]
  },
  {
   "cell_type": "markdown",
   "id": "483b8c79",
   "metadata": {},
   "source": [
    "If you search \"permutation test\" on Wikipedia, you get the following definition:\n",
    "\n",
    "> A permutation test (also called re-randomization test) is an exact statistical hypothesis test making use of the proof by contradiction in which the distribution of the test statistic under the null hypothesis is obtained by calculating all possible values of the test statistic under possible rearrangements of the observed data. \n",
    "\n",
    "What does it mean? In this tutorial we are going to see in detail what this definition means, how to implement permutation tests, and their pitfalls."
   ]
  },
  {
   "cell_type": "markdown",
   "id": "719b5a93",
   "metadata": {},
   "source": [
    "## Example 1: is a coin fair?"
   ]
  },
  {
   "cell_type": "markdown",
   "id": "225b2b11",
   "metadata": {},
   "source": [
    "Let's start with an example: suppose you wanted to test whether a coin is fair. You throw the coin 10 times and you count the number of times you get heads. Let's simulate the outcome."
   ]
  },
  {
   "cell_type": "code",
   "execution_count": 1,
   "id": "af55c0c8",
   "metadata": {},
   "outputs": [
    {
     "data": {
      "text/plain": [
       "array([0, 1, 0, 0, 0, 0, 0, 0, 0, 1])"
      ]
     },
     "execution_count": 1,
     "metadata": {},
     "output_type": "execute_result"
    }
   ],
   "source": [
    "import numpy as np\n",
    "\n",
    "np.random.seed(1)\n",
    "np.random.binomial(1, 0.5, 10)"
   ]
  },
  {
   "cell_type": "markdown",
   "id": "2f7daacf",
   "metadata": {},
   "source": [
    "Out of 10 coin throws, we got only 2 heads. Does it mean that the coin is not fair?\n",
    "\n",
    "The **question** that permutation testing is trying to answer is \"*how unlikely is the observed outcome under the null hypothesis that the coin is fair?*\". \n",
    "\n",
    "In this case we can directly compute this answer since we have a very little number of throws. The total number of outcomes is $2^{10}$. The number of as or more extreme outcomes, under the assumption that the coin is fair (50-50) is\n",
    "\n",
    "- 0 heads: ${10 \\choose 0} = 1$\n",
    "- 1 head: ${10 \\choose 1} = 10$\n",
    "- 2 heads: ${10 \\choose 2} = 45$\n",
    "\n",
    "So that the probability of getting the same or a more extreme outcome is"
   ]
  },
  {
   "cell_type": "code",
   "execution_count": 2,
   "id": "864df109",
   "metadata": {},
   "outputs": [
    {
     "data": {
      "text/plain": [
       "0.0546875"
      ]
     },
     "execution_count": 2,
     "metadata": {},
     "output_type": "execute_result"
    }
   ],
   "source": [
    "from scipy.special import comb\n",
    "\n",
    "(comb(10, 0) + comb(10, 1) + comb(10, 2)) / 2**10"
   ]
  },
  {
   "cell_type": "markdown",
   "id": "911d606a",
   "metadata": {},
   "source": [
    "This probability seems low but not too low. \n",
    "\n",
    "However, we have forgot one thing. We want to test whether the coin is fair in **either** direction. We would suspect that the coin is unfair if we were getting few heads (as we did), but also if we were getting many heads. Therefore, we should account for both extremes."
   ]
  },
  {
   "cell_type": "code",
   "execution_count": 3,
   "id": "6327d452",
   "metadata": {},
   "outputs": [
    {
     "data": {
      "text/plain": [
       "0.109375"
      ]
     },
     "execution_count": 3,
     "metadata": {},
     "output_type": "execute_result"
    }
   ],
   "source": [
    "sum([comb(10, i) for i in [0, 1, 2, 8, 9, 10]]) / 2**10"
   ]
  },
  {
   "cell_type": "markdown",
   "id": "ff7edcfd",
   "metadata": {},
   "source": [
    "This number should not be surprising since it's exactly double the previous one.\n",
    "\n",
    "It is common in statistics to say that an event is unusual if its probability is less than 1 in 20, i.e. $5\\%$. If we were adopting that threshold, we would not conclude that getting 2 heads in 10 trows is so unusual. However, getting just one, would be."
   ]
  },
  {
   "cell_type": "code",
   "execution_count": 4,
   "id": "5b326f45",
   "metadata": {},
   "outputs": [
    {
     "data": {
      "text/plain": [
       "0.021484375"
      ]
     },
     "execution_count": 4,
     "metadata": {},
     "output_type": "execute_result"
    }
   ],
   "source": [
    "sum([comb(10, i) for i in [0, 1, 9, 10]]) / 2**10"
   ]
  },
  {
   "cell_type": "markdown",
   "id": "851a5e58",
   "metadata": {},
   "source": [
    "## Hypothesis Testing"
   ]
  },
  {
   "cell_type": "markdown",
   "id": "1372fb55",
   "metadata": {},
   "source": [
    "The process we just went through is called **hypothesis testing**. The components of an hypothesis test are:\n",
    "\n",
    "1. A null hypothesis $H_0$\n",
    "    - in our case, that the coin war fair\n",
    "\n",
    "2. A test statistic $t$\n",
    "    - in our case, the number of zeros\n",
    "\n",
    "3. A level of significance $\\alpha$\n",
    "    - it is common to choose 5%\n",
    "    \n",
    "The **idea** behind **permutation testing** is the following: in a setting in which we are checking whether one variable has an effect on another variable, the two variables should not be correlated, under the null hypothesis . Therefore, we could re-shuffle the treatment variable and re-compute the test statistic. Lastly, we can compute the p-value as the fraction of as or more extremes outcomes under re-shuffling of the data."
   ]
  },
  {
   "cell_type": "markdown",
   "id": "2b6b7c5a",
   "metadata": {},
   "source": [
    "## Example 2: are women smarter?"
   ]
  },
  {
   "cell_type": "markdown",
   "id": "e315f9df",
   "metadata": {},
   "source": [
    "Suppose now we were interested in knowing whether females perform better in a test than men. Let's start by writing the data generating process under the assumption of no difference in scores. However, only 30% of the sample will be female."
   ]
  },
  {
   "cell_type": "code",
   "execution_count": 5,
   "id": "19288ad1",
   "metadata": {},
   "outputs": [],
   "source": [
    "import pandas as pd\n",
    "\n",
    "# Data generating process\n",
    "def generate_data_gender(N=100, seed=1):\n",
    "    np.random.seed(seed) # Set seed for replicability\n",
    "    data = pd.DataFrame({\"female\": np.random.binomial(1, 0.3, N),\n",
    "                         \"test_score\": np.random.exponential(3, N)})\n",
    "    return data"
   ]
  },
  {
   "cell_type": "markdown",
   "id": "8eafe9b4",
   "metadata": {},
   "source": [
    "Let's now generate a sample of size 100."
   ]
  },
  {
   "cell_type": "code",
   "execution_count": 6,
   "id": "020bbb1f",
   "metadata": {},
   "outputs": [
    {
     "data": {
      "text/html": [
       "<div>\n",
       "<style scoped>\n",
       "    .dataframe tbody tr th:only-of-type {\n",
       "        vertical-align: middle;\n",
       "    }\n",
       "\n",
       "    .dataframe tbody tr th {\n",
       "        vertical-align: top;\n",
       "    }\n",
       "\n",
       "    .dataframe thead th {\n",
       "        text-align: right;\n",
       "    }\n",
       "</style>\n",
       "<table border=\"1\" class=\"dataframe\">\n",
       "  <thead>\n",
       "    <tr style=\"text-align: right;\">\n",
       "      <th></th>\n",
       "      <th>female</th>\n",
       "      <th>test_score</th>\n",
       "    </tr>\n",
       "  </thead>\n",
       "  <tbody>\n",
       "    <tr>\n",
       "      <th>0</th>\n",
       "      <td>0</td>\n",
       "      <td>1.186447</td>\n",
       "    </tr>\n",
       "    <tr>\n",
       "      <th>1</th>\n",
       "      <td>1</td>\n",
       "      <td>2.246348</td>\n",
       "    </tr>\n",
       "    <tr>\n",
       "      <th>2</th>\n",
       "      <td>0</td>\n",
       "      <td>6.513147</td>\n",
       "    </tr>\n",
       "    <tr>\n",
       "      <th>3</th>\n",
       "      <td>0</td>\n",
       "      <td>1.326091</td>\n",
       "    </tr>\n",
       "    <tr>\n",
       "      <th>4</th>\n",
       "      <td>0</td>\n",
       "      <td>7.175402</td>\n",
       "    </tr>\n",
       "  </tbody>\n",
       "</table>\n",
       "</div>"
      ],
      "text/plain": [
       "   female  test_score\n",
       "0       0    1.186447\n",
       "1       1    2.246348\n",
       "2       0    6.513147\n",
       "3       0    1.326091\n",
       "4       0    7.175402"
      ]
     },
     "execution_count": 6,
     "metadata": {},
     "output_type": "execute_result"
    }
   ],
   "source": [
    "# Generate data\n",
    "data_gender = generate_data_gender()\n",
    "data_gender.head()"
   ]
  },
  {
   "cell_type": "markdown",
   "id": "b02e6c03",
   "metadata": {},
   "source": [
    "We can compute the treatment effect by computing the difference in mean outcomes between male and females."
   ]
  },
  {
   "cell_type": "code",
   "execution_count": 7,
   "id": "223c6b90",
   "metadata": {},
   "outputs": [],
   "source": [
    "def compute_score_diff(data):\n",
    "    T = np.mean(data.loc[data['female']==1, 'test_score']) - np.mean(data.loc[data['female']==0, 'test_score'])\n",
    "    return T"
   ]
  },
  {
   "cell_type": "code",
   "execution_count": 8,
   "id": "b0682e34",
   "metadata": {},
   "outputs": [
    {
     "name": "stdout",
     "output_type": "stream",
     "text": [
      "The estimated treatment effect is -1.3612262580563321\n"
     ]
    }
   ],
   "source": [
    "T = compute_score_diff(data_gender)\n",
    "print(f\"The estimated treatment effect is {T}\")"
   ]
  },
  {
   "cell_type": "markdown",
   "id": "4ed8adb8",
   "metadata": {},
   "source": [
    "It looks that females actually did worse than males. But is the difference statistically significant? We can perform a randomization test and compute the probability of observing a more extreme outcome.\n",
    "\n",
    "First, let's write the permutation routine that takes a variable in the data and permutes it."
   ]
  },
  {
   "cell_type": "code",
   "execution_count": 9,
   "id": "b8e387ce",
   "metadata": {},
   "outputs": [],
   "source": [
    "def permute(data, var, r):\n",
    "    temp_data = data.copy()\n",
    "    temp_data[var] = np.random.choice(data[var], size=len(data), replace=r)\n",
    "    return temp_data"
   ]
  },
  {
   "cell_type": "markdown",
   "id": "0d480091",
   "metadata": {},
   "source": [
    "We can now write the permutation test. It spits out a vector of statistics and prints the implied p-value."
   ]
  },
  {
   "cell_type": "code",
   "execution_count": 10,
   "id": "72bad72f",
   "metadata": {},
   "outputs": [],
   "source": [
    "def permutation_test(data, permute, var, compute_stat, K=1000, r=False):\n",
    "    T = compute_stat(data)\n",
    "    T_perm = []\n",
    "    for k in range(K):\n",
    "        temp_data = permute(data, var, r)\n",
    "        T_perm += [compute_stat(temp_data)]\n",
    "    print(f\"The p-value is {sum(np.abs(T_perm) >= np.abs(T))/K}\")\n",
    "    return T_perm"
   ]
  },
  {
   "cell_type": "code",
   "execution_count": 11,
   "id": "ff2dc101",
   "metadata": {},
   "outputs": [
    {
     "name": "stdout",
     "output_type": "stream",
     "text": [
      "The p-value is 0.063\n"
     ]
    }
   ],
   "source": [
    "Ts = permutation_test(data_gender, permute, 'test_score', compute_score_diff)"
   ]
  },
  {
   "cell_type": "markdown",
   "id": "552f00f4",
   "metadata": {},
   "source": [
    "Apparently the result we have observed was quite unusual, but not at the 5% level. We can plot the distribution of statistics to visualize this result."
   ]
  },
  {
   "cell_type": "code",
   "execution_count": 12,
   "id": "f2f2dbbb",
   "metadata": {},
   "outputs": [],
   "source": [
    "%matplotlib inline\n",
    "%config InlineBackend.figure_format = 'retina'\n",
    "from src.utils import *"
   ]
  },
  {
   "cell_type": "code",
   "execution_count": 13,
   "id": "8f5044ff",
   "metadata": {},
   "outputs": [],
   "source": [
    "def plot_test(T, Ts, title):\n",
    "    plt.hist(Ts, density=True, bins=30, alpha=0.7, color='C0')\n",
    "    plt.vlines([-T, T], ymin=plt.ylim()[0], ymax=plt.ylim()[1], color='C2')\n",
    "    plt.title(title);"
   ]
  },
  {
   "cell_type": "code",
   "execution_count": 14,
   "id": "99182b6d",
   "metadata": {},
   "outputs": [
    {
     "data": {
      "image/png": "[encoded data removed]",
      "text/plain": [
       "<Figure size 720x432 with 1 Axes>"
      ]
     },
     "metadata": {
      "image/png": {
       "height": 390,
       "width": 593
      }
     },
     "output_type": "display_data"
    }
   ],
   "source": [
    "plot_test(T, Ts, 'Distribution of score differences under permutation')"
   ]
  },
  {
   "cell_type": "markdown",
   "id": "d985e78d",
   "metadata": {},
   "source": [
    "As we can see, the observed difference in scores is quite extreme with respect the distribution generate by the permutation.\n",
    "\n",
    "One **issue** with the permutation test we just ran is that it is computationally expensive to draw without replacement. The standard and much faster procedure is to draw without replacement."
   ]
  },
  {
   "cell_type": "code",
   "execution_count": 15,
   "id": "b59250f9",
   "metadata": {},
   "outputs": [
    {
     "name": "stdout",
     "output_type": "stream",
     "text": [
      "The p-value is 0.052\n"
     ]
    }
   ],
   "source": [
    "Ts_repl = permutation_test(data_gender, permute, 'test_score', compute_score_diff, r=True)"
   ]
  },
  {
   "cell_type": "markdown",
   "id": "2f003d65",
   "metadata": {},
   "source": [
    "The p-value is virtually the same.\n",
    "\n",
    "How **accurate** is the test? Since we have access to the data generating process, we can compute the true p-value via simulation. We draw many samples from the true data generating process and, for each, compute the difference in scores. The simulated p-value is going to be the frequency of more extreme statistics."
   ]
  },
  {
   "cell_type": "code",
   "execution_count": 16,
   "id": "53972a92",
   "metadata": {},
   "outputs": [],
   "source": [
    "# Function to simulate data and compute pvalue\n",
    "def simulate_stat(dgp, compute_stat, K=1000):\n",
    "    T = compute_stat(dgp())\n",
    "    T_sim = []\n",
    "    for k in range(K):\n",
    "        data = dgp(seed=k)\n",
    "        T_sim += [compute_stat(data)]\n",
    "    print(f\"The p-value is {sum(np.abs(T_sim) >= np.abs(T))/K}\")\n",
    "    return np.array(T_sim)"
   ]
  },
  {
   "cell_type": "code",
   "execution_count": 17,
   "id": "bcbb3a0d",
   "metadata": {},
   "outputs": [
    {
     "name": "stdout",
     "output_type": "stream",
     "text": [
      "The p-value is 0.038\n"
     ]
    }
   ],
   "source": [
    "T_sim = simulate_stat(generate_data_gender, compute_score_diff)"
   ]
  },
  {
   "cell_type": "markdown",
   "id": "e05a4397",
   "metadata": {},
   "source": [
    "Again, we can plot the distribution of simulated statistics to understand the computed p-value."
   ]
  },
  {
   "cell_type": "code",
   "execution_count": 18,
   "id": "311e71a6",
   "metadata": {},
   "outputs": [
    {
     "data": {
      "image/png": "[encoded data removed]",
      "text/plain": [
       "<Figure size 720x432 with 1 Axes>"
      ]
     },
     "metadata": {
      "image/png": {
       "height": 390,
       "width": 593
      }
     },
     "output_type": "display_data"
    }
   ],
   "source": [
    "plot_test(T, T_sim, 'Distribution of score differences under simulation')"
   ]
  },
  {
   "cell_type": "markdown",
   "id": "7f7a89dc",
   "metadata": {},
   "source": [
    "As expected, most of the mass lies within the interval, indicating a relatively extreme result. We have just been \"unlucky\" with the draw, but the permutation test was accurate."
   ]
  },
  {
   "cell_type": "markdown",
   "id": "523020e6",
   "metadata": {},
   "source": [
    "## Permutation tests vs t-tests"
   ]
  },
  {
   "cell_type": "markdown",
   "id": "d2ab447d",
   "metadata": {},
   "source": [
    "What is the difference between a t-test and a permutation test? \n",
    "\n",
    "Permutation test **advantages**:\n",
    "\n",
    "- does not make distributional assumptions\n",
    "- not sensible to outliers\n",
    "- can be computed also for statistics whose distribution is not known\n",
    "\n",
    "Permutation test **disadvantages**:\n",
    "\n",
    "- computationally intense\n",
    "- very sample-dependent"
   ]
  },
  {
   "cell_type": "markdown",
   "id": "48b536d0",
   "metadata": {},
   "source": [
    "## Example 3: is university worth?"
   ]
  },
  {
   "cell_type": "markdown",
   "id": "950df668",
   "metadata": {},
   "source": [
    "Let's now switch to a new example to compare t-tests and permutation tests.\n",
    "\n",
    "Assume we want to check whether university is a worthy investment. We have information about whether individuals attended university and their future salary. The problem here is that income is a particularly **skewed** variable."
   ]
  },
  {
   "cell_type": "code",
   "execution_count": 19,
   "id": "3d6232b6",
   "metadata": {},
   "outputs": [],
   "source": [
    "# Data generating process\n",
    "def generate_data_income(N=1000, seed=1):\n",
    "    np.random.seed(seed) # Set seed for replicability\n",
    "    university = np.random.binomial(1, 0.5, N) # Treatment\n",
    "    data = pd.DataFrame({\"university\": university,\n",
    "                         \"income\": np.random.lognormal(university, 2.3, N)})\n",
    "    return data"
   ]
  },
  {
   "cell_type": "code",
   "execution_count": 20,
   "id": "a94e1db1",
   "metadata": {},
   "outputs": [
    {
     "data": {
      "text/html": [
       "<div>\n",
       "<style scoped>\n",
       "    .dataframe tbody tr th:only-of-type {\n",
       "        vertical-align: middle;\n",
       "    }\n",
       "\n",
       "    .dataframe tbody tr th {\n",
       "        vertical-align: top;\n",
       "    }\n",
       "\n",
       "    .dataframe thead th {\n",
       "        text-align: right;\n",
       "    }\n",
       "</style>\n",
       "<table border=\"1\" class=\"dataframe\">\n",
       "  <thead>\n",
       "    <tr style=\"text-align: right;\">\n",
       "      <th></th>\n",
       "      <th>university</th>\n",
       "      <th>income</th>\n",
       "    </tr>\n",
       "  </thead>\n",
       "  <tbody>\n",
       "    <tr>\n",
       "      <th>0</th>\n",
       "      <td>0</td>\n",
       "      <td>5.305618</td>\n",
       "    </tr>\n",
       "    <tr>\n",
       "      <th>1</th>\n",
       "      <td>1</td>\n",
       "      <td>1.289598</td>\n",
       "    </tr>\n",
       "    <tr>\n",
       "      <th>2</th>\n",
       "      <td>0</td>\n",
       "      <td>6.507720</td>\n",
       "    </tr>\n",
       "    <tr>\n",
       "      <th>3</th>\n",
       "      <td>0</td>\n",
       "      <td>6.019961</td>\n",
       "    </tr>\n",
       "    <tr>\n",
       "      <th>4</th>\n",
       "      <td>0</td>\n",
       "      <td>0.034482</td>\n",
       "    </tr>\n",
       "  </tbody>\n",
       "</table>\n",
       "</div>"
      ],
      "text/plain": [
       "   university    income\n",
       "0           0  5.305618\n",
       "1           1  1.289598\n",
       "2           0  6.507720\n",
       "3           0  6.019961\n",
       "4           0  0.034482"
      ]
     },
     "execution_count": 20,
     "metadata": {},
     "output_type": "execute_result"
    }
   ],
   "source": [
    "data_income = generate_data_income()\n",
    "data_income.head()"
   ]
  },
  {
   "cell_type": "markdown",
   "id": "7e548958",
   "metadata": {},
   "source": [
    "The distribution of income is very heavy tailed. Let's plot its density across the two groups."
   ]
  },
  {
   "cell_type": "code",
   "execution_count": 21,
   "id": "b39b3ccd",
   "metadata": {},
   "outputs": [
    {
     "data": {
      "image/png": "[encoded data removed]",
      "text/plain": [
       "<Figure size 720x432 with 1 Axes>"
      ]
     },
     "metadata": {
      "image/png": {
       "height": 408,
       "width": 622
      }
     },
     "output_type": "display_data"
    }
   ],
   "source": [
    "sns.kdeplot(data=data_income, x=\"income\", hue=\"university\")\\\n",
    ".set(title='Income density by group');"
   ]
  },
  {
   "cell_type": "markdown",
   "id": "646e7277",
   "metadata": {},
   "source": [
    "The distribution is so skewed that we cannot actually visually perceive differences between the two groups. Let's compute the expected difference."
   ]
  },
  {
   "cell_type": "code",
   "execution_count": 22,
   "id": "79c78c65",
   "metadata": {},
   "outputs": [],
   "source": [
    "def compute_income_diff(data):\n",
    "    T = np.mean(data.loc[data['university']==1, 'income']) - np.mean(data.loc[data['university']==0, 'income'])\n",
    "    return T"
   ]
  },
  {
   "cell_type": "code",
   "execution_count": 23,
   "id": "f3d977e1",
   "metadata": {},
   "outputs": [
    {
     "data": {
      "text/plain": [
       "23.546974435985444"
      ]
     },
     "execution_count": 23,
     "metadata": {},
     "output_type": "execute_result"
    }
   ],
   "source": [
    "T = compute_income_diff(data_income)\n",
    "T"
   ]
  },
  {
   "cell_type": "markdown",
   "id": "bd3c0d62",
   "metadata": {},
   "source": [
    "It looks like university graduates have higher income. Is this difference statistically different from zero? Let's perform a permutation test."
   ]
  },
  {
   "cell_type": "code",
   "execution_count": 24,
   "id": "8e376f04",
   "metadata": {},
   "outputs": [
    {
     "name": "stdout",
     "output_type": "stream",
     "text": [
      "The p-value is 0.011\n"
     ]
    }
   ],
   "source": [
    "T_perm = permutation_test(data_income, permute, 'university', compute_income_diff)"
   ]
  },
  {
   "cell_type": "markdown",
   "id": "b7a1b815",
   "metadata": {},
   "source": [
    "The permutation test is telling us that the difference is extremely unusual under the null hypothesis. In other words, it is very unlikely that university graduates earn the same income of non-university graduates.\n",
    "\n",
    "What would be the outcome of a standard t-test?"
   ]
  },
  {
   "cell_type": "code",
   "execution_count": 25,
   "id": "7ccc81fd",
   "metadata": {},
   "outputs": [
    {
     "data": {
      "text/plain": [
       "Ttest_indResult(statistic=1.5589492598056494, pvalue=0.1193254252009701)"
      ]
     },
     "execution_count": 25,
     "metadata": {},
     "output_type": "execute_result"
    }
   ],
   "source": [
    "from scipy.stats import ttest_ind\n",
    "\n",
    "ttest_ind(data_income.query('university==1')['income'], data_income.query('university==0')['income'])"
   ]
  },
  {
   "cell_type": "markdown",
   "id": "6156871d",
   "metadata": {},
   "source": [
    "As we can see, the two tests provide extremely different results. The t-test is much more conservative, telling us that the unlikeliness of the data is just $12\\%$ compared to the $1.1\\%$ of the permutation test. \n",
    "\n",
    "The **reason** is that we have extremely skewed data. The t-test is very sensible to extreme observation and will therefore compute a very high variance because of very few data points.\n",
    "\n",
    "The permutation test can further address the problem of a skewed outcome distribution by using a test statistic that is more **sensible to outliers**. Let's perform the permutation test using the **trimmed mean** instead of the mean."
   ]
  },
  {
   "cell_type": "code",
   "execution_count": 26,
   "id": "531776b8",
   "metadata": {},
   "outputs": [],
   "source": [
    "from scipy.stats import trim_mean\n",
    "\n",
    "def compute_income_mediandiff(data):\n",
    "    T = np.median(data.loc[data['university']==1, 'income']) - np.median(data.loc[data['university']==0, 'income'])\n",
    "    return T"
   ]
  },
  {
   "cell_type": "code",
   "execution_count": 27,
   "id": "bdfd7951",
   "metadata": {},
   "outputs": [
    {
     "name": "stdout",
     "output_type": "stream",
     "text": [
      "The p-value is 0.0\n"
     ]
    }
   ],
   "source": [
    "T_perm = permutation_test(data_income, permute, 'university', compute_income_mediandiff)"
   ]
  },
  {
   "cell_type": "markdown",
   "id": "5dce5a29",
   "metadata": {},
   "source": [
    "In this case, the permutation test is extremely confident that the trimmed mean of the two groups is different.\n",
    "\n",
    "However, an advantage of the t-test is **speed**. Let's compare the two tests by computing their execution time. Note that this is just a rough approximation since the permutation test could be sensible optimized."
   ]
  },
  {
   "cell_type": "code",
   "execution_count": 28,
   "id": "883f9f61",
   "metadata": {},
   "outputs": [
    {
     "name": "stdout",
     "output_type": "stream",
     "text": [
      "The p-value is 0.016\n",
      "Elapsed time without replacement: 0.28911614418029785\n",
      "Elapsed time with replacement: 0.00125885009765625\n"
     ]
    }
   ],
   "source": [
    "import time\n",
    "\n",
    "# No replacement\n",
    "start = time.time()\n",
    "permutation_test(data_income, permute, 'university', compute_income_diff)\n",
    "print(f\"Elapsed time without replacement: {time.time() - start}\")\n",
    "\n",
    "# Replacement\n",
    "start = time.time()\n",
    "ttest_ind(data_income.query('university==1')['income'], data_income.query('university==0')['income'])\n",
    "print(f\"Elapsed time with replacement: {time.time() - start}\")"
   ]
  },
  {
   "cell_type": "markdown",
   "id": "090c1910",
   "metadata": {},
   "source": [
    "The permutation test is 300 times slower. This can be a particularly relevant difference for larger sample sizes. "
   ]
  },
  {
   "cell_type": "markdown",
   "id": "998e79d4",
   "metadata": {},
   "source": [
    "## Conclusion"
   ]
  },
  {
   "cell_type": "markdown",
   "id": "a7e9a540",
   "metadata": {},
   "source": [
    "In this tutorial, we have seen how to perform permutation tests across different data generating processes.\n",
    "\n",
    "The underlying principle is the same: permute an variable that is assumed to be random under the null hypothesis and re-compute the test statistic. Then check how unusual was the test statistic in the original dataset."
   ]
  }
 ],
 "metadata": {
  "kernelspec": {
   "display_name": "Python (conda)",
   "language": "python",
   "name": "base"
  },
  "language_info": {
   "codemirror_mode": {
    "name": "ipython",
    "version": 3
   },
   "file_extension": ".py",
   "mimetype": "text/x-python",
   "name": "python",
   "nbconvert_exporter": "python",
   "pygments_lexer": "ipython3",
   "version": "3.9.7"
  }
 },
 "nbformat": 4,
 "nbformat_minor": 5
}
