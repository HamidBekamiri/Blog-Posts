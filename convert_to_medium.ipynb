{
 "cells": [
  {
   "cell_type": "markdown",
   "id": "da277c75",
   "metadata": {},
   "source": [
    "# Convert to Medium"
   ]
  },
  {
   "cell_type": "code",
   "execution_count": 1,
   "id": "7eec6488",
   "metadata": {},
   "outputs": [],
   "source": [
    "import jupyter_to_medium as jtm"
   ]
  },
  {
   "cell_type": "code",
   "execution_count": 8,
   "id": "830110a6",
   "metadata": {},
   "outputs": [
    {
     "name": "stdout",
     "output_type": "stream",
     "text": [
      "loading image to medium\n",
      "\n",
      "\n",
      "Image Storage Information from Medium\n",
      "-------------------------------------\n",
      "\n",
      "[\n",
      "    {\n",
      "        \"data\": {\n",
      "            \"url\": \"https://cdn-images-1.medium.com/proxy/1*2sZjSXU7GgIjBMY64BnI0w.png\",\n",
      "            \"md5\": \"2sZjSXU7GgIjBMY64BnI0w\"\n",
      "        }\n",
      "    }\n",
      "]\n",
      "\n",
      "\n",
      "\n",
      "Successfully posted to Medium!!!\n",
      "--------------------------------\n",
      "id                  42b60e8e0134\n",
      "title               controls\n",
      "authorId            1ce974b6cf4d81b66700904a55e3bffcf01fd8d69f80f9c01559b1db01140726b\n",
      "url                 https://medium.com/@matteo.courthoud/42b60e8e0134\n",
      "canonicalUrl        \n",
      "publishStatus       draft\n",
      "license             all-rights-reserved\n",
      "licenseUrl          https://policy.medium.com/medium-terms-of-service-9db0094a1e0f\n",
      "tags                []\n"
     ]
    },
    {
     "data": {
      "text/plain": [
       "{'data': {'id': '42b60e8e0134',\n",
       "  'title': 'controls',\n",
       "  'authorId': '1ce974b6cf4d81b66700904a55e3bffcf01fd8d69f80f9c01559b1db01140726b',\n",
       "  'url': 'https://medium.com/@matteo.courthoud/42b60e8e0134',\n",
       "  'canonicalUrl': '',\n",
       "  'publishStatus': 'draft',\n",
       "  'license': 'all-rights-reserved',\n",
       "  'licenseUrl': 'https://policy.medium.com/medium-terms-of-service-9db0094a1e0f',\n",
       "  'tags': []}}"
      ]
     },
     "execution_count": 8,
     "metadata": {},
     "output_type": "execute_result"
    }
   ],
   "source": [
    "jtm.publish('controls.ipynb',\n",
    "            integration_token=None,\n",
    "            pub_name=None,\n",
    "            title=None,\n",
    "            tags=None,\n",
    "            publish_status='draft',\n",
    "            notify_followers=False,\n",
    "            license='all-rights-reserved',\n",
    "            canonical_url=None,\n",
    "            chrome_path=None,\n",
    "            save_markdown=False,\n",
    "            table_conversion='matplotlib'\n",
    "            )"
   ]
  },
  {
   "cell_type": "code",
   "execution_count": null,
   "id": "ec0e5ece",
   "metadata": {},
   "outputs": [],
   "source": []
  }
 ],
 "metadata": {
  "kernelspec": {
   "display_name": "Python (conda)",
   "language": "python",
   "name": "base"
  },
  "language_info": {
   "codemirror_mode": {
    "name": "ipython",
    "version": 3
   },
   "file_extension": ".py",
   "mimetype": "text/x-python",
   "name": "python",
   "nbconvert_exporter": "python",
   "pygments_lexer": "ipython3",
   "version": "3.9.7"
  }
 },
 "nbformat": 4,
 "nbformat_minor": 5
}
