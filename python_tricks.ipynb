{
 "cells": [
  {
   "cell_type": "markdown",
   "id": "68a78d89",
   "metadata": {},
   "source": [
    "# 100 Basic Python Tricks"
   ]
  },
  {
   "cell_type": "markdown",
   "id": "b823f446",
   "metadata": {},
   "source": [
    "Here is a list of not-obvious tips and tricks you can do in basic Python. \n",
    "\n",
    "The **rules** are:\n",
    "\n",
    "- possibly one-liners\n",
    "    - therefore, no functions\n",
    "- no libraries, just base Python\n",
    "- non-trivial or non-standard"
   ]
  },
  {
   "cell_type": "markdown",
   "id": "fe06689d",
   "metadata": {},
   "source": [
    "## Numbers"
   ]
  },
  {
   "cell_type": "markdown",
   "id": "f5d377f4",
   "metadata": {},
   "source": [
    "Separate big numbers with `_` for readability"
   ]
  },
  {
   "cell_type": "code",
   "execution_count": 1,
   "id": "6aa503e1",
   "metadata": {},
   "outputs": [
    {
     "data": {
      "text/plain": [
       "2438930"
      ]
     },
     "execution_count": 1,
     "metadata": {},
     "output_type": "execute_result"
    }
   ],
   "source": [
    "2_438_930"
   ]
  },
  {
   "cell_type": "markdown",
   "id": "6d72461d",
   "metadata": {},
   "source": [
    "Do floor division using `//`"
   ]
  },
  {
   "cell_type": "code",
   "execution_count": 2,
   "id": "3bf59397",
   "metadata": {},
   "outputs": [
    {
     "data": {
      "text/plain": [
       "2"
      ]
     },
     "execution_count": 2,
     "metadata": {},
     "output_type": "execute_result"
    }
   ],
   "source": [
    "8 // 3"
   ]
  },
  {
   "cell_type": "markdown",
   "id": "547d21a7",
   "metadata": {},
   "source": [
    "Get division remainder using `%`"
   ]
  },
  {
   "cell_type": "code",
   "execution_count": 3,
   "id": "028ecb4c",
   "metadata": {},
   "outputs": [
    {
     "data": {
      "text/plain": [
       "2"
      ]
     },
     "execution_count": 3,
     "metadata": {},
     "output_type": "execute_result"
    }
   ],
   "source": [
    "8 % 3"
   ]
  },
  {
   "cell_type": "markdown",
   "id": "c2b5b4ea",
   "metadata": {},
   "source": [
    "Perform `floor(n / 2 ** n)` using `>>`"
   ]
  },
  {
   "cell_type": "code",
   "execution_count": 4,
   "id": "67c169d3",
   "metadata": {},
   "outputs": [
    {
     "data": {
      "text/plain": [
       "4"
      ]
     },
     "execution_count": 4,
     "metadata": {},
     "output_type": "execute_result"
    }
   ],
   "source": [
    "18 >> 2"
   ]
  },
  {
   "cell_type": "markdown",
   "id": "a0a4ab78",
   "metadata": {},
   "source": [
    "You can chain operators. The most satisfying one is `< x <`"
   ]
  },
  {
   "cell_type": "code",
   "execution_count": 5,
   "id": "7577c646",
   "metadata": {},
   "outputs": [
    {
     "data": {
      "text/plain": [
       "True"
      ]
     },
     "execution_count": 5,
     "metadata": {},
     "output_type": "execute_result"
    }
   ],
   "source": [
    "x = 3\n",
    "0 < x < 4"
   ]
  },
  {
   "cell_type": "markdown",
   "id": "d8f336b1",
   "metadata": {},
   "source": [
    "## Strings"
   ]
  },
  {
   "cell_type": "markdown",
   "id": "4335f701",
   "metadata": {},
   "source": [
    "Multiply strings using `*`"
   ]
  },
  {
   "cell_type": "code",
   "execution_count": 6,
   "id": "97f40562",
   "metadata": {},
   "outputs": [
    {
     "data": {
      "text/plain": [
       "'ciaociaociao'"
      ]
     },
     "execution_count": 6,
     "metadata": {},
     "output_type": "execute_result"
    }
   ],
   "source": [
    "\"ciao\" * 3"
   ]
  },
  {
   "cell_type": "markdown",
   "id": "262fc1c2",
   "metadata": {},
   "source": [
    "Concatenate strings using `+`"
   ]
  },
  {
   "cell_type": "code",
   "execution_count": 7,
   "id": "20cc3748",
   "metadata": {},
   "outputs": [
    {
     "data": {
      "text/plain": [
       "'Hi, my name is Matteo'"
      ]
     },
     "execution_count": 7,
     "metadata": {},
     "output_type": "execute_result"
    }
   ],
   "source": [
    "\"Hi,\" + \" my name is \" + \"Matteo\""
   ]
  },
  {
   "cell_type": "markdown",
   "id": "e53997cf",
   "metadata": {},
   "source": [
    "Insert variables in strings using Fstrings"
   ]
  },
  {
   "cell_type": "code",
   "execution_count": 8,
   "id": "611618a4",
   "metadata": {},
   "outputs": [
    {
     "data": {
      "text/plain": [
       "'My name is Matteo and my age is 21.'"
      ]
     },
     "execution_count": 8,
     "metadata": {},
     "output_type": "execute_result"
    }
   ],
   "source": [
    "name = \"Matteo\"\n",
    "age = 21\n",
    "f\"My name is {name} and my age is {age}.\""
   ]
  },
  {
   "cell_type": "markdown",
   "id": "ed681fa4",
   "metadata": {},
   "source": [
    "Insert and format variables in strings using Fstrings"
   ]
  },
  {
   "cell_type": "code",
   "execution_count": 9,
   "id": "71d6aaef",
   "metadata": {},
   "outputs": [
    {
     "data": {
      "text/plain": [
       "'This is a rounded number: 12.35'"
      ]
     },
     "execution_count": 9,
     "metadata": {},
     "output_type": "execute_result"
    }
   ],
   "source": [
    "f\"This is a rounded number: {12.3492:.2f}\""
   ]
  },
  {
   "cell_type": "markdown",
   "id": "3e822a96",
   "metadata": {},
   "source": [
    "Make multi-line strings with triple quotes"
   ]
  },
  {
   "cell_type": "code",
   "execution_count": 10,
   "id": "9bf294ef",
   "metadata": {},
   "outputs": [
    {
     "name": "stdout",
     "output_type": "stream",
     "text": [
      "This\n",
      "is \n",
      "not \n",
      "an haiku\n"
     ]
    }
   ],
   "source": [
    "ml_string = \"\"\"This\n",
    "is \n",
    "not \n",
    "an haiku\"\"\"\n",
    "print(ml_string)"
   ]
  },
  {
   "cell_type": "markdown",
   "id": "71909d96",
   "metadata": {},
   "source": [
    "Check alphabetical order using `>`"
   ]
  },
  {
   "cell_type": "code",
   "execution_count": 11,
   "id": "ae3c1a91",
   "metadata": {},
   "outputs": [
    {
     "data": {
      "text/plain": [
       "True"
      ]
     },
     "execution_count": 11,
     "metadata": {},
     "output_type": "execute_result"
    }
   ],
   "source": [
    "\"pizza\" > \"pasta\""
   ]
  },
  {
   "cell_type": "markdown",
   "id": "2d43d97e",
   "metadata": {},
   "source": [
    "Search substring occurrences using `in`"
   ]
  },
  {
   "cell_type": "code",
   "execution_count": 12,
   "id": "e4185f1f",
   "metadata": {},
   "outputs": [
    {
     "data": {
      "text/plain": [
       "True"
      ]
     },
     "execution_count": 12,
     "metadata": {},
     "output_type": "execute_result"
    }
   ],
   "source": [
    "\"Ben\" in \"Is Ben here?\""
   ]
  },
  {
   "cell_type": "markdown",
   "id": "1739a4ac",
   "metadata": {},
   "source": [
    "Find position of substring in string with `find()`"
   ]
  },
  {
   "cell_type": "code",
   "execution_count": 13,
   "id": "c2c7d999",
   "metadata": {},
   "outputs": [
    {
     "data": {
      "text/plain": [
       "9"
      ]
     },
     "execution_count": 13,
     "metadata": {},
     "output_type": "execute_result"
    }
   ],
   "source": [
    "\"Where is Ben in this sentence?\".find(\"Ben\")"
   ]
  },
  {
   "cell_type": "markdown",
   "id": "f706aef8",
   "metadata": {},
   "source": [
    "Replace parts of a string using `.replace()`"
   ]
  },
  {
   "cell_type": "code",
   "execution_count": 71,
   "id": "c8c46cf0",
   "metadata": {},
   "outputs": [
    {
     "data": {
      "text/plain": [
       "\"LOMGt's rOMGplacOMG OMG with OMG\""
      ]
     },
     "execution_count": 71,
     "metadata": {},
     "output_type": "execute_result"
    }
   ],
   "source": [
    "s = \"Let's replace e with OMG\"\n",
    "s.replace(\"e\", \"OMG\")"
   ]
  },
  {
   "cell_type": "markdown",
   "id": "b62f98d7",
   "metadata": {},
   "source": [
    "Remove first occurrence of a substring using `replace()`"
   ]
  },
  {
   "cell_type": "code",
   "execution_count": 72,
   "id": "a3ddf2f4",
   "metadata": {},
   "outputs": [
    {
     "data": {
      "text/plain": [
       "\"Let' replace the first s\""
      ]
     },
     "execution_count": 72,
     "metadata": {},
     "output_type": "execute_result"
    }
   ],
   "source": [
    "s = \"Let's replace the first s\"\n",
    "s.replace(\"s\",\"\",1)"
   ]
  },
  {
   "cell_type": "markdown",
   "id": "945770b5",
   "metadata": {},
   "source": [
    "We can play with cases using `.lower()`, `.upper()`, `.capitalize()` and `.swapcase()`"
   ]
  },
  {
   "cell_type": "code",
   "execution_count": 15,
   "id": "8c752575",
   "metadata": {},
   "outputs": [
    {
     "name": "stdout",
     "output_type": "stream",
     "text": [
      "hello! my name is matteo.\n",
      "HELLO! MY NAME IS MATTEO.\n",
      "Hello! my name is matteo.\n",
      "hELLO! mY NAME IS mATTEO.\n"
     ]
    }
   ],
   "source": [
    "s = 'Hello! My name is Matteo.'\n",
    "print(s.lower())\n",
    "print(s.upper())\n",
    "print(s.capitalize())\n",
    "print(s.swapcase())"
   ]
  },
  {
   "cell_type": "markdown",
   "id": "38796fe5",
   "metadata": {},
   "source": [
    "Remove leading and trailing spaces using `strip()`"
   ]
  },
  {
   "cell_type": "code",
   "execution_count": 16,
   "id": "de63394c",
   "metadata": {},
   "outputs": [
    {
     "data": {
      "text/plain": [
       "'Oh some text!'"
      ]
     },
     "execution_count": 16,
     "metadata": {},
     "output_type": "execute_result"
    }
   ],
   "source": [
    "\"   Oh some text!    \".strip()"
   ]
  },
  {
   "cell_type": "markdown",
   "id": "3a74e6ca",
   "metadata": {},
   "source": [
    "Remove specific leading and trailing characters using `.strip()`"
   ]
  },
  {
   "cell_type": "code",
   "execution_count": 17,
   "id": "050fbb8d",
   "metadata": {},
   "outputs": [
    {
     "data": {
      "text/plain": [
       "'Oh some text!   '"
      ]
     },
     "execution_count": 17,
     "metadata": {},
     "output_type": "execute_result"
    }
   ],
   "source": [
    "\"-+--Oh some text!   ++\".strip('+-')"
   ]
  },
  {
   "cell_type": "markdown",
   "id": "9161d0a1",
   "metadata": {},
   "source": [
    "Join array of string"
   ]
  },
  {
   "cell_type": "code",
   "execution_count": 18,
   "id": "e4ec324d",
   "metadata": {},
   "outputs": [
    {
     "data": {
      "text/plain": [
       "'Milan, Turin, Rome, Naples'"
      ]
     },
     "execution_count": 18,
     "metadata": {},
     "output_type": "execute_result"
    }
   ],
   "source": [
    "cities = [\"Milan\", \"Turin\", \"Rome\", \"Naples\"]\n",
    "\", \".join(cities)"
   ]
  },
  {
   "cell_type": "markdown",
   "id": "dd87474a",
   "metadata": {},
   "source": [
    "Split a string into a list using `.split()`"
   ]
  },
  {
   "cell_type": "code",
   "execution_count": 19,
   "id": "296d3034",
   "metadata": {},
   "outputs": [
    {
     "data": {
      "text/plain": [
       "['List', 'of', 'words', 'from', 'sentence']"
      ]
     },
     "execution_count": 19,
     "metadata": {},
     "output_type": "execute_result"
    }
   ],
   "source": [
    "\"List of words from sentence\".split(\" \")"
   ]
  },
  {
   "cell_type": "markdown",
   "id": "ba6f866a",
   "metadata": {},
   "source": [
    "Use list operations on strings: iterate, slice, ..."
   ]
  },
  {
   "cell_type": "code",
   "execution_count": 20,
   "id": "e7a03223",
   "metadata": {},
   "outputs": [
    {
     "name": "stdout",
     "output_type": "stream",
     "text": [
      "c\n",
      "i\n",
      "a\n",
      "o\n"
     ]
    }
   ],
   "source": [
    "for letter in \"ciao\":\n",
    "    print(letter)"
   ]
  },
  {
   "cell_type": "markdown",
   "id": "3c68a39e",
   "metadata": {},
   "source": [
    "## Lists"
   ]
  },
  {
   "cell_type": "markdown",
   "id": "cdcddbac",
   "metadata": {},
   "source": [
    "Slice elements of a list using `beginning:end`"
   ]
  },
  {
   "cell_type": "code",
   "execution_count": 21,
   "id": "f5ed28d3",
   "metadata": {},
   "outputs": [
    {
     "data": {
      "text/plain": [
       "['d', 'e']"
      ]
     },
     "execution_count": 21,
     "metadata": {},
     "output_type": "execute_result"
    }
   ],
   "source": [
    "lst = [\"a\", \"b\", \"c\", \"d\", \"e\", \"f\"]\n",
    "lst[3:5]"
   ]
  },
  {
   "cell_type": "markdown",
   "id": "98f2929e",
   "metadata": {},
   "source": [
    "Slice elements of a list with a step using `beginning:end:step`"
   ]
  },
  {
   "cell_type": "code",
   "execution_count": 22,
   "id": "4b188475",
   "metadata": {},
   "outputs": [
    {
     "data": {
      "text/plain": [
       "['b', 'd', 'f']"
      ]
     },
     "execution_count": 22,
     "metadata": {},
     "output_type": "execute_result"
    }
   ],
   "source": [
    "lst = [\"a\", \"b\", \"c\", \"d\", \"e\", \"f\"]\n",
    "lst[1:6:2]"
   ]
  },
  {
   "cell_type": "markdown",
   "id": "82839816",
   "metadata": {},
   "source": [
    "Append lists using `+`"
   ]
  },
  {
   "cell_type": "code",
   "execution_count": 23,
   "id": "2008bae5",
   "metadata": {},
   "outputs": [
    {
     "data": {
      "text/plain": [
       "[1, 2, 3, 4, 5, 6]"
      ]
     },
     "execution_count": 23,
     "metadata": {},
     "output_type": "execute_result"
    }
   ],
   "source": [
    "[1,2,3] + [4] + [5,6]"
   ]
  },
  {
   "cell_type": "markdown",
   "id": "df86d2ad",
   "metadata": {},
   "source": [
    "Select elements starting from the end using negative indexes"
   ]
  },
  {
   "cell_type": "code",
   "execution_count": 24,
   "id": "21eb4ac7",
   "metadata": {},
   "outputs": [
    {
     "data": {
      "text/plain": [
       "4"
      ]
     },
     "execution_count": 24,
     "metadata": {},
     "output_type": "execute_result"
    }
   ],
   "source": [
    "a = [1,2,3,4,5]\n",
    "a[-2]"
   ]
  },
  {
   "cell_type": "markdown",
   "id": "18846baf",
   "metadata": {},
   "source": [
    "Reverse a list using `::-1`"
   ]
  },
  {
   "cell_type": "code",
   "execution_count": 25,
   "id": "3c99a931",
   "metadata": {},
   "outputs": [
    {
     "data": {
      "text/plain": [
       "[5, 4, 3, 2, 1]"
      ]
     },
     "execution_count": 25,
     "metadata": {},
     "output_type": "execute_result"
    }
   ],
   "source": [
    "a = [1,2,3,4,5]\n",
    "a[::-1]"
   ]
  },
  {
   "cell_type": "markdown",
   "id": "3600f0f5",
   "metadata": {},
   "source": [
    "List comprehensions"
   ]
  },
  {
   "cell_type": "code",
   "execution_count": 26,
   "id": "a454151c",
   "metadata": {},
   "outputs": [
    {
     "data": {
      "text/plain": [
       "[1, 2, 3, 4]"
      ]
     },
     "execution_count": 26,
     "metadata": {},
     "output_type": "execute_result"
    }
   ],
   "source": [
    "[x+1 for x in range(4)]"
   ]
  },
  {
   "cell_type": "markdown",
   "id": "d796e9a1",
   "metadata": {},
   "source": [
    "Loop over items and index with `enumerate`"
   ]
  },
  {
   "cell_type": "code",
   "execution_count": 27,
   "id": "372312be",
   "metadata": {},
   "outputs": [
    {
     "name": "stdout",
     "output_type": "stream",
     "text": [
      "Task 0 is eat\n",
      "Task 1 is work\n",
      "Task 2 is sleep\n",
      "Task 3 is repeat\n"
     ]
    }
   ],
   "source": [
    "todos = ['eat', 'work', 'sleep', 'repeat']\n",
    "for key, value in enumerate(todos):\n",
    "    print(\"Task\", key, \"is\", value)"
   ]
  },
  {
   "cell_type": "markdown",
   "id": "b60cad6e",
   "metadata": {},
   "source": [
    "Use zip to loop over multiple arrays"
   ]
  },
  {
   "cell_type": "code",
   "execution_count": 28,
   "id": "38b8bb04",
   "metadata": {
    "scrolled": true
   },
   "outputs": [
    {
     "name": "stdout",
     "output_type": "stream",
     "text": [
      "Annie is 14 years old\n",
      "Bern is 3 years old\n",
      "Carl is 5 years old\n"
     ]
    }
   ],
   "source": [
    "names = [\"Annie\", \"Bern\", \"Carl\"]\n",
    "ages = [14, 3, 5]\n",
    "for n,a in zip(names, ages):\n",
    "    print(n, \"is\", a, \"years old\")"
   ]
  },
  {
   "cell_type": "markdown",
   "id": "ab3a100d",
   "metadata": {},
   "source": [
    "Use `sort()` to sort \"inplace\" and `sorted()` to generate a new list"
   ]
  },
  {
   "cell_type": "code",
   "execution_count": 29,
   "id": "8cb48895",
   "metadata": {},
   "outputs": [
    {
     "data": {
      "text/plain": [
       "[-9, -2, 0, 1, 4]"
      ]
     },
     "execution_count": 29,
     "metadata": {},
     "output_type": "execute_result"
    }
   ],
   "source": [
    "lst = [4,1,-9,0,-2]\n",
    "sorted(lst)"
   ]
  },
  {
   "cell_type": "markdown",
   "id": "86724f55",
   "metadata": {},
   "source": [
    "Sort using functions with the `key` option"
   ]
  },
  {
   "cell_type": "code",
   "execution_count": 30,
   "id": "f13b259b",
   "metadata": {
    "scrolled": true
   },
   "outputs": [
    {
     "data": {
      "text/plain": [
       "[0, 1, -2, 4, -9]"
      ]
     },
     "execution_count": 30,
     "metadata": {},
     "output_type": "execute_result"
    }
   ],
   "source": [
    "lst = [4,1,-9,0,-2]\n",
    "sorted(lst, key=abs)"
   ]
  },
  {
   "cell_type": "markdown",
   "id": "0cec7a04",
   "metadata": {},
   "source": [
    "Remove elements with mutation using `remove()`"
   ]
  },
  {
   "cell_type": "code",
   "execution_count": 79,
   "id": "b4cb9144",
   "metadata": {},
   "outputs": [
    {
     "name": "stdout",
     "output_type": "stream",
     "text": [
      "['Annie', 'Bern', 'Carl']\n"
     ]
    }
   ],
   "source": [
    "friends = [\"Annie\", \"Bern\", \"Carl\", \"Dad\"]\n",
    "friends.remove(\"Dad\")\n",
    "print(friends)"
   ]
  },
  {
   "cell_type": "markdown",
   "id": "530a85ce",
   "metadata": {},
   "source": [
    "Remove elements without mutation using comprehensions"
   ]
  },
  {
   "cell_type": "code",
   "execution_count": 80,
   "id": "383f2f27",
   "metadata": {},
   "outputs": [
    {
     "data": {
      "text/plain": [
       "['Annie', 'Bern', 'Carl']"
      ]
     },
     "execution_count": 80,
     "metadata": {},
     "output_type": "execute_result"
    }
   ],
   "source": [
    "friends = [\"Annie\", \"Bern\", \"Carl\", \"Dad\"]\n",
    "[f for f in friends if f != \"Dad\"]"
   ]
  },
  {
   "cell_type": "markdown",
   "id": "c0a2df73",
   "metadata": {},
   "source": [
    "Remove all elements of a list (but not the list) using `del [:]`"
   ]
  },
  {
   "cell_type": "code",
   "execution_count": 1,
   "id": "b071f884",
   "metadata": {},
   "outputs": [
    {
     "data": {
      "text/plain": [
       "[]"
      ]
     },
     "execution_count": 1,
     "metadata": {},
     "output_type": "execute_result"
    }
   ],
   "source": [
    "trash = [\"useless\", \"to be removed\", \"dangerous\"]\n",
    "del trash[:]\n",
    "trash"
   ]
  },
  {
   "cell_type": "markdown",
   "id": "90dfa113",
   "metadata": {},
   "source": [
    "## Sets"
   ]
  },
  {
   "cell_type": "markdown",
   "id": "70d877b7",
   "metadata": {},
   "source": [
    "Ordered unique values of a list using `set`"
   ]
  },
  {
   "cell_type": "code",
   "execution_count": 31,
   "id": "8b1212bb",
   "metadata": {
    "scrolled": true
   },
   "outputs": [
    {
     "data": {
      "text/plain": [
       "{2, 3, 4, 5}"
      ]
     },
     "execution_count": 31,
     "metadata": {},
     "output_type": "execute_result"
    }
   ],
   "source": [
    "a = [2,3,2,3,4,5]\n",
    "set(a)"
   ]
  },
  {
   "cell_type": "markdown",
   "id": "71225e5a",
   "metadata": {},
   "source": [
    "Get intersection of sets using `&`"
   ]
  },
  {
   "cell_type": "code",
   "execution_count": 32,
   "id": "923e27bf",
   "metadata": {},
   "outputs": [
    {
     "data": {
      "text/plain": [
       "{'James', 'Lucy'}"
      ]
     },
     "execution_count": 32,
     "metadata": {},
     "output_type": "execute_result"
    }
   ],
   "source": [
    "friends = {\"James\", \"Dean\", \"Lucy\"}\n",
    "colleagues = {\"Anne\", \"James\", \"Lucy\"}\n",
    "friends & colleagues"
   ]
  },
  {
   "cell_type": "markdown",
   "id": "eb00ec29",
   "metadata": {},
   "source": [
    "Get union of sets using `|`"
   ]
  },
  {
   "cell_type": "code",
   "execution_count": 33,
   "id": "9e447129",
   "metadata": {},
   "outputs": [
    {
     "data": {
      "text/plain": [
       "{'Anne', 'Dean', 'James', 'Lucy'}"
      ]
     },
     "execution_count": 33,
     "metadata": {},
     "output_type": "execute_result"
    }
   ],
   "source": [
    "friends = {\"James\", \"Dean\", \"Lucy\"}\n",
    "colleagues = {\"Anne\", \"James\", \"Lucy\"}\n",
    "friends | colleagues"
   ]
  },
  {
   "cell_type": "markdown",
   "id": "21eddb5b",
   "metadata": {},
   "source": [
    "Do set difference using `-`"
   ]
  },
  {
   "cell_type": "code",
   "execution_count": 34,
   "id": "0297a204",
   "metadata": {},
   "outputs": [
    {
     "data": {
      "text/plain": [
       "{'Dean'}"
      ]
     },
     "execution_count": 34,
     "metadata": {},
     "output_type": "execute_result"
    }
   ],
   "source": [
    "friends = {\"James\", \"Dean\", \"Lucy\"}\n",
    "colleagues = {\"Anne\", \"James\", \"Lucy\"}\n",
    "friends - colleagues"
   ]
  },
  {
   "cell_type": "markdown",
   "id": "83f91dee",
   "metadata": {},
   "source": [
    "You can check if a set is a subset of another set with `.issubset()`"
   ]
  },
  {
   "cell_type": "code",
   "execution_count": 70,
   "id": "b6ea1a62",
   "metadata": {},
   "outputs": [
    {
     "data": {
      "text/plain": [
       "True"
      ]
     },
     "execution_count": 70,
     "metadata": {},
     "output_type": "execute_result"
    }
   ],
   "source": [
    "parents = {\"Mom\", \"Dad\"}\n",
    "relatives = {\"Mom\", \"Dad\", \"Brother\", \"Aunt\"}\n",
    "parents.issubset(relatives)"
   ]
  },
  {
   "cell_type": "markdown",
   "id": "16e0fbc8",
   "metadata": {},
   "source": [
    "## Dictionaries"
   ]
  },
  {
   "cell_type": "markdown",
   "id": "6d23f31e",
   "metadata": {},
   "source": [
    "Remove element by key using del"
   ]
  },
  {
   "cell_type": "code",
   "execution_count": 67,
   "id": "bd01bb19",
   "metadata": {},
   "outputs": [
    {
     "data": {
      "text/plain": [
       "{'pears': 1, 'oranges': 5}"
      ]
     },
     "execution_count": 67,
     "metadata": {},
     "output_type": "execute_result"
    }
   ],
   "source": [
    "d = {\"apples\": 3, \"pears\": 1, \"oranges\": 5}\n",
    "del d[\"apples\"]\n",
    "d"
   ]
  },
  {
   "cell_type": "markdown",
   "id": "00d9307c",
   "metadata": {},
   "source": [
    "Generate dictionaries using comprehensions"
   ]
  },
  {
   "cell_type": "code",
   "execution_count": 35,
   "id": "bf72f0e7",
   "metadata": {},
   "outputs": [
    {
     "data": {
      "text/plain": [
       "{'Squared of 0': 0,\n",
       " 'Squared of 1': 1,\n",
       " 'Squared of 2': 4,\n",
       " 'Squared of 3': 9,\n",
       " 'Squared of 4': 16}"
      ]
     },
     "execution_count": 35,
     "metadata": {},
     "output_type": "execute_result"
    }
   ],
   "source": [
    "{f\"Squared of {x}\": x**2 for x in range(5)}"
   ]
  },
  {
   "cell_type": "markdown",
   "id": "d50eebeb",
   "metadata": {},
   "source": [
    "Iterate over both keys and values using `.items()`"
   ]
  },
  {
   "cell_type": "code",
   "execution_count": 36,
   "id": "a2f4842d",
   "metadata": {},
   "outputs": [
    {
     "name": "stdout",
     "output_type": "stream",
     "text": [
      "I have 3 apples\n",
      "I have 1 pears\n",
      "I have 5 oranges\n"
     ]
    }
   ],
   "source": [
    "d = {\"apples\": 3, \"pears\": 1, \"oranges\": 5}\n",
    "for key, value in d.items():\n",
    "    print(f\"I have {value} {key}\")"
   ]
  },
  {
   "cell_type": "markdown",
   "id": "98fbb1eb",
   "metadata": {},
   "source": [
    "`get` function to avoid if/else with dictionaries"
   ]
  },
  {
   "cell_type": "code",
   "execution_count": 37,
   "id": "93c41192",
   "metadata": {},
   "outputs": [
    {
     "data": {
      "text/plain": [
       "0"
      ]
     },
     "execution_count": 37,
     "metadata": {},
     "output_type": "execute_result"
    }
   ],
   "source": [
    "d = {\"apples\": 3, \"pears\": 1, \"oranges\": 5}\n",
    "d.get(\"bananas\", 0)"
   ]
  },
  {
   "cell_type": "markdown",
   "id": "8424b00a",
   "metadata": {},
   "source": [
    "Merge dictionaries using `|`"
   ]
  },
  {
   "cell_type": "code",
   "execution_count": 38,
   "id": "ba19e0d3",
   "metadata": {},
   "outputs": [
    {
     "data": {
      "text/plain": [
       "{'name': 'Matteo', 'age': 22, 'male': True}"
      ]
     },
     "execution_count": 38,
     "metadata": {},
     "output_type": "execute_result"
    }
   ],
   "source": [
    "some_info = {\"name\": \"Matteo\", \"age\": 22}\n",
    "more_info = {\"name\": \"Matteo\", \"male\": True}\n",
    "some_info | more_info"
   ]
  },
  {
   "cell_type": "markdown",
   "id": "de5aa8ef",
   "metadata": {},
   "source": [
    "Find index of element in list/tuple using `index`"
   ]
  },
  {
   "cell_type": "code",
   "execution_count": 39,
   "id": "a4eedc69",
   "metadata": {},
   "outputs": [
    {
     "data": {
      "text/plain": [
       "1"
      ]
     },
     "execution_count": 39,
     "metadata": {},
     "output_type": "execute_result"
    }
   ],
   "source": [
    "[\"sole\", \"cuore\", \"amore\"].index(\"cuore\")"
   ]
  },
  {
   "cell_type": "markdown",
   "id": "2a1f1aa1",
   "metadata": {},
   "source": [
    "Count elements that satisfy a condition using `.count()`"
   ]
  },
  {
   "cell_type": "code",
   "execution_count": 40,
   "id": "648113aa",
   "metadata": {},
   "outputs": [
    {
     "data": {
      "text/plain": [
       "2"
      ]
     },
     "execution_count": 40,
     "metadata": {},
     "output_type": "execute_result"
    }
   ],
   "source": [
    "[\"a\", \"l\", \"l\", \"i\", \"g\", \"a\", \"t\", \"o\", \"r\"].count(\"a\")"
   ]
  },
  {
   "cell_type": "markdown",
   "id": "51c1f885",
   "metadata": {},
   "source": [
    "Make a dictionary from two lists using `zip()`"
   ]
  },
  {
   "cell_type": "code",
   "execution_count": 41,
   "id": "ff1fb914",
   "metadata": {},
   "outputs": [
    {
     "data": {
      "text/plain": [
       "{'Al': 33, 'John': 29, 'Jack': 34}"
      ]
     },
     "execution_count": 41,
     "metadata": {},
     "output_type": "execute_result"
    }
   ],
   "source": [
    "name = [\"Al\", \"John\", \"Jack\"]\n",
    "age = [33,29,34]\n",
    "dict(zip(name, age))"
   ]
  },
  {
   "cell_type": "markdown",
   "id": "059c64f1",
   "metadata": {},
   "source": [
    "Sort dictionaries by keys using `sorted()`"
   ]
  },
  {
   "cell_type": "code",
   "execution_count": 42,
   "id": "46ee4fbe",
   "metadata": {},
   "outputs": [
    {
     "data": {
      "text/plain": [
       "['apples', 'bananas', 'oranges', 'pears']"
      ]
     },
     "execution_count": 42,
     "metadata": {},
     "output_type": "execute_result"
    }
   ],
   "source": [
    "d = {\"apples\": 3, \"pears\": 1, \"oranges\": 5, \"bananas\": 2}\n",
    "sorted(d)"
   ]
  },
  {
   "cell_type": "markdown",
   "id": "58ae8fca",
   "metadata": {},
   "source": [
    "Sort dictionaries by values combining `sorted()` and `.get()`"
   ]
  },
  {
   "cell_type": "code",
   "execution_count": 43,
   "id": "7a3f4147",
   "metadata": {},
   "outputs": [
    {
     "data": {
      "text/plain": [
       "['pears', 'bananas', 'apples', 'oranges']"
      ]
     },
     "execution_count": 43,
     "metadata": {},
     "output_type": "execute_result"
    }
   ],
   "source": [
    "d = {\"apples\": 3, \"pears\": 1, \"oranges\": 5, \"bananas\": 2}\n",
    "sorted(d, key=d.get)"
   ]
  },
  {
   "cell_type": "markdown",
   "id": "03797f51",
   "metadata": {},
   "source": [
    "## Logic"
   ]
  },
  {
   "cell_type": "markdown",
   "id": "705df10b",
   "metadata": {},
   "source": [
    "Negate using `not`"
   ]
  },
  {
   "cell_type": "code",
   "execution_count": 44,
   "id": "94c4937d",
   "metadata": {},
   "outputs": [
    {
     "data": {
      "text/plain": [
       "False"
      ]
     },
     "execution_count": 44,
     "metadata": {},
     "output_type": "execute_result"
    }
   ],
   "source": [
    "not (4 > 2)"
   ]
  },
  {
   "cell_type": "markdown",
   "id": "998f53e9",
   "metadata": {},
   "source": [
    "Conditional assignment"
   ]
  },
  {
   "cell_type": "code",
   "execution_count": 45,
   "id": "9e76d281",
   "metadata": {},
   "outputs": [
    {
     "data": {
      "text/plain": [
       "20"
      ]
     },
     "execution_count": 45,
     "metadata": {},
     "output_type": "execute_result"
    }
   ],
   "source": [
    "x = 10 if (3 > 4) else 20\n",
    "x"
   ]
  },
  {
   "cell_type": "markdown",
   "id": "41983424",
   "metadata": {},
   "source": [
    "Condition inside a print function"
   ]
  },
  {
   "cell_type": "code",
   "execution_count": 46,
   "id": "7e07e13d",
   "metadata": {},
   "outputs": [
    {
     "name": "stdout",
     "output_type": "stream",
     "text": [
      "Negative\n"
     ]
    }
   ],
   "source": [
    "number = -4\n",
    "print(\"Positive\" if number > 0 else \"Negative\") "
   ]
  },
  {
   "cell_type": "markdown",
   "id": "2a196ae2",
   "metadata": {},
   "source": [
    "Condition inside a comprehension"
   ]
  },
  {
   "cell_type": "code",
   "execution_count": 47,
   "id": "81bd46c9",
   "metadata": {},
   "outputs": [
    {
     "data": {
      "text/plain": [
       "[0, 2, 4, 6, 8]"
      ]
     },
     "execution_count": 47,
     "metadata": {},
     "output_type": "execute_result"
    }
   ],
   "source": [
    "[x for x in range(10) if x%2==0]"
   ]
  },
  {
   "cell_type": "markdown",
   "id": "f69165d1",
   "metadata": {},
   "source": [
    "Check if any element of boolean array is true using `any`"
   ]
  },
  {
   "cell_type": "code",
   "execution_count": 48,
   "id": "300cc495",
   "metadata": {},
   "outputs": [
    {
     "data": {
      "text/plain": [
       "True"
      ]
     },
     "execution_count": 48,
     "metadata": {},
     "output_type": "execute_result"
    }
   ],
   "source": [
    "any([1>3, False, False, 3>1])"
   ]
  },
  {
   "cell_type": "markdown",
   "id": "90a687cb",
   "metadata": {},
   "source": [
    "Assign value in a statement using `:=`"
   ]
  },
  {
   "cell_type": "code",
   "execution_count": 49,
   "id": "d30d0389",
   "metadata": {},
   "outputs": [
    {
     "name": "stdout",
     "output_type": "stream",
     "text": [
      "True\n"
     ]
    }
   ],
   "source": [
    "if (n:= 1.2**5 > 2):\n",
    "    print(n)"
   ]
  },
  {
   "cell_type": "markdown",
   "id": "a66543d0",
   "metadata": {},
   "source": [
    "## Variables"
   ]
  },
  {
   "cell_type": "markdown",
   "id": "10457307",
   "metadata": {},
   "source": [
    "Multiple assignment"
   ]
  },
  {
   "cell_type": "code",
   "execution_count": 53,
   "id": "3a59e420",
   "metadata": {},
   "outputs": [
    {
     "name": "stdout",
     "output_type": "stream",
     "text": [
      "1 2\n"
     ]
    }
   ],
   "source": [
    "a, b = [1,2]\n",
    "print(a, b)"
   ]
  },
  {
   "cell_type": "markdown",
   "id": "38ac1a3f",
   "metadata": {},
   "source": [
    "Variable assignment using `*`"
   ]
  },
  {
   "cell_type": "code",
   "execution_count": 54,
   "id": "8d8fe039",
   "metadata": {},
   "outputs": [
    {
     "name": "stdout",
     "output_type": "stream",
     "text": [
      "[2, 3, 4]\n"
     ]
    }
   ],
   "source": [
    "a, *b = [1,2,3,4]\n",
    "print(b)"
   ]
  },
  {
   "cell_type": "markdown",
   "id": "030eda8a",
   "metadata": {},
   "source": [
    "Null variable assignment with `_`"
   ]
  },
  {
   "cell_type": "code",
   "execution_count": 55,
   "id": "1555c297",
   "metadata": {},
   "outputs": [
    {
     "name": "stdout",
     "output_type": "stream",
     "text": [
      "1 3 4\n"
     ]
    }
   ],
   "source": [
    "a, _, c, d = [1,2,3,4]\n",
    "print(a, c, d)"
   ]
  },
  {
   "cell_type": "markdown",
   "id": "1e286f8a",
   "metadata": {},
   "source": [
    "Swap variables"
   ]
  },
  {
   "cell_type": "code",
   "execution_count": 56,
   "id": "846e64eb",
   "metadata": {},
   "outputs": [
    {
     "name": "stdout",
     "output_type": "stream",
     "text": [
      "2 1\n"
     ]
    }
   ],
   "source": [
    "a, b = [1,2]\n",
    "b, a = a, b\n",
    "print(a, b)"
   ]
  },
  {
   "cell_type": "markdown",
   "id": "b9596dc9",
   "metadata": {},
   "source": [
    "Check if a variable exists, in locals or globals"
   ]
  },
  {
   "cell_type": "code",
   "execution_count": 57,
   "id": "2a953bb3",
   "metadata": {},
   "outputs": [
    {
     "name": "stdout",
     "output_type": "stream",
     "text": [
      "False\n",
      "False\n"
     ]
    }
   ],
   "source": [
    "print('weird_variable' in locals())\n",
    "print('weird_variable' in globals())"
   ]
  },
  {
   "cell_type": "markdown",
   "id": "b086bf1b",
   "metadata": {},
   "source": [
    "Check variable type using `type`"
   ]
  },
  {
   "cell_type": "code",
   "execution_count": 58,
   "id": "ba22b7af",
   "metadata": {},
   "outputs": [
    {
     "data": {
      "text/plain": [
       "int"
      ]
     },
     "execution_count": 58,
     "metadata": {},
     "output_type": "execute_result"
    }
   ],
   "source": [
    "type(1)"
   ]
  },
  {
   "cell_type": "markdown",
   "id": "fa065559",
   "metadata": {},
   "source": [
    "Convert string to number using `int` or `float`"
   ]
  },
  {
   "cell_type": "code",
   "execution_count": 59,
   "id": "24289839",
   "metadata": {},
   "outputs": [
    {
     "data": {
      "text/plain": [
       "12.3"
      ]
     },
     "execution_count": 59,
     "metadata": {},
     "output_type": "execute_result"
    }
   ],
   "source": [
    "float(\"12.3\")"
   ]
  },
  {
   "cell_type": "markdown",
   "id": "b6a63a31",
   "metadata": {},
   "source": [
    "Print in the same line using `end=\"\"`"
   ]
  },
  {
   "cell_type": "code",
   "execution_count": 60,
   "id": "5f4ff7f5",
   "metadata": {},
   "outputs": [
    {
     "name": "stdout",
     "output_type": "stream",
     "text": [
      "0123456789"
     ]
    }
   ],
   "source": [
    "for i in range(10):\n",
    "   print(i, end=\"\")"
   ]
  },
  {
   "cell_type": "markdown",
   "id": "04ce8a6b",
   "metadata": {},
   "source": [
    "Overwrite printing using `end=\"\\r\"`"
   ]
  },
  {
   "cell_type": "code",
   "execution_count": 61,
   "id": "0b1a960d",
   "metadata": {},
   "outputs": [
    {
     "name": "stdout",
     "output_type": "stream",
     "text": [
      "0\r",
      "1\r",
      "2\r",
      "3\r",
      "4\r",
      "5\r",
      "6\r",
      "7\r",
      "8\r",
      "9\r"
     ]
    }
   ],
   "source": [
    "for i in range(10):\n",
    "   print(i, end=\"\\r\")"
   ]
  },
  {
   "cell_type": "markdown",
   "id": "192470d0",
   "metadata": {},
   "source": [
    "## Combinations"
   ]
  },
  {
   "cell_type": "markdown",
   "id": "357fdd66",
   "metadata": {},
   "source": [
    "Intersect two strings using `set` and `&`"
   ]
  },
  {
   "cell_type": "code",
   "execution_count": 50,
   "id": "a94d0cf0",
   "metadata": {},
   "outputs": [
    {
     "data": {
      "text/plain": [
       "{'a', 'o'}"
      ]
     },
     "execution_count": 50,
     "metadata": {},
     "output_type": "execute_result"
    }
   ],
   "source": [
    "set(\"ciao\") & set(\"mano\")"
   ]
  },
  {
   "cell_type": "markdown",
   "id": "af0d2153",
   "metadata": {},
   "source": [
    "Get most frequent value using `max` and `count`"
   ]
  },
  {
   "cell_type": "code",
   "execution_count": 90,
   "id": "a9de7756",
   "metadata": {},
   "outputs": [
    {
     "data": {
      "text/plain": [
       "2"
      ]
     },
     "execution_count": 90,
     "metadata": {},
     "output_type": "execute_result"
    }
   ],
   "source": [
    "lst = [2,3,4,5,3,2,2,1]\n",
    "max(lst, key=lst.count)"
   ]
  },
  {
   "cell_type": "markdown",
   "id": "90043ff5",
   "metadata": {},
   "source": [
    "Get argmax using `max` and `zip`"
   ]
  },
  {
   "cell_type": "code",
   "execution_count": 52,
   "id": "50ea6bb4",
   "metadata": {},
   "outputs": [
    {
     "data": {
      "text/plain": [
       "4"
      ]
     },
     "execution_count": 52,
     "metadata": {},
     "output_type": "execute_result"
    }
   ],
   "source": [
    "numbers = [12, 34, 22, 1, 90, 34]\n",
    "max(zip(numbers, range(len(numbers))))[1]"
   ]
  },
  {
   "cell_type": "markdown",
   "id": "96129c81",
   "metadata": {},
   "source": [
    "Find index of nth element in list that satisfies condition using `enumerate` and comprehensions"
   ]
  },
  {
   "cell_type": "code",
   "execution_count": 99,
   "id": "58381b4f",
   "metadata": {},
   "outputs": [
    {
     "data": {
      "text/plain": [
       "2"
      ]
     },
     "execution_count": 99,
     "metadata": {},
     "output_type": "execute_result"
    }
   ],
   "source": [
    "todos = ['eat', 'work', 'sleep', 'repeat']\n",
    "[i for i,l in enumerate(todos) if len(l)>4][0]"
   ]
  },
  {
   "cell_type": "markdown",
   "id": "e31e1ea3",
   "metadata": {},
   "source": [
    "Sort a dictionary using `sorted` and a lambda function"
   ]
  },
  {
   "cell_type": "code",
   "execution_count": 5,
   "id": "934e296c",
   "metadata": {},
   "outputs": [
    {
     "data": {
      "text/plain": [
       "{'pears': 1, 'bananas': 2, 'apples': 3, 'oranges': 5}"
      ]
     },
     "execution_count": 5,
     "metadata": {},
     "output_type": "execute_result"
    }
   ],
   "source": [
    "d = {\"apples\": 3, \"pears\": 1, \"oranges\": 5, \"bananas\": 2}\n",
    "dict(sorted(d.items(), key=lambda item: item[1]))"
   ]
  },
  {
   "cell_type": "markdown",
   "id": "5b6b67c3",
   "metadata": {},
   "source": [
    "## Sources"
   ]
  },
  {
   "cell_type": "markdown",
   "id": "0d4a295d",
   "metadata": {},
   "source": [
    "- https://sahandsaba.com/thirty-python-language-features-and-tricks-you-may-not-know.html\n",
    "- https://towardsdatascience.com/100-helpful-python-tips-you-can-learn-before-finishing-your-morning-coffee-eb9c39e68958"
   ]
  }
 ],
 "metadata": {
  "@webio": {
   "lastCommId": null,
   "lastKernelId": null
  },
  "kernelspec": {
   "display_name": "Python (conda)",
   "language": "python",
   "name": "base"
  },
  "language_info": {
   "codemirror_mode": {
    "name": "ipython",
    "version": 3
   },
   "file_extension": ".py",
   "mimetype": "text/x-python",
   "name": "python",
   "nbconvert_exporter": "python",
   "pygments_lexer": "ipython3",
   "version": "3.9.7"
  },
  "toc": {
   "base_numbering": 1,
   "nav_menu": {},
   "number_sections": false,
   "sideBar": true,
   "skip_h1_title": true,
   "title_cell": "Table of Contents",
   "title_sidebar": "Contents",
   "toc_cell": false,
   "toc_position": {
    "height": "calc(100% - 180px)",
    "left": "10px",
    "top": "150px",
    "width": "288px"
   },
   "toc_section_display": true,
   "toc_window_display": true
  },
  "varInspector": {
   "cols": {
    "lenName": 16,
    "lenType": 16,
    "lenVar": 40
   },
   "kernels_config": {
    "python": {
     "delete_cmd_postfix": "",
     "delete_cmd_prefix": "del ",
     "library": "var_list.py",
     "varRefreshCmd": "print(var_dic_list())"
    },
    "r": {
     "delete_cmd_postfix": ") ",
     "delete_cmd_prefix": "rm(",
     "library": "var_list.r",
     "varRefreshCmd": "cat(var_dic_list()) "
    }
   },
   "types_to_exclude": [
    "module",
    "function",
    "builtin_function_or_method",
    "instance",
    "_Feature"
   ],
   "window_display": false
  }
 },
 "nbformat": 4,
 "nbformat_minor": 5
}
