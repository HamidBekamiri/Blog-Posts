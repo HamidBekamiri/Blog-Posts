{
 "cells": [
  {
   "cell_type": "markdown",
   "id": "68a78d89",
   "metadata": {},
   "source": [
    "# 100 Basic Python Tricks"
   ]
  },
  {
   "cell_type": "markdown",
   "id": "b823f446",
   "metadata": {},
   "source": [
    "Here is a list of not-obvious tips and tricks you can do in basic Python. No libriaries involved!"
   ]
  },
  {
   "cell_type": "markdown",
   "id": "fe06689d",
   "metadata": {},
   "source": [
    "## Numbers"
   ]
  },
  {
   "cell_type": "markdown",
   "id": "f5d377f4",
   "metadata": {},
   "source": [
    "Separate big numbers with `_` for readability"
   ]
  },
  {
   "cell_type": "code",
   "execution_count": 104,
   "id": "6aa503e1",
   "metadata": {},
   "outputs": [
    {
     "data": {
      "text/plain": [
       "2438930"
      ]
     },
     "execution_count": 104,
     "metadata": {},
     "output_type": "execute_result"
    }
   ],
   "source": [
    "2_438_930"
   ]
  },
  {
   "cell_type": "markdown",
   "id": "6d72461d",
   "metadata": {},
   "source": [
    "Do floor division using `//`"
   ]
  },
  {
   "cell_type": "code",
   "execution_count": 2,
   "id": "3bf59397",
   "metadata": {},
   "outputs": [
    {
     "data": {
      "text/plain": [
       "2"
      ]
     },
     "execution_count": 2,
     "metadata": {},
     "output_type": "execute_result"
    }
   ],
   "source": [
    "8 // 3"
   ]
  },
  {
   "cell_type": "markdown",
   "id": "547d21a7",
   "metadata": {},
   "source": [
    "Get division remainder using `%`"
   ]
  },
  {
   "cell_type": "code",
   "execution_count": 1,
   "id": "028ecb4c",
   "metadata": {},
   "outputs": [
    {
     "data": {
      "text/plain": [
       "2"
      ]
     },
     "execution_count": 1,
     "metadata": {},
     "output_type": "execute_result"
    }
   ],
   "source": [
    "8 % 3"
   ]
  },
  {
   "cell_type": "markdown",
   "id": "c2b5b4ea",
   "metadata": {},
   "source": [
    "Perform `floor(n / 2 ** n)` using `>>`"
   ]
  },
  {
   "cell_type": "code",
   "execution_count": 167,
   "id": "67c169d3",
   "metadata": {},
   "outputs": [
    {
     "data": {
      "text/plain": [
       "4"
      ]
     },
     "execution_count": 167,
     "metadata": {},
     "output_type": "execute_result"
    }
   ],
   "source": [
    "18 >> 2"
   ]
  },
  {
   "cell_type": "markdown",
   "id": "a0a4ab78",
   "metadata": {},
   "source": [
    "You can chain operators. The most satisfying one is `< x <`"
   ]
  },
  {
   "cell_type": "code",
   "execution_count": 175,
   "id": "7577c646",
   "metadata": {},
   "outputs": [
    {
     "data": {
      "text/plain": [
       "True"
      ]
     },
     "execution_count": 175,
     "metadata": {},
     "output_type": "execute_result"
    }
   ],
   "source": [
    "x = 3\n",
    "0 < x < 4"
   ]
  },
  {
   "cell_type": "markdown",
   "id": "d8f336b1",
   "metadata": {},
   "source": [
    "## Strings"
   ]
  },
  {
   "cell_type": "markdown",
   "id": "4335f701",
   "metadata": {},
   "source": [
    "Multiply strings using `*`"
   ]
  },
  {
   "cell_type": "code",
   "execution_count": 7,
   "id": "97f40562",
   "metadata": {},
   "outputs": [
    {
     "data": {
      "text/plain": [
       "'ciaociaociao'"
      ]
     },
     "execution_count": 7,
     "metadata": {},
     "output_type": "execute_result"
    }
   ],
   "source": [
    "\"ciao\" * 3"
   ]
  },
  {
   "cell_type": "markdown",
   "id": "262fc1c2",
   "metadata": {},
   "source": [
    "Concatenate strings using `+`"
   ]
  },
  {
   "cell_type": "code",
   "execution_count": 112,
   "id": "20cc3748",
   "metadata": {},
   "outputs": [
    {
     "data": {
      "text/plain": [
       "'Hi, my name is Matteo'"
      ]
     },
     "execution_count": 112,
     "metadata": {},
     "output_type": "execute_result"
    }
   ],
   "source": [
    "\"Hi,\" + \" my name is \" + \"Matteo\""
   ]
  },
  {
   "cell_type": "markdown",
   "id": "e53997cf",
   "metadata": {},
   "source": [
    "Insert variables in strings using Fstrings"
   ]
  },
  {
   "cell_type": "code",
   "execution_count": 107,
   "id": "611618a4",
   "metadata": {},
   "outputs": [
    {
     "data": {
      "text/plain": [
       "'My name is Matteo and my age is 21.'"
      ]
     },
     "execution_count": 107,
     "metadata": {},
     "output_type": "execute_result"
    }
   ],
   "source": [
    "name = \"Matteo\"\n",
    "age = 21\n",
    "f\"My name is {name} and my age is {age}.\""
   ]
  },
  {
   "cell_type": "markdown",
   "id": "ed681fa4",
   "metadata": {},
   "source": [
    "Insert and format variables in strings using Fstrings"
   ]
  },
  {
   "cell_type": "code",
   "execution_count": 222,
   "id": "71d6aaef",
   "metadata": {},
   "outputs": [
    {
     "data": {
      "text/plain": [
       "'This is a rounded number: 12.35'"
      ]
     },
     "execution_count": 222,
     "metadata": {},
     "output_type": "execute_result"
    }
   ],
   "source": [
    "f\"This is a rounded number: {12.3492:.2f}\""
   ]
  },
  {
   "cell_type": "markdown",
   "id": "3e822a96",
   "metadata": {},
   "source": [
    "Make multi-line strings with triple quotes"
   ]
  },
  {
   "cell_type": "code",
   "execution_count": 224,
   "id": "9bf294ef",
   "metadata": {},
   "outputs": [
    {
     "name": "stdout",
     "output_type": "stream",
     "text": [
      "This\n",
      "is \n",
      "not \n",
      "an haiku\n"
     ]
    }
   ],
   "source": [
    "ml_string = \"\"\"This\n",
    "is \n",
    "not \n",
    "an haiku\"\"\"\n",
    "print(ml_string)"
   ]
  },
  {
   "cell_type": "markdown",
   "id": "71909d96",
   "metadata": {},
   "source": [
    "Check alphabetical order using `>`"
   ]
  },
  {
   "cell_type": "code",
   "execution_count": 119,
   "id": "ae3c1a91",
   "metadata": {},
   "outputs": [
    {
     "data": {
      "text/plain": [
       "True"
      ]
     },
     "execution_count": 119,
     "metadata": {},
     "output_type": "execute_result"
    }
   ],
   "source": [
    "\"pizza\" > \"pasta\""
   ]
  },
  {
   "cell_type": "markdown",
   "id": "2d43d97e",
   "metadata": {},
   "source": [
    "Search substring occurrences using `in`"
   ]
  },
  {
   "cell_type": "code",
   "execution_count": 217,
   "id": "e4185f1f",
   "metadata": {},
   "outputs": [
    {
     "data": {
      "text/plain": [
       "True"
      ]
     },
     "execution_count": 217,
     "metadata": {},
     "output_type": "execute_result"
    }
   ],
   "source": [
    "\"Ben\" in \"Is Ben here?\""
   ]
  },
  {
   "cell_type": "markdown",
   "id": "1739a4ac",
   "metadata": {},
   "source": [
    "Find position of substring in string with `find()`"
   ]
  },
  {
   "cell_type": "code",
   "execution_count": 125,
   "id": "c2c7d999",
   "metadata": {},
   "outputs": [
    {
     "data": {
      "text/plain": [
       "9"
      ]
     },
     "execution_count": 125,
     "metadata": {},
     "output_type": "execute_result"
    }
   ],
   "source": [
    "\"Where is Ben in this sentence?\".find(\"Ben\")"
   ]
  },
  {
   "cell_type": "markdown",
   "id": "f706aef8",
   "metadata": {},
   "source": [
    "Replace parts of a string using `.replace()`"
   ]
  },
  {
   "cell_type": "code",
   "execution_count": 139,
   "id": "c8c46cf0",
   "metadata": {},
   "outputs": [
    {
     "data": {
      "text/plain": [
       "\"LOMGt's rOMGplacOMG OMG with OMG\""
      ]
     },
     "execution_count": 139,
     "metadata": {},
     "output_type": "execute_result"
    }
   ],
   "source": [
    "\"Let's replace e with OMG\".replace(\"e\", \"OMG\")"
   ]
  },
  {
   "cell_type": "markdown",
   "id": "945770b5",
   "metadata": {},
   "source": [
    "We can play with cases using `.lower()`, `.upper()`, `.capitalize()` and `.swapcase()`"
   ]
  },
  {
   "cell_type": "code",
   "execution_count": 143,
   "id": "8c752575",
   "metadata": {},
   "outputs": [
    {
     "name": "stdout",
     "output_type": "stream",
     "text": [
      "hello! my name is matteo.\n",
      "HELLO! MY NAME IS MATTEO.\n",
      "Hello! my name is matteo.\n",
      "hELLO! mY NAME IS mATTEO.\n"
     ]
    }
   ],
   "source": [
    "s = 'Hello! My name is Matteo.'\n",
    "print(s.lower())\n",
    "print(s.upper())\n",
    "print(s.capitalize())\n",
    "print(s.swapcase())"
   ]
  },
  {
   "cell_type": "markdown",
   "id": "38796fe5",
   "metadata": {},
   "source": [
    "Remove leading and trailing spaces using `strip()`"
   ]
  },
  {
   "cell_type": "code",
   "execution_count": 123,
   "id": "de63394c",
   "metadata": {},
   "outputs": [
    {
     "data": {
      "text/plain": [
       "'Oh some text!'"
      ]
     },
     "execution_count": 123,
     "metadata": {},
     "output_type": "execute_result"
    }
   ],
   "source": [
    "\"   Oh some text!    \".strip()"
   ]
  },
  {
   "cell_type": "markdown",
   "id": "9161d0a1",
   "metadata": {},
   "source": [
    "Join array of string"
   ]
  },
  {
   "cell_type": "code",
   "execution_count": 177,
   "id": "e4ec324d",
   "metadata": {},
   "outputs": [
    {
     "data": {
      "text/plain": [
       "'Milan, Turin, Rome, Naples'"
      ]
     },
     "execution_count": 177,
     "metadata": {},
     "output_type": "execute_result"
    }
   ],
   "source": [
    "cities = [\"Milan\", \"Turin\", \"Rome\", \"Naples\"]\n",
    "\", \".join(cities)"
   ]
  },
  {
   "cell_type": "markdown",
   "id": "dd87474a",
   "metadata": {},
   "source": [
    "Split a string into a list using `.split()`"
   ]
  },
  {
   "cell_type": "code",
   "execution_count": 178,
   "id": "296d3034",
   "metadata": {},
   "outputs": [
    {
     "data": {
      "text/plain": [
       "['List', 'of', 'words', 'from', 'sentence']"
      ]
     },
     "execution_count": 178,
     "metadata": {},
     "output_type": "execute_result"
    }
   ],
   "source": [
    "\"List of words from sentence\".split(\" \")"
   ]
  },
  {
   "cell_type": "markdown",
   "id": "3c68a39e",
   "metadata": {},
   "source": [
    "## Lists"
   ]
  },
  {
   "cell_type": "markdown",
   "id": "cdcddbac",
   "metadata": {},
   "source": [
    "Slice elements of a list using `beginning:end`"
   ]
  },
  {
   "cell_type": "code",
   "execution_count": 190,
   "id": "f5ed28d3",
   "metadata": {},
   "outputs": [
    {
     "data": {
      "text/plain": [
       "['d', 'e']"
      ]
     },
     "execution_count": 190,
     "metadata": {},
     "output_type": "execute_result"
    }
   ],
   "source": [
    "lst = [\"a\", \"b\", \"c\", \"d\", \"e\", \"f\"]\n",
    "lst[3:5]"
   ]
  },
  {
   "cell_type": "markdown",
   "id": "98f2929e",
   "metadata": {},
   "source": [
    "Slice elements of a list with a step using `beginning:end:step`"
   ]
  },
  {
   "cell_type": "code",
   "execution_count": 195,
   "id": "4b188475",
   "metadata": {},
   "outputs": [
    {
     "data": {
      "text/plain": [
       "['b', 'd', 'f']"
      ]
     },
     "execution_count": 195,
     "metadata": {},
     "output_type": "execute_result"
    }
   ],
   "source": [
    "lst = [\"a\", \"b\", \"c\", \"d\", \"e\", \"f\"]\n",
    "lst[1:6:2]"
   ]
  },
  {
   "cell_type": "markdown",
   "id": "82839816",
   "metadata": {},
   "source": [
    "Append lists using `+`"
   ]
  },
  {
   "cell_type": "code",
   "execution_count": 105,
   "id": "2008bae5",
   "metadata": {},
   "outputs": [
    {
     "data": {
      "text/plain": [
       "[1, 2, 3, 4, 5, 6]"
      ]
     },
     "execution_count": 105,
     "metadata": {},
     "output_type": "execute_result"
    }
   ],
   "source": [
    "[1,2,3] + [4] + [5,6]"
   ]
  },
  {
   "cell_type": "markdown",
   "id": "df86d2ad",
   "metadata": {},
   "source": [
    "Select elements starting from the end using negative indexes"
   ]
  },
  {
   "cell_type": "code",
   "execution_count": 124,
   "id": "21eb4ac7",
   "metadata": {},
   "outputs": [
    {
     "data": {
      "text/plain": [
       "4"
      ]
     },
     "execution_count": 124,
     "metadata": {},
     "output_type": "execute_result"
    }
   ],
   "source": [
    "a = [1,2,3,4,5]\n",
    "a[-2]"
   ]
  },
  {
   "cell_type": "markdown",
   "id": "18846baf",
   "metadata": {},
   "source": [
    "Reverse a list using `::-1`"
   ]
  },
  {
   "cell_type": "code",
   "execution_count": 4,
   "id": "3c99a931",
   "metadata": {},
   "outputs": [
    {
     "data": {
      "text/plain": [
       "[5, 4, 3, 2, 1]"
      ]
     },
     "execution_count": 4,
     "metadata": {},
     "output_type": "execute_result"
    }
   ],
   "source": [
    "a = [1,2,3,4,5]\n",
    "a[::-1]"
   ]
  },
  {
   "cell_type": "markdown",
   "id": "3600f0f5",
   "metadata": {},
   "source": [
    "List comprehensions"
   ]
  },
  {
   "cell_type": "code",
   "execution_count": 5,
   "id": "a454151c",
   "metadata": {},
   "outputs": [
    {
     "data": {
      "text/plain": [
       "[1, 2, 3, 4]"
      ]
     },
     "execution_count": 5,
     "metadata": {},
     "output_type": "execute_result"
    }
   ],
   "source": [
    "[x+1 for x in range(4)]"
   ]
  },
  {
   "cell_type": "markdown",
   "id": "d796e9a1",
   "metadata": {},
   "source": [
    "Loop over items and index with `enumerate`"
   ]
  },
  {
   "cell_type": "code",
   "execution_count": 35,
   "id": "372312be",
   "metadata": {},
   "outputs": [
    {
     "name": "stdout",
     "output_type": "stream",
     "text": [
      "Element 0 is ciao\n",
      "Element 1 is hi\n"
     ]
    }
   ],
   "source": [
    "for key, value in enumerate([\"ciao\", \"hi\"]):\n",
    "    print(\"Element\", key, \"is\", value)"
   ]
  },
  {
   "cell_type": "markdown",
   "id": "b60cad6e",
   "metadata": {},
   "source": [
    "Use zip to loop over multiple arrays"
   ]
  },
  {
   "cell_type": "code",
   "execution_count": 41,
   "id": "38b8bb04",
   "metadata": {},
   "outputs": [
    {
     "name": "stdout",
     "output_type": "stream",
     "text": [
      "annie is 14 years old\n",
      "bern is 3 years old\n",
      "carl is 5 years old\n"
     ]
    }
   ],
   "source": [
    "names = [\"annie\", \"bern\", \"carl\"]\n",
    "ages = [14, 3, 5]\n",
    "for n,a in zip(names, ages):\n",
    "    print(n, \"is\", a, \"years old\")"
   ]
  },
  {
   "cell_type": "markdown",
   "id": "90dfa113",
   "metadata": {},
   "source": [
    "## Sets"
   ]
  },
  {
   "cell_type": "markdown",
   "id": "70d877b7",
   "metadata": {},
   "source": [
    "Ordered unique values of a list using `set`"
   ]
  },
  {
   "cell_type": "code",
   "execution_count": 6,
   "id": "8b1212bb",
   "metadata": {},
   "outputs": [
    {
     "data": {
      "text/plain": [
       "{2, 3, 4, 5}"
      ]
     },
     "execution_count": 6,
     "metadata": {},
     "output_type": "execute_result"
    }
   ],
   "source": [
    "a = [2,3,2,3,4,5]\n",
    "set(a)"
   ]
  },
  {
   "cell_type": "markdown",
   "id": "ab9a829f",
   "metadata": {},
   "source": []
  },
  {
   "cell_type": "code",
   "execution_count": null,
   "id": "a59076cc",
   "metadata": {},
   "outputs": [],
   "source": []
  },
  {
   "cell_type": "markdown",
   "id": "54dc1292",
   "metadata": {},
   "source": [
    "Use `sort()` to sort \"inplace\" and `sorted()` to generate a new list"
   ]
  },
  {
   "cell_type": "code",
   "execution_count": 138,
   "id": "08b38eae",
   "metadata": {},
   "outputs": [
    {
     "data": {
      "text/plain": [
       "[-9, 0, 1, 4]"
      ]
     },
     "execution_count": 138,
     "metadata": {},
     "output_type": "execute_result"
    }
   ],
   "source": [
    "sorted([4,1,-9,0])"
   ]
  },
  {
   "cell_type": "markdown",
   "id": "16e0fbc8",
   "metadata": {},
   "source": [
    "## Dictionaries"
   ]
  },
  {
   "cell_type": "markdown",
   "id": "00d9307c",
   "metadata": {},
   "source": [
    "Generate dictionaries using comprehensions"
   ]
  },
  {
   "cell_type": "code",
   "execution_count": 206,
   "id": "bf72f0e7",
   "metadata": {},
   "outputs": [
    {
     "data": {
      "text/plain": [
       "{'Squared of 0': 0,\n",
       " 'Squared of 1': 1,\n",
       " 'Squared of 2': 4,\n",
       " 'Squared of 3': 9,\n",
       " 'Squared of 4': 16}"
      ]
     },
     "execution_count": 206,
     "metadata": {},
     "output_type": "execute_result"
    }
   ],
   "source": [
    "{f\"Squared of {x}\": x**2 for x in range(5)}"
   ]
  },
  {
   "cell_type": "markdown",
   "id": "d50eebeb",
   "metadata": {},
   "source": [
    "Iterate over both keys and values using `.items()`"
   ]
  },
  {
   "cell_type": "code",
   "execution_count": 201,
   "id": "a2f4842d",
   "metadata": {},
   "outputs": [
    {
     "name": "stdout",
     "output_type": "stream",
     "text": [
      "I have 3 apples\n",
      "I have 1 pears\n",
      "I have 5 oranges\n"
     ]
    }
   ],
   "source": [
    "d = {\"apples\": 3, \"pears\": 1, \"oranges\": 5}\n",
    "for key, value in d.items():\n",
    "    print(f\"I have {value} {key}\")"
   ]
  },
  {
   "cell_type": "markdown",
   "id": "98fbb1eb",
   "metadata": {},
   "source": [
    "`get` function to avoid if/else with dictionaries"
   ]
  },
  {
   "cell_type": "code",
   "execution_count": 87,
   "id": "93c41192",
   "metadata": {},
   "outputs": [
    {
     "data": {
      "text/plain": [
       "0"
      ]
     },
     "execution_count": 87,
     "metadata": {},
     "output_type": "execute_result"
    }
   ],
   "source": [
    "d = {\"apples\": 3, \"pears\": 1, \"oranges\": 5}\n",
    "d.get(\"bananas\", 0)"
   ]
  },
  {
   "cell_type": "markdown",
   "id": "8424b00a",
   "metadata": {},
   "source": [
    "Merge dictionaries using `|`"
   ]
  },
  {
   "cell_type": "code",
   "execution_count": 146,
   "id": "ba19e0d3",
   "metadata": {},
   "outputs": [
    {
     "data": {
      "text/plain": [
       "{'name': 'Matteo', 'age': 22, 'male': True}"
      ]
     },
     "execution_count": 146,
     "metadata": {},
     "output_type": "execute_result"
    }
   ],
   "source": [
    "some_info = {\"name\": \"Matteo\", \"age\": 22}\n",
    "more_info = {\"name\": \"Matteo\", \"male\": True}\n",
    "some_info | more_info"
   ]
  },
  {
   "cell_type": "markdown",
   "id": "de5aa8ef",
   "metadata": {},
   "source": [
    "Find index of element in list/tuple using `index`"
   ]
  },
  {
   "cell_type": "code",
   "execution_count": 97,
   "id": "a4eedc69",
   "metadata": {},
   "outputs": [
    {
     "data": {
      "text/plain": [
       "1"
      ]
     },
     "execution_count": 97,
     "metadata": {},
     "output_type": "execute_result"
    }
   ],
   "source": [
    "[\"sole\", \"cuore\", \"amore\"].index(\"cuore\")"
   ]
  },
  {
   "cell_type": "markdown",
   "id": "2a1f1aa1",
   "metadata": {},
   "source": [
    "Count elements that satisfy a condition using `.count()`"
   ]
  },
  {
   "cell_type": "code",
   "execution_count": 127,
   "id": "648113aa",
   "metadata": {},
   "outputs": [
    {
     "data": {
      "text/plain": [
       "2"
      ]
     },
     "execution_count": 127,
     "metadata": {},
     "output_type": "execute_result"
    }
   ],
   "source": [
    "[\"a\", \"l\", \"l\", \"i\", \"g\", \"a\", \"t\", \"o\", \"r\"].count(\"a\")"
   ]
  },
  {
   "cell_type": "markdown",
   "id": "51c1f885",
   "metadata": {},
   "source": [
    "Make a dictionary from two lists using `zip()`"
   ]
  },
  {
   "cell_type": "code",
   "execution_count": 147,
   "id": "ff1fb914",
   "metadata": {},
   "outputs": [
    {
     "data": {
      "text/plain": [
       "{'Al': 33, 'John': 29, 'Jack': 34}"
      ]
     },
     "execution_count": 147,
     "metadata": {},
     "output_type": "execute_result"
    }
   ],
   "source": [
    "name = [\"Al\", \"John\", \"Jack\"]\n",
    "age = [33,29,34]\n",
    "dict(zip(name, age))"
   ]
  },
  {
   "cell_type": "markdown",
   "id": "03797f51",
   "metadata": {},
   "source": [
    "## Logic"
   ]
  },
  {
   "cell_type": "markdown",
   "id": "705df10b",
   "metadata": {},
   "source": [
    "Negate using `not`"
   ]
  },
  {
   "cell_type": "code",
   "execution_count": 103,
   "id": "94c4937d",
   "metadata": {},
   "outputs": [
    {
     "data": {
      "text/plain": [
       "False"
      ]
     },
     "execution_count": 103,
     "metadata": {},
     "output_type": "execute_result"
    }
   ],
   "source": [
    "not (4 > 2)"
   ]
  },
  {
   "cell_type": "markdown",
   "id": "998f53e9",
   "metadata": {},
   "source": [
    "Conditional assignment"
   ]
  },
  {
   "cell_type": "code",
   "execution_count": 108,
   "id": "9e76d281",
   "metadata": {},
   "outputs": [
    {
     "data": {
      "text/plain": [
       "20"
      ]
     },
     "execution_count": 108,
     "metadata": {},
     "output_type": "execute_result"
    }
   ],
   "source": [
    "x = 10 if (3 > 4) else 20\n",
    "x"
   ]
  },
  {
   "cell_type": "markdown",
   "id": "41983424",
   "metadata": {},
   "source": [
    "Condition inside a print function"
   ]
  },
  {
   "cell_type": "code",
   "execution_count": 130,
   "id": "7e07e13d",
   "metadata": {},
   "outputs": [
    {
     "name": "stdout",
     "output_type": "stream",
     "text": [
      "Negative\n"
     ]
    }
   ],
   "source": [
    "number = -4\n",
    "print(\"Positive\" if number > 0 else \"Negative\") "
   ]
  },
  {
   "cell_type": "markdown",
   "id": "2a196ae2",
   "metadata": {},
   "source": [
    "Condition inside a comprehension"
   ]
  },
  {
   "cell_type": "code",
   "execution_count": 131,
   "id": "81bd46c9",
   "metadata": {},
   "outputs": [
    {
     "data": {
      "text/plain": [
       "[0, 2, 4, 6, 8]"
      ]
     },
     "execution_count": 131,
     "metadata": {},
     "output_type": "execute_result"
    }
   ],
   "source": [
    "[x for x in range(10) if x%2==0]"
   ]
  },
  {
   "cell_type": "markdown",
   "id": "f69165d1",
   "metadata": {},
   "source": [
    "Check if any element of boolean array is true using `any`"
   ]
  },
  {
   "cell_type": "code",
   "execution_count": 134,
   "id": "300cc495",
   "metadata": {},
   "outputs": [
    {
     "data": {
      "text/plain": [
       "True"
      ]
     },
     "execution_count": 134,
     "metadata": {},
     "output_type": "execute_result"
    }
   ],
   "source": [
    "any([1>3, False, False, 3>1])"
   ]
  },
  {
   "cell_type": "markdown",
   "id": "90a687cb",
   "metadata": {},
   "source": [
    "Assign value in a statement using `:=`"
   ]
  },
  {
   "cell_type": "code",
   "execution_count": 173,
   "id": "d30d0389",
   "metadata": {},
   "outputs": [
    {
     "name": "stdout",
     "output_type": "stream",
     "text": [
      "True\n"
     ]
    }
   ],
   "source": [
    "if (n:= 1.2**5 > 2):\n",
    "    print(n)"
   ]
  },
  {
   "cell_type": "markdown",
   "id": "93e9358b",
   "metadata": {},
   "source": [
    "## Lambdas"
   ]
  },
  {
   "cell_type": "markdown",
   "id": "3dfdace6",
   "metadata": {},
   "source": [
    "Use lambdas for non-trivial sorting"
   ]
  },
  {
   "cell_type": "code",
   "execution_count": 73,
   "id": "9e0a7247",
   "metadata": {},
   "outputs": [
    {
     "data": {
      "text/plain": [
       "[[7, 3], [2, 7], [8, 7], [9, 7], [3, 8], [4, 9]]"
      ]
     },
     "execution_count": 73,
     "metadata": {},
     "output_type": "execute_result"
    }
   ],
   "source": [
    "lst = [[2, 7], [7, 3], [3, 8], [8, 7], [9, 7], [4, 9]]\n",
    "lst.sort(key = lambda inner:inner[1])\n",
    "lst"
   ]
  },
  {
   "cell_type": "markdown",
   "id": "c3f01e3b",
   "metadata": {},
   "source": [
    "## Other"
   ]
  },
  {
   "cell_type": "markdown",
   "id": "99cf6228",
   "metadata": {},
   "source": [
    "Multiple assignment"
   ]
  },
  {
   "cell_type": "code",
   "execution_count": 38,
   "id": "520a9e7b",
   "metadata": {},
   "outputs": [
    {
     "name": "stdout",
     "output_type": "stream",
     "text": [
      "1 2\n"
     ]
    }
   ],
   "source": [
    "a, b = [1,2]\n",
    "print(a, b)"
   ]
  },
  {
   "cell_type": "markdown",
   "id": "f9371301",
   "metadata": {},
   "source": [
    "Variable assignment using `*`"
   ]
  },
  {
   "cell_type": "code",
   "execution_count": 179,
   "id": "f3edaee6",
   "metadata": {},
   "outputs": [
    {
     "name": "stdout",
     "output_type": "stream",
     "text": [
      "[2, 3, 4]\n"
     ]
    }
   ],
   "source": [
    "a, *b = [1,2,3,4]\n",
    "print(b)"
   ]
  },
  {
   "cell_type": "markdown",
   "id": "d3784015",
   "metadata": {},
   "source": [
    "Null variable assignment with `_`"
   ]
  },
  {
   "cell_type": "code",
   "execution_count": 156,
   "id": "e16c19e0",
   "metadata": {},
   "outputs": [
    {
     "name": "stdout",
     "output_type": "stream",
     "text": [
      "1 3 4\n"
     ]
    }
   ],
   "source": [
    "a, _, c, d = [1,2,3,4]\n",
    "print(a, c, d)"
   ]
  },
  {
   "cell_type": "markdown",
   "id": "f4abd4ee",
   "metadata": {},
   "source": [
    "Check if a variable exists, in locals or globals"
   ]
  },
  {
   "cell_type": "code",
   "execution_count": 158,
   "id": "4cadbd8d",
   "metadata": {},
   "outputs": [
    {
     "name": "stdout",
     "output_type": "stream",
     "text": [
      "False\n",
      "False\n"
     ]
    }
   ],
   "source": [
    "print('weird_variable' in locals())\n",
    "print('weird_variable' in globals())"
   ]
  },
  {
   "cell_type": "markdown",
   "id": "5da4c363",
   "metadata": {},
   "source": [
    "Check variable type using `type`"
   ]
  },
  {
   "cell_type": "code",
   "execution_count": 159,
   "id": "9e78bbd7",
   "metadata": {},
   "outputs": [
    {
     "data": {
      "text/plain": [
       "int"
      ]
     },
     "execution_count": 159,
     "metadata": {},
     "output_type": "execute_result"
    }
   ],
   "source": [
    "type(1)"
   ]
  },
  {
   "cell_type": "markdown",
   "id": "3f563baf",
   "metadata": {},
   "source": [
    "Get most frequent value using `set` and `count`"
   ]
  },
  {
   "cell_type": "code",
   "execution_count": 182,
   "id": "8fdea9b2",
   "metadata": {},
   "outputs": [
    {
     "name": "stdout",
     "output_type": "stream",
     "text": [
      "2\n"
     ]
    }
   ],
   "source": [
    "lst = [2,3,4,5,3,2,2,1]\n",
    "print(max(set(lst), key=lst.count))"
   ]
  },
  {
   "cell_type": "markdown",
   "id": "44ce8cf2",
   "metadata": {},
   "source": [
    "Convert string to number using `int` or `float`"
   ]
  },
  {
   "cell_type": "code",
   "execution_count": 188,
   "id": "8b8c55ae",
   "metadata": {},
   "outputs": [
    {
     "data": {
      "text/plain": [
       "12.3"
      ]
     },
     "execution_count": 188,
     "metadata": {},
     "output_type": "execute_result"
    }
   ],
   "source": [
    "float(\"12.3\")"
   ]
  },
  {
   "cell_type": "markdown",
   "id": "3d0b90b6",
   "metadata": {},
   "source": [
    "## Combinations"
   ]
  },
  {
   "cell_type": "markdown",
   "id": "f6189321",
   "metadata": {},
   "source": [
    "You can the intersection of two strings using `set` and `&`"
   ]
  },
  {
   "cell_type": "code",
   "execution_count": 215,
   "id": "56fa4102",
   "metadata": {},
   "outputs": [
    {
     "data": {
      "text/plain": [
       "{'a', 'o'}"
      ]
     },
     "execution_count": 215,
     "metadata": {},
     "output_type": "execute_result"
    }
   ],
   "source": [
    "set(\"ciao\") & set(\"mano\")"
   ]
  },
  {
   "cell_type": "markdown",
   "id": "5b6b67c3",
   "metadata": {},
   "source": [
    "## Sources"
   ]
  },
  {
   "cell_type": "markdown",
   "id": "0d4a295d",
   "metadata": {},
   "source": [
    "- https://sahandsaba.com/thirty-python-language-features-and-tricks-you-may-not-know.html\n",
    "- https://towardsdatascience.com/100-helpful-python-tips-you-can-learn-before-finishing-your-morning-coffee-eb9c39e68958"
   ]
  }
 ],
 "metadata": {
  "kernelspec": {
   "display_name": "Python (conda)",
   "language": "python",
   "name": "base"
  },
  "language_info": {
   "codemirror_mode": {
    "name": "ipython",
    "version": 3
   },
   "file_extension": ".py",
   "mimetype": "text/x-python",
   "name": "python",
   "nbconvert_exporter": "python",
   "pygments_lexer": "ipython3",
   "version": "3.9.7"
  },
  "toc": {
   "base_numbering": 1,
   "nav_menu": {},
   "number_sections": false,
   "sideBar": true,
   "skip_h1_title": true,
   "title_cell": "Table of Contents",
   "title_sidebar": "Contents",
   "toc_cell": false,
   "toc_position": {
    "height": "calc(100% - 180px)",
    "left": "10px",
    "top": "150px",
    "width": "288px"
   },
   "toc_section_display": true,
   "toc_window_display": true
  }
 },
 "nbformat": 4,
 "nbformat_minor": 5
}
