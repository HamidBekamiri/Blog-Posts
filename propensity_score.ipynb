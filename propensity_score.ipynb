{
 "cells": [
  {
   "cell_type": "markdown",
   "id": "a7c475a0",
   "metadata": {},
   "source": [
    "# Propensity Score Matching / Uplifting"
   ]
  },
  {
   "cell_type": "markdown",
   "id": "24e01078",
   "metadata": {},
   "source": [
    "In this tutorial, we are going to see how to estimate causal effects when the treatment is not *unconditionally* randomly assigned, but we need to condition on observable features in order to assume treatment exogeneity. This might happen either when an experiment is stratified or in observational studies.\n",
    "\n",
    "**Requisites**\n",
    "\n",
    "For this tutorial, I assume you are familiar with the following concepts:\n",
    "\n",
    "- Rubin's potential outcome framework\n",
    "- Ordinary least squares regression\n",
    "\n",
    "**Academic Application**\n",
    "\n",
    "As an academic application, we are going to replicate [Evaluating the Econometric Evaluations of Training Programs with Experimental Data](https://www.jstor.org/stable/2937954) (1986) by Lalonde and the followup paper [Causal Effects in Non-Experimental Studies: Reevaluating the Evaluation of Training Programs](https://www.tandfonline.com/doi/abs/10.1080/01621459.1999.10473858) (1999) by Dahejia and Wahba. These papers study a randomized intervention providing work experienced to improve labor market outcomes. \n",
    "\n",
    "**Business Case**\n",
    "\n",
    "TBD"
   ]
  },
  {
   "cell_type": "markdown",
   "id": "d65690df",
   "metadata": {},
   "source": [
    "## Setting"
   ]
  },
  {
   "cell_type": "markdown",
   "id": "c6e3b45c",
   "metadata": {},
   "source": [
    "We assume that for a set of i.i.d. subjects $i = 1, ..., n$ we observed a tuple $(X_i, D_i, Y_i)$ comprised of \n",
    "\n",
    "- a feature vector $X_i \\in \\mathbb R^n$\n",
    "- a treatment assignment $D_i \\in \\lbrace 0, 1 \\rbrace$\n",
    "- a response $Y_i \\in \\mathbb R$\n",
    "\n",
    "**Assumption 1 : unconfoundedness** (or ignorability, or selection on observables, or conditional independence)\n",
    "\n",
    "$$\n",
    "\\big \\lbrace Y_i^{(1)} , Y_i^{(0)} \\big \\rbrace \\ \\perp \\ D_i \\ | \\ X_i\n",
    "$$\n",
    "\n",
    "i.e. conditional on observable characteristics $X$, the treatment assignment $T$ is as good as random. What this assumption rules out is *selection on unobservables*. Moreover, it's *untestable*.\n",
    "\n",
    "**Assumption 2: overlap** (or common support)\n",
    "\n",
    "$$\n",
    "\\exists \\eta > 0 \\ : \\ \\eta \\leq \\mathbb E \\left[ D_i = 1 \\ \\big | \\ X_i = x \\right] \\leq 1-\\eta\n",
    "$$\n",
    "\n",
    "i.e. no observation is deterministically assigned to the treatment or control group. We need this assumption for counterfactual statements to make sense. If some observations had zero probability of (not) being treated, it would make no sense to try to estimate their counterfactual outcome in case they would have (not) being treated. Also this assumption is *untestable*.\n",
    "\n",
    "**Assumption 3: stable unit treatment value (SUTVA)**\n",
    "\n",
    "$$\n",
    "Y_i^{(D_i)} \\perp D_j \\quad \\forall j \\neq i\n",
    "$$\n",
    "\n",
    "i.e. the potential outcome of one individual is independent from the treatment status of any other individual. Common *violations* of this assumption include\n",
    "\n",
    "- general equilibrium effects\n",
    "- spillover effects\n",
    "\n",
    "This assumption is *untestable*."
   ]
  },
  {
   "cell_type": "markdown",
   "id": "6fee664e",
   "metadata": {},
   "source": [
    "## Propensity Scores"
   ]
  },
  {
   "cell_type": "markdown",
   "id": "32c10f9e",
   "metadata": {},
   "source": [
    "### Exogenous Treatment"
   ]
  },
  {
   "cell_type": "markdown",
   "id": "7559ca18",
   "metadata": {},
   "source": [
    "The **fundamental problem of causal inference** is that we do not observe counterfactual outcomes, i.e. we do not observe what would have happened to treated units if they had not received the treatment and viceversa. \n",
    "\n",
    "If treatment is exogenous, we know that the difference in means identifies the average treatment effect $\\mathbb E[\\tau]$.\n",
    "\n",
    "$$\n",
    "\\mathbb E[\\tau] = \\mathbb E \\big[ Y_i \\ \\big| \\ D_i = 1 \\big] - \\mathbb E \\big[ Y_i \\ \\big| \\ D_i = 0 \\big] = \\mathbb E \\big[ Y_{i}^{(1)} - Y_{i}^{(0)} \\big]\n",
    "$$\n",
    "\n",
    "Therefore, we can build an unbiased estimator of the average treatment effect as the empirical counterpart of the expression above\n",
    "\n",
    "$$\n",
    "\\hat \\tau(Y, D) = \\frac{1}{n} \\sum_{i=1}^{n} \\big( D_i Y_i - (1-D_i) Y_i \\big)\n",
    "$$\n",
    "\n",
    "In case treatment is not randomly assigned, we use the Thompson Horowitz (1952) estimator\n",
    "\n",
    "$$\n",
    "\\hat \\tau(Y, D) = \\frac{1}{n} \\sum_{i=1}^{n} \\left( \\frac{D_i Y_i}{\\pi_{i}} - \\frac{(1-D_i) Y_i}{1 - \\pi_{i}} \\right)\n",
    "$$\n",
    "\n",
    "where $\\pi_{i} = \\Pr(D_i=1)$ is the probability of being treated, also known as **propensity score**. Sometimes the propensity score is known, for example when treatment is stratified. However, in general, it is not."
   ]
  },
  {
   "cell_type": "markdown",
   "id": "6281303b",
   "metadata": {},
   "source": [
    "### Conditionally Exogenous Treatment"
   ]
  },
  {
   "cell_type": "markdown",
   "id": "38f676cb",
   "metadata": {},
   "source": [
    "In many cases and especially in observational studies, treatment $D$ is not unconditionally exogenous, but it's exogenous only after we condition on some characteristic $X$. If these characteristics are observables, we have the **unconfoundedness** assumption.\n",
    "\n",
    "Under unconfoundedness, we can still identify the average treatment effect, as a *conditional* difference in means:\n",
    "\n",
    "$$\n",
    "\\mathbb E[\\tau] = \\mathbb E \\big[ Y_{i}^{(1)} - Y_{i}^{(0)} \\ \\big| \\ X_i \\big]\n",
    "$$\n",
    "\n",
    "The main problem is that we need to condition of the observables that actually make the unconfoundedness assumption hold. This might be tricky in two cases:\n",
    "\n",
    "1. when we have many observables\n",
    "2. when we do not know the functional form of the observables that we need to condition on\n",
    "\n",
    "The main contribution of Rosenbaum and Rubin (1983) is to show that if **unconfoundedness** holds, then \n",
    "\n",
    "$$\n",
    "\\big \\lbrace Y_i^{(1)} , Y_i^{(0)} \\big \\rbrace \\ \\perp \\ D_i \\ | \\ \\pi(X_i)\n",
    "$$\n",
    "\n",
    "i.e. you only need to condition on $\\pi(X)$ in order to recover the average treatment effect. \n",
    "\n",
    "$$\n",
    "\\mathbb E[\\tau] = \\mathbb E \\big[ Y_{i}^{(1)} - Y_{i}^{(0)} \\ \\big| \\ \\pi(X_i) \\big]\n",
    "$$\n",
    "\n",
    "This implies the following **inverse propensity-weighted** estimator:\n",
    "\n",
    "$$\n",
    "\\hat \\tau^{IPW} = \\frac{1}{n} \\sum_{i=1}^{n} \\left( \\frac{D_i Y_i}{\\hat \\pi(X_i)} - \\frac{(1-D_i) Y_i}{1 - \\hat \\pi(X_i)} \\right)\n",
    "$$\n",
    "\n",
    "which, under *unconfoundedness* is an **unbiased** estimator of the average treatment effect, $\\mathbb E \\left[\\hat \\tau^{IPW} \\right] = \\tau$.\n",
    "\n",
    "This is a very practically relevant result since it tells us that we need to condition on a single variable instead of a potentially infinite dimensional array. The only thing we need to do is to estimate $\\pi(X_i)$."
   ]
  },
  {
   "cell_type": "markdown",
   "id": "bd846158",
   "metadata": {},
   "source": [
    "###  Comments"
   ]
  },
  {
   "cell_type": "markdown",
   "id": "b4b2d39a",
   "metadata": {},
   "source": [
    "**Actual vs Estimated Scores**\n",
    "\n",
    "Hirano and Ridder (2002) show that even when you know the true propensity score $\\pi(X)$, it's better to plug in the estimated propensity score $\\hat \\pi(X)$. Why? The idea is that the deviation between the actual and the estimated propensity score is providing some additional information. Therefore, it is best to use the actual fraction of treated rather than the theoretical one. \n",
    "\n",
    "**Propensity Scores and Regression**\n",
    "\n",
    "What is the difference between running a regression with controls vs doing propensity score matching?\n",
    "\n",
    "Aranow and Miller (2015) investigate this comparison in depth. First of all, whenever you are inserting **control variables** in a regression, you are implicitly thinking about propensity scores. Both approaches are implicitly estimating counterfactual outcomes. Usually OLS extrapolates further away from the actual support than propensity score does.\n",
    "\n",
    "In the tweet (and its comments) below you can find further discussion and comments.\n",
    "\n",
    "{{< tweet user=\"paulgp\" id=\"1470787510091632651\" >}}\n",
    "\n"
   ]
  },
  {
   "cell_type": "markdown",
   "id": "4a35d63c",
   "metadata": {},
   "source": [
    "## Academic Application"
   ]
  },
  {
   "cell_type": "markdown",
   "id": "e6ebe78f",
   "metadata": {},
   "source": [
    "As an academic application, we are going to replicate [Causal Effects in Non-Experimental Studies: Reevaluating the Evaluation of Training Programs](https://www.tandfonline.com/doi/abs/10.1080/01621459.1999.10473858) (1999) by Dahejia and Wahba.\n",
    "\n",
    "This study builds on a previous study: [Evaluating the Econometric Evaluations of Training Programs with Experimental Data](https://www.jstor.org/stable/2937954) (1986) by Lalonde. In this study, the author compares observational and experimental methods. In particular, he studies an experimental intervention called the NSW (National Supported Work demonstration). The NSW is a temporary training program to give work experience to unemployed people.\n",
    "\n",
    "The exogenous variation allows us to estimate the treatment effect as a difference in means. The author then asks: what if we didn't have access to an experiment? In particular, what if we did not have information on the control group? He takes a sample of untreated people from the PSID panel and use them as a control group."
   ]
  },
  {
   "cell_type": "markdown",
   "id": "6738cbf4",
   "metadata": {},
   "source": [
    "### Experimental Data"
   ]
  },
  {
   "cell_type": "markdown",
   "id": "d9a2e908",
   "metadata": {},
   "source": [
    "Let's start by loading the NSW data."
   ]
  },
  {
   "cell_type": "code",
   "execution_count": 1,
   "id": "1f653e4d",
   "metadata": {},
   "outputs": [],
   "source": [
    "%matplotlib inline\n",
    "%config InlineBackend.figure_format = 'retina'"
   ]
  },
  {
   "cell_type": "code",
   "execution_count": 2,
   "id": "5f75e7ac",
   "metadata": {},
   "outputs": [],
   "source": [
    "from src.utils import *"
   ]
  },
  {
   "cell_type": "code",
   "execution_count": 3,
   "id": "2d37334b",
   "metadata": {},
   "outputs": [
    {
     "data": {
      "text/html": [
       "<div>\n",
       "<style scoped>\n",
       "    .dataframe tbody tr th:only-of-type {\n",
       "        vertical-align: middle;\n",
       "    }\n",
       "\n",
       "    .dataframe tbody tr th {\n",
       "        vertical-align: top;\n",
       "    }\n",
       "\n",
       "    .dataframe thead th {\n",
       "        text-align: right;\n",
       "    }\n",
       "</style>\n",
       "<table border=\"1\" class=\"dataframe\">\n",
       "  <thead>\n",
       "    <tr style=\"text-align: right;\">\n",
       "      <th></th>\n",
       "      <th>treat</th>\n",
       "      <th>age</th>\n",
       "      <th>educ</th>\n",
       "      <th>black</th>\n",
       "      <th>hisp</th>\n",
       "      <th>marr</th>\n",
       "      <th>nodegree</th>\n",
       "      <th>re74</th>\n",
       "      <th>re75</th>\n",
       "      <th>re78</th>\n",
       "    </tr>\n",
       "  </thead>\n",
       "  <tbody>\n",
       "    <tr>\n",
       "      <th>0</th>\n",
       "      <td>1</td>\n",
       "      <td>37</td>\n",
       "      <td>11</td>\n",
       "      <td>1</td>\n",
       "      <td>0</td>\n",
       "      <td>1</td>\n",
       "      <td>1</td>\n",
       "      <td>0.0</td>\n",
       "      <td>0.0</td>\n",
       "      <td>9930.045898</td>\n",
       "    </tr>\n",
       "    <tr>\n",
       "      <th>1</th>\n",
       "      <td>1</td>\n",
       "      <td>22</td>\n",
       "      <td>9</td>\n",
       "      <td>0</td>\n",
       "      <td>1</td>\n",
       "      <td>0</td>\n",
       "      <td>1</td>\n",
       "      <td>0.0</td>\n",
       "      <td>0.0</td>\n",
       "      <td>3595.894043</td>\n",
       "    </tr>\n",
       "    <tr>\n",
       "      <th>2</th>\n",
       "      <td>1</td>\n",
       "      <td>30</td>\n",
       "      <td>12</td>\n",
       "      <td>1</td>\n",
       "      <td>0</td>\n",
       "      <td>0</td>\n",
       "      <td>0</td>\n",
       "      <td>0.0</td>\n",
       "      <td>0.0</td>\n",
       "      <td>24909.449219</td>\n",
       "    </tr>\n",
       "    <tr>\n",
       "      <th>3</th>\n",
       "      <td>1</td>\n",
       "      <td>27</td>\n",
       "      <td>11</td>\n",
       "      <td>1</td>\n",
       "      <td>0</td>\n",
       "      <td>0</td>\n",
       "      <td>1</td>\n",
       "      <td>0.0</td>\n",
       "      <td>0.0</td>\n",
       "      <td>7506.145996</td>\n",
       "    </tr>\n",
       "    <tr>\n",
       "      <th>4</th>\n",
       "      <td>1</td>\n",
       "      <td>33</td>\n",
       "      <td>8</td>\n",
       "      <td>1</td>\n",
       "      <td>0</td>\n",
       "      <td>0</td>\n",
       "      <td>1</td>\n",
       "      <td>0.0</td>\n",
       "      <td>0.0</td>\n",
       "      <td>289.789886</td>\n",
       "    </tr>\n",
       "  </tbody>\n",
       "</table>\n",
       "</div>"
      ],
      "text/plain": [
       "   treat  age  educ  black  hisp  marr  nodegree  re74  re75          re78\n",
       "0      1   37    11      1     0     1         1   0.0   0.0   9930.045898\n",
       "1      1   22     9      0     1     0         1   0.0   0.0   3595.894043\n",
       "2      1   30    12      1     0     0         0   0.0   0.0  24909.449219\n",
       "3      1   27    11      1     0     0         1   0.0   0.0   7506.145996\n",
       "4      1   33     8      1     0     0         1   0.0   0.0    289.789886"
      ]
     },
     "execution_count": 3,
     "metadata": {},
     "output_type": "execute_result"
    }
   ],
   "source": [
    "df_nsw = pd.read_csv('data/l86_nsw.csv')\n",
    "df_nsw.head()"
   ]
  },
  {
   "cell_type": "markdown",
   "id": "90bcc764",
   "metadata": {},
   "source": [
    "The treatment variable is `treat` and the outcome of interest is `re78`, the income in 1978. We also have access to a bunch of covariates."
   ]
  },
  {
   "cell_type": "code",
   "execution_count": 4,
   "id": "192669f5",
   "metadata": {},
   "outputs": [],
   "source": [
    "y = 're78'\n",
    "T = 'treat'\n",
    "X = df_nsw.columns[2:9]"
   ]
  },
  {
   "cell_type": "markdown",
   "id": "4f7b9090",
   "metadata": {},
   "source": [
    "Was there selection on observables? Let's summarize the data, according to treatment status."
   ]
  },
  {
   "cell_type": "code",
   "execution_count": 5,
   "id": "c9fb33c9",
   "metadata": {},
   "outputs": [
    {
     "data": {
      "text/html": [
       "<div>\n",
       "<style scoped>\n",
       "    .dataframe tbody tr th:only-of-type {\n",
       "        vertical-align: middle;\n",
       "    }\n",
       "\n",
       "    .dataframe tbody tr th {\n",
       "        vertical-align: top;\n",
       "    }\n",
       "\n",
       "    .dataframe thead tr th {\n",
       "        text-align: left;\n",
       "    }\n",
       "</style>\n",
       "<table border=\"1\" class=\"dataframe\">\n",
       "  <thead>\n",
       "    <tr>\n",
       "      <th>treat</th>\n",
       "      <th colspan=\"2\" halign=\"left\">0</th>\n",
       "      <th colspan=\"2\" halign=\"left\">1</th>\n",
       "    </tr>\n",
       "    <tr>\n",
       "      <th></th>\n",
       "      <th>mean</th>\n",
       "      <th>std</th>\n",
       "      <th>mean</th>\n",
       "      <th>std</th>\n",
       "    </tr>\n",
       "  </thead>\n",
       "  <tbody>\n",
       "    <tr>\n",
       "      <th>age</th>\n",
       "      <td>25.053846</td>\n",
       "      <td>7.057745</td>\n",
       "      <td>25.816216</td>\n",
       "      <td>7.155019</td>\n",
       "    </tr>\n",
       "    <tr>\n",
       "      <th>educ</th>\n",
       "      <td>10.088462</td>\n",
       "      <td>1.614325</td>\n",
       "      <td>10.345946</td>\n",
       "      <td>2.010650</td>\n",
       "    </tr>\n",
       "    <tr>\n",
       "      <th>black</th>\n",
       "      <td>0.826923</td>\n",
       "      <td>0.379043</td>\n",
       "      <td>0.843243</td>\n",
       "      <td>0.364558</td>\n",
       "    </tr>\n",
       "    <tr>\n",
       "      <th>hisp</th>\n",
       "      <td>0.107692</td>\n",
       "      <td>0.310589</td>\n",
       "      <td>0.059459</td>\n",
       "      <td>0.237124</td>\n",
       "    </tr>\n",
       "    <tr>\n",
       "      <th>marr</th>\n",
       "      <td>0.153846</td>\n",
       "      <td>0.361497</td>\n",
       "      <td>0.189189</td>\n",
       "      <td>0.392722</td>\n",
       "    </tr>\n",
       "    <tr>\n",
       "      <th>nodegree</th>\n",
       "      <td>0.834615</td>\n",
       "      <td>0.372244</td>\n",
       "      <td>0.708108</td>\n",
       "      <td>0.455867</td>\n",
       "    </tr>\n",
       "    <tr>\n",
       "      <th>re74</th>\n",
       "      <td>2107.026651</td>\n",
       "      <td>5687.905639</td>\n",
       "      <td>2095.573693</td>\n",
       "      <td>4886.620354</td>\n",
       "    </tr>\n",
       "    <tr>\n",
       "      <th>re75</th>\n",
       "      <td>1266.909015</td>\n",
       "      <td>3102.982088</td>\n",
       "      <td>1532.055313</td>\n",
       "      <td>3219.250879</td>\n",
       "    </tr>\n",
       "    <tr>\n",
       "      <th>re78</th>\n",
       "      <td>4554.801120</td>\n",
       "      <td>5483.836001</td>\n",
       "      <td>6349.143502</td>\n",
       "      <td>7867.402183</td>\n",
       "    </tr>\n",
       "  </tbody>\n",
       "</table>\n",
       "</div>"
      ],
      "text/plain": [
       "treat               0                         1             \n",
       "                 mean          std         mean          std\n",
       "age         25.053846     7.057745    25.816216     7.155019\n",
       "educ        10.088462     1.614325    10.345946     2.010650\n",
       "black        0.826923     0.379043     0.843243     0.364558\n",
       "hisp         0.107692     0.310589     0.059459     0.237124\n",
       "marr         0.153846     0.361497     0.189189     0.392722\n",
       "nodegree     0.834615     0.372244     0.708108     0.455867\n",
       "re74      2107.026651  5687.905639  2095.573693  4886.620354\n",
       "re75      1266.909015  3102.982088  1532.055313  3219.250879\n",
       "re78      4554.801120  5483.836001  6349.143502  7867.402183"
      ]
     },
     "execution_count": 5,
     "metadata": {},
     "output_type": "execute_result"
    }
   ],
   "source": [
    "df_nsw.groupby('treat').agg(['mean', 'std']).T.unstack(1)"
   ]
  },
  {
   "cell_type": "markdown",
   "id": "a772f09f",
   "metadata": {},
   "source": [
    "It seems that covariates are balanced across treatment arms. Nothing seems to point towards selection on observables. Therefore, we can compute the average treatment effect as a simple difference in means"
   ]
  },
  {
   "cell_type": "code",
   "execution_count": 6,
   "id": "908b4ab7",
   "metadata": {},
   "outputs": [
    {
     "data": {
      "text/plain": [
       "1794.3423818501024"
      ]
     },
     "execution_count": 6,
     "metadata": {},
     "output_type": "execute_result"
    }
   ],
   "source": [
    "df_nsw.loc[df_nsw[T]==1, y].mean() - df_nsw.loc[df_nsw[T]==0, y].mean()"
   ]
  },
  {
   "cell_type": "markdown",
   "id": "3d1ac435",
   "metadata": {},
   "source": [
    "Or equivalently in a regression"
   ]
  },
  {
   "cell_type": "code",
   "execution_count": 7,
   "id": "8b97f3cb",
   "metadata": {},
   "outputs": [
    {
     "data": {
      "text/html": [
       "<table class=\"simpletable\">\n",
       "<tr>\n",
       "      <td></td>         <th>coef</th>     <th>std err</th>      <th>t</th>      <th>P>|t|</th>  <th>[0.025</th>    <th>0.975]</th>  \n",
       "</tr>\n",
       "<tr>\n",
       "  <th>Intercept</th> <td> 4554.8011</td> <td>  408.046</td> <td>   11.162</td> <td> 0.000</td> <td> 3752.855</td> <td> 5356.747</td>\n",
       "</tr>\n",
       "<tr>\n",
       "  <th>treat</th>     <td> 1794.3424</td> <td>  632.853</td> <td>    2.835</td> <td> 0.005</td> <td>  550.574</td> <td> 3038.110</td>\n",
       "</tr>\n",
       "</table>"
      ],
      "text/plain": [
       "<class 'statsmodels.iolib.table.SimpleTable'>"
      ]
     },
     "execution_count": 7,
     "metadata": {},
     "output_type": "execute_result"
    }
   ],
   "source": [
    "est = smf.ols('re78 ~ treat', df_nsw).fit()\n",
    "est.summary().tables[1]"
   ]
  },
  {
   "cell_type": "markdown",
   "id": "8553a44e",
   "metadata": {},
   "source": [
    "It looks like the effect is positive and significant."
   ]
  },
  {
   "cell_type": "markdown",
   "id": "4bbc3850",
   "metadata": {},
   "source": [
    "### Observational Data"
   ]
  },
  {
   "cell_type": "markdown",
   "id": "5df4fae0",
   "metadata": {},
   "source": [
    "Let's now load a different dataset in which we have replaced the true control units with observations from the PSID sample."
   ]
  },
  {
   "cell_type": "code",
   "execution_count": 8,
   "id": "8697363b",
   "metadata": {},
   "outputs": [],
   "source": [
    "df_psid = pd.read_csv('data/l86_psid.csv')"
   ]
  },
  {
   "cell_type": "markdown",
   "id": "fc2de0b1",
   "metadata": {},
   "source": [
    "Is this dataset balanced?"
   ]
  },
  {
   "cell_type": "code",
   "execution_count": 9,
   "id": "841984ff",
   "metadata": {},
   "outputs": [
    {
     "data": {
      "text/html": [
       "<div>\n",
       "<style scoped>\n",
       "    .dataframe tbody tr th:only-of-type {\n",
       "        vertical-align: middle;\n",
       "    }\n",
       "\n",
       "    .dataframe tbody tr th {\n",
       "        vertical-align: top;\n",
       "    }\n",
       "\n",
       "    .dataframe thead tr th {\n",
       "        text-align: left;\n",
       "    }\n",
       "</style>\n",
       "<table border=\"1\" class=\"dataframe\">\n",
       "  <thead>\n",
       "    <tr>\n",
       "      <th>treat</th>\n",
       "      <th colspan=\"2\" halign=\"left\">0</th>\n",
       "      <th colspan=\"2\" halign=\"left\">1</th>\n",
       "    </tr>\n",
       "    <tr>\n",
       "      <th></th>\n",
       "      <th>mean</th>\n",
       "      <th>std</th>\n",
       "      <th>mean</th>\n",
       "      <th>std</th>\n",
       "    </tr>\n",
       "  </thead>\n",
       "  <tbody>\n",
       "    <tr>\n",
       "      <th>age</th>\n",
       "      <td>36.094862</td>\n",
       "      <td>12.081030</td>\n",
       "      <td>25.816216</td>\n",
       "      <td>7.155019</td>\n",
       "    </tr>\n",
       "    <tr>\n",
       "      <th>educ</th>\n",
       "      <td>10.766798</td>\n",
       "      <td>3.176827</td>\n",
       "      <td>10.345946</td>\n",
       "      <td>2.010650</td>\n",
       "    </tr>\n",
       "    <tr>\n",
       "      <th>black</th>\n",
       "      <td>0.391304</td>\n",
       "      <td>0.489010</td>\n",
       "      <td>0.843243</td>\n",
       "      <td>0.364558</td>\n",
       "    </tr>\n",
       "    <tr>\n",
       "      <th>hisp</th>\n",
       "      <td>0.067194</td>\n",
       "      <td>0.250853</td>\n",
       "      <td>0.059459</td>\n",
       "      <td>0.237124</td>\n",
       "    </tr>\n",
       "    <tr>\n",
       "      <th>marr</th>\n",
       "      <td>0.735178</td>\n",
       "      <td>0.442113</td>\n",
       "      <td>0.189189</td>\n",
       "      <td>0.392722</td>\n",
       "    </tr>\n",
       "    <tr>\n",
       "      <th>nodegree</th>\n",
       "      <td>0.486166</td>\n",
       "      <td>0.500799</td>\n",
       "      <td>0.708108</td>\n",
       "      <td>0.455867</td>\n",
       "    </tr>\n",
       "    <tr>\n",
       "      <th>re74</th>\n",
       "      <td>11027.303390</td>\n",
       "      <td>10814.670751</td>\n",
       "      <td>2095.573693</td>\n",
       "      <td>4886.620354</td>\n",
       "    </tr>\n",
       "    <tr>\n",
       "      <th>re75</th>\n",
       "      <td>7569.222058</td>\n",
       "      <td>9041.944403</td>\n",
       "      <td>1532.055313</td>\n",
       "      <td>3219.250879</td>\n",
       "    </tr>\n",
       "    <tr>\n",
       "      <th>re78</th>\n",
       "      <td>9995.949977</td>\n",
       "      <td>11184.450050</td>\n",
       "      <td>6349.143502</td>\n",
       "      <td>7867.402183</td>\n",
       "    </tr>\n",
       "  </tbody>\n",
       "</table>\n",
       "</div>"
      ],
      "text/plain": [
       "treat                0                          1             \n",
       "                  mean           std         mean          std\n",
       "age          36.094862     12.081030    25.816216     7.155019\n",
       "educ         10.766798      3.176827    10.345946     2.010650\n",
       "black         0.391304      0.489010     0.843243     0.364558\n",
       "hisp          0.067194      0.250853     0.059459     0.237124\n",
       "marr          0.735178      0.442113     0.189189     0.392722\n",
       "nodegree      0.486166      0.500799     0.708108     0.455867\n",
       "re74      11027.303390  10814.670751  2095.573693  4886.620354\n",
       "re75       7569.222058   9041.944403  1532.055313  3219.250879\n",
       "re78       9995.949977  11184.450050  6349.143502  7867.402183"
      ]
     },
     "execution_count": 9,
     "metadata": {},
     "output_type": "execute_result"
    }
   ],
   "source": [
    "df_psid.groupby('treat').agg(['mean', 'std']).T.unstack(1)"
   ]
  },
  {
   "cell_type": "markdown",
   "id": "df54cb82",
   "metadata": {},
   "source": [
    "People in the PSID control group are older, more educated, white, married and generally have considerably higher pre-intervention earnings (`re74`). This makes sense since the people selected for the NSW program are people that are younger, less experienced and unemployed. \n",
    "\n",
    "Lalonde (1986) argues in favor of experimental approaches by showing that using a non-experimental setting, one would not be able to estimate the true treatment effect. Actually, one could even get statistically significant results of the opposite sign.\n",
    "\n",
    "Let's repeat the regression exercise for the PSID data."
   ]
  },
  {
   "cell_type": "code",
   "execution_count": 10,
   "id": "86741f46",
   "metadata": {},
   "outputs": [
    {
     "data": {
      "text/html": [
       "<table class=\"simpletable\">\n",
       "<tr>\n",
       "      <td></td>         <th>coef</th>     <th>std err</th>      <th>t</th>      <th>P>|t|</th>  <th>[0.025</th>    <th>0.975]</th>  \n",
       "</tr>\n",
       "<tr>\n",
       "  <th>Intercept</th> <td> 9995.9500</td> <td>  623.715</td> <td>   16.026</td> <td> 0.000</td> <td> 8770.089</td> <td> 1.12e+04</td>\n",
       "</tr>\n",
       "<tr>\n",
       "  <th>treat</th>     <td>-3646.8065</td> <td>  959.704</td> <td>   -3.800</td> <td> 0.000</td> <td>-5533.027</td> <td>-1760.586</td>\n",
       "</tr>\n",
       "</table>"
      ],
      "text/plain": [
       "<class 'statsmodels.iolib.table.SimpleTable'>"
      ]
     },
     "execution_count": 10,
     "metadata": {},
     "output_type": "execute_result"
    }
   ],
   "source": [
    "smf.ols('re78 ~ treat', df_psid).fit().summary().tables[1]"
   ]
  },
  {
   "cell_type": "markdown",
   "id": "72c28796",
   "metadata": {},
   "source": [
    "The estimated coefficient is negative and significant. The conclusion from Lalonde (1986) is\n",
    "\n",
    "> \"This comparison shows that many of the econometric procedures d not replicate the experimentally determined results\".\n",
    "\n",
    "Dahejia and Wahba (1999) argue that with appropriate matching one would still be able to get a relatively precise estimate of the treatment effect. In particular, the argue in favor of controlling for pre-intervention income, `re74` and `re75`. \n",
    "\n",
    "Let's just linearly insert the control variables in the regression."
   ]
  },
  {
   "cell_type": "code",
   "execution_count": 11,
   "id": "ec2d6752",
   "metadata": {},
   "outputs": [
    {
     "data": {
      "text/html": [
       "<table class=\"simpletable\">\n",
       "<tr>\n",
       "      <td></td>         <th>coef</th>     <th>std err</th>      <th>t</th>      <th>P>|t|</th>  <th>[0.025</th>    <th>0.975]</th>  \n",
       "</tr>\n",
       "<tr>\n",
       "  <th>Intercept</th> <td>-1089.9263</td> <td> 2913.224</td> <td>   -0.374</td> <td> 0.708</td> <td>-6815.894</td> <td> 4636.042</td>\n",
       "</tr>\n",
       "<tr>\n",
       "  <th>treat</th>     <td> 2642.1456</td> <td> 1039.655</td> <td>    2.541</td> <td> 0.011</td> <td>  598.694</td> <td> 4685.597</td>\n",
       "</tr>\n",
       "<tr>\n",
       "  <th>educ</th>      <td>  521.5869</td> <td>  208.751</td> <td>    2.499</td> <td> 0.013</td> <td>  111.284</td> <td>  931.890</td>\n",
       "</tr>\n",
       "<tr>\n",
       "  <th>black</th>     <td>-1026.6762</td> <td> 1006.433</td> <td>   -1.020</td> <td> 0.308</td> <td>-3004.830</td> <td>  951.478</td>\n",
       "</tr>\n",
       "<tr>\n",
       "  <th>hisp</th>      <td> -903.1023</td> <td> 1726.419</td> <td>   -0.523</td> <td> 0.601</td> <td>-4296.394</td> <td> 2490.189</td>\n",
       "</tr>\n",
       "<tr>\n",
       "  <th>marr</th>      <td> 1026.6143</td> <td>  943.788</td> <td>    1.088</td> <td> 0.277</td> <td> -828.410</td> <td> 2881.639</td>\n",
       "</tr>\n",
       "<tr>\n",
       "  <th>nodegree</th>  <td>-1469.3712</td> <td> 1166.114</td> <td>   -1.260</td> <td> 0.208</td> <td>-3761.379</td> <td>  822.637</td>\n",
       "</tr>\n",
       "<tr>\n",
       "  <th>re74</th>      <td>    0.1928</td> <td>    0.058</td> <td>    3.329</td> <td> 0.001</td> <td>    0.079</td> <td>    0.307</td>\n",
       "</tr>\n",
       "<tr>\n",
       "  <th>re75</th>      <td>    0.4976</td> <td>    0.070</td> <td>    7.068</td> <td> 0.000</td> <td>    0.359</td> <td>    0.636</td>\n",
       "</tr>\n",
       "</table>"
      ],
      "text/plain": [
       "<class 'statsmodels.iolib.table.SimpleTable'>"
      ]
     },
     "execution_count": 11,
     "metadata": {},
     "output_type": "execute_result"
    }
   ],
   "source": [
    "smf.ols('re78 ~ treat + ' + ' + '.join(X), df_psid).fit().summary().tables[1]"
   ]
  },
  {
   "cell_type": "markdown",
   "id": "174fd7c2",
   "metadata": {},
   "source": [
    "The treatment effect is now positive, borderline significant, and close to the experimental estimate of $1794\\$$. Moreover, it's hard to tell whether this is the correct functional form for the control variables."
   ]
  },
  {
   "cell_type": "markdown",
   "id": "6c4cc3db",
   "metadata": {},
   "source": [
    "### Inverse propensity score weighting"
   ]
  },
  {
   "cell_type": "markdown",
   "id": "8aabc909",
   "metadata": {},
   "source": [
    "Another option is to use **inverse propensity score weighting**. First, we need to estimate the treatment probability. Let's start with a very simple standard model to predict binary outcomes."
   ]
  },
  {
   "cell_type": "code",
   "execution_count": 12,
   "id": "c8de23e8",
   "metadata": {},
   "outputs": [],
   "source": [
    "from sklearn.linear_model import LogisticRegressionCV\n",
    "\n",
    "pi = LogisticRegressionCV().fit(y=df_psid[T], X=df_psid[X])\n",
    "df_psid['pscore'] = pi.predict_proba(df_psid[X])[:,1]"
   ]
  },
  {
   "cell_type": "markdown",
   "id": "f4e7bd76",
   "metadata": {},
   "source": [
    "How does the distribution of the propensity scores look like?"
   ]
  },
  {
   "cell_type": "code",
   "execution_count": 13,
   "id": "1b26b314",
   "metadata": {},
   "outputs": [
    {
     "data": {
      "image/png": "[encoded data removed]",
      "text/plain": [
       "<Figure size 720x432 with 1 Axes>"
      ]
     },
     "metadata": {
      "image/png": {
       "height": 390,
       "width": 609
      }
     },
     "output_type": "display_data"
    }
   ],
   "source": [
    "sns.histplot(data=df_psid, x='pscore', hue=T, bins=20)\\\n",
    ".set(title='Distribution of propensity scores, PSID data', xlabel='');"
   ]
  },
  {
   "cell_type": "markdown",
   "id": "0d8055c2",
   "metadata": {},
   "source": [
    "It seems that indeed we predict higher propensity scores for treated people, and viceversa, indicating a strong selection on observable. However, there is also a considerable amount of overlap. \n",
    "\n",
    "We can now estimate the treatment effect by weighting by the inverse of the propensity score. First, let's exclude observations with a very extreme predicted score."
   ]
  },
  {
   "cell_type": "code",
   "execution_count": 14,
   "id": "9159a871",
   "metadata": {},
   "outputs": [],
   "source": [
    "df_psid1 = df_psid[(df_psid['pscore']<0.9) & (df_psid['pscore']>0.1)]"
   ]
  },
  {
   "cell_type": "markdown",
   "id": "d98239bc",
   "metadata": {},
   "source": [
    "Now we can need to construct the weights."
   ]
  },
  {
   "cell_type": "code",
   "execution_count": 15,
   "id": "41700860",
   "metadata": {},
   "outputs": [],
   "source": [
    "df_psid1['weight'] = df_psid1['treat'] / df_psid1['pscore'] + (1-df_psid1['treat']) / (1-df_psid1['pscore'])"
   ]
  },
  {
   "cell_type": "markdown",
   "id": "e55187fb",
   "metadata": {},
   "source": [
    "Finally, we run a weighted regression of income on the treatment program."
   ]
  },
  {
   "cell_type": "code",
   "execution_count": 16,
   "id": "0297f4ad",
   "metadata": {},
   "outputs": [
    {
     "data": {
      "text/html": [
       "<table class=\"simpletable\">\n",
       "<tr>\n",
       "      <td></td>         <th>coef</th>     <th>std err</th>      <th>t</th>      <th>P>|t|</th>  <th>[0.025</th>    <th>0.975]</th>  \n",
       "</tr>\n",
       "<tr>\n",
       "  <th>Intercept</th> <td> 4038.1507</td> <td>  512.268</td> <td>    7.883</td> <td> 0.000</td> <td> 3030.227</td> <td> 5046.074</td>\n",
       "</tr>\n",
       "<tr>\n",
       "  <th>treat</th>     <td> 2166.8750</td> <td>  730.660</td> <td>    2.966</td> <td> 0.003</td> <td>  729.250</td> <td> 3604.500</td>\n",
       "</tr>\n",
       "</table>"
      ],
      "text/plain": [
       "<class 'statsmodels.iolib.table.SimpleTable'>"
      ]
     },
     "execution_count": 16,
     "metadata": {},
     "output_type": "execute_result"
    }
   ],
   "source": [
    "est = smf.wls('re78 ~ treat', df_psid1, weights=df_psid1['weight']).fit()\n",
    "est.summary().tables[1]"
   ]
  },
  {
   "cell_type": "markdown",
   "id": "65c53a5b",
   "metadata": {},
   "source": [
    "The effect is positive, statistically significant and very close to the experimental estimate of $1794\\$$.\n",
    "\n",
    "What would have been the propensity scores if we had used the NSW experimental sample? If it's a well done experiment with a sufficiently large sample, we would expect the propensity scores to concentrate around the percentage of people treated, $0.41$ in our data."
   ]
  },
  {
   "cell_type": "code",
   "execution_count": 17,
   "id": "3c296020",
   "metadata": {},
   "outputs": [],
   "source": [
    "pi = LogisticRegressionCV().fit(y=df_nsw[T], X=df_nsw[X])\n",
    "df_nsw['pscore'] = pi.predict_proba(df_nsw[X])[:,1]"
   ]
  },
  {
   "cell_type": "code",
   "execution_count": 18,
   "id": "cd3b0d0b",
   "metadata": {},
   "outputs": [
    {
     "data": {
      "image/png": "[encoded data removed]",
      "text/plain": [
       "<Figure size 720x432 with 1 Axes>"
      ]
     },
     "metadata": {
      "image/png": {
       "height": 390,
       "width": 614
      }
     },
     "output_type": "display_data"
    }
   ],
   "source": [
    "sns.histplot(data=df_nsw, x='pscore', hue=T, bins=20)\\\n",
    ".set(title='Distribution of propensity scores, NSW data', xlabel='');"
   ]
  },
  {
   "cell_type": "markdown",
   "id": "4b0f1dba",
   "metadata": {},
   "source": [
    "Indeed, now the distribution of the p-scores is concentrated around the treatment frequency in the data. Remarkably, the standard deviation is extremely tight."
   ]
  },
  {
   "cell_type": "markdown",
   "id": "a7053486",
   "metadata": {},
   "source": [
    "## References"
   ]
  },
  {
   "cell_type": "markdown",
   "id": "407c8eb5",
   "metadata": {},
   "source": [
    "- [The central role of the propensity score in observational studies for causal effects](https://academic.oup.com/biomet/article/70/1/41/240879) (1983) by Rosenbaum and Rubin\n",
    "- [Propensity Scores](https://www.youtube.com/watch?v=8gWctYvRzk4) video lecture by Paul Goldsmith-Pinkham (Yale)\n",
    "- [Propensity Scores](https://www.youtube.com/watch?v=m3Y8heXoDxE) video lecture by Stefan Wager (Stanford)"
   ]
  }
 ],
 "metadata": {
  "kernelspec": {
   "display_name": "Python (conda)",
   "language": "python",
   "name": "base"
  },
  "language_info": {
   "codemirror_mode": {
    "name": "ipython",
    "version": 3
   },
   "file_extension": ".py",
   "mimetype": "text/x-python",
   "name": "python",
   "nbconvert_exporter": "python",
   "pygments_lexer": "ipython3",
   "version": "3.9.7"
  }
 },
 "nbformat": 4,
 "nbformat_minor": 5
}
